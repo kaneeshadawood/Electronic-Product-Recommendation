{
 "cells": [
  {
   "cell_type": "code",
   "execution_count": 1,
   "metadata": {},
   "outputs": [],
   "source": [
    "# Importing Packages\n",
    "%matplotlib inline\n",
    "import pandas as pd \n",
    "import numpy as np\n",
    "import seaborn as sns\n",
    "import matplotlib.pyplot as plt\n",
    "import scipy\n",
    "from scipy.sparse import csr_matrix\n",
    "from scipy.sparse.linalg import svds\n",
    "import os\n",
    "import warnings\n",
    "import sklearn\n",
    "warnings.filterwarnings('ignore')\n",
    "\n",
    "# Preprocessing\n",
    "from sklearn.decomposition import PCA\n",
    "from sklearn.preprocessing import normalize\n",
    "from sklearn.preprocessing import StandardScaler\n",
    "from sklearn.utils import resample\n",
    "\n",
    "# Training the classifier\n",
    "from sklearn.pipeline import Pipeline \n",
    "from sklearn.model_selection import train_test_split, GridSearchCV\n",
    "\n",
    "# Classifiers for building models\n",
    "from sklearn.neighbors import KNeighborsClassifier\n",
    "from sklearn.neighbors import NearestNeighbors\n",
    "from sklearn.model_selection import cross_val_score\n",
    "from sklearn.metrics import mean_squared_error\n",
    "from sklearn.metrics import accuracy_score, confusion_matrix, classification_report\n",
    "from sklearn.metrics.pairwise import cosine_similarity"
   ]
  },
  {
   "cell_type": "markdown",
   "metadata": {},
   "source": [
    "# Background:\n",
    "\n",
    "We live in a world surrounded by multiple products that fit our varied needs. Consumers are often overwhelmed and stressed because of the unlimited choices the website offers. \n",
    "\n",
    "**Problem Statement**\n",
    "\n",
    "I, personally, have spent a lot of time in getting to learn about products, their attributes, and benefits. The main problem customers face now has gone from lack of information to information overload and filter failure. Additionally consumers encounter:\n",
    "- slower load times \n",
    "- irrelevant product previews\n",
    "- insufficient feature attributes\n",
    "\n",
    "Amazon leverage recommender systems to help them identify user preferences and choices of specific products. This will not only help Amazon gather information about their existing customers,  but it also helps Amazon's clients boost revenue incrementally. Recommendation systems offer convenience and it helps you choose a product that fits your needs.\n",
    " \n",
    "\n",
    "# Goal:\n",
    "\n",
    "My goal is to build a recommendation model to better predict user’s electronic product choices for Amazon. I chose the [Amazon Electronics Dataset](https://cseweb.ucsd.edu/~jmcauley/datasets.html#market_bias) to provide easy access, convenience, and personalized choice for the e-commerce user. \n",
    "\n",
    "I believe a recommender system could solve e-commerce user's product choice problem due to the following reasons:\n",
    "- It provides relevant recommendation to match the user preferences\n",
    "- Increases user engagement\n",
    "- Helps the user find the right product\n",
    "- Helps Amazon boost revenue in the product category\n",
    "- Saves time for the user and the business/brand"
   ]
  },
  {
   "cell_type": "markdown",
   "metadata": {},
   "source": [
    "# What is a recommendation system?\n",
    "\n",
    "Recommendation engines identify things a user may like depending on the products the user interacted in the past. It provides a way of surfacing new content that a user might like but didn't know to search for.It allows the company to personalize user experience, by recording likes and dislikes. Moreover, recommenders can suggest new products or apps relevant to the interest that the user has shared; thereby modelling peoples' preferences and behavior.\n",
    "\n",
    "In Amazon's Electronics platform, Amazon aggregates the items from similar customers, eliminates items the user has already purchased or rated, and recommends the remaining item to the user. This system has also helped Amazon interact with their customers by engaging in their product choices. This has inherently helped Amazon become a more viable e-commerce platform in the modern day.\n",
    "\n",
    "Amazon currently uses item-to-item collaborative filtering, which scales to massive data sets and produces high-quality recommendations in real time.This type of filtering matches each of the user’s purchased and rated items to similar items, then combines those similar items into a recommendation list for the user.Their recommendation algorithm is an effective way of creating a personalized shopping experience for each customer which helps Amazon increase average order value and the amount of revenue generated from each customer.\n",
    "\n",
    "Recommender systems offer the following benefits:\n",
    "\n",
    "**For Users:**\n",
    "- Helps users find related content\n",
    "- Helps users explore new items\n",
    "- Improves user decision making (by only leaving the most relevant items for the user)\n",
    "\n",
    "**For producers:**\n",
    "- Increases user satisfaction and engagement\n",
    "- Learns more about the customers by examing interactions to their products\n",
    "- Changes user behavior"
   ]
  },
  {
   "cell_type": "markdown",
   "metadata": {},
   "source": [
    "# Dataset Attributes\n",
    "\n",
    "The dataset entails the following 8 features:\n",
    "\n",
    "- user_id: unique id for each user\n",
    "- item_id: unique id for each product\n",
    "- rating: from 1.0 - 5.0\n",
    "- timestamp: time of the rating\n",
    "- model_attr: what gender is the product suitable for\n",
    "- category: the specific class of the electronic category\n",
    "- brand: the specific electronic brand\n",
    "- year: year in which the electronic was purchased\n",
    "- user_attr: gender specific choices\n",
    "- split\n",
    "\n",
    "We load in the data set using pandas `read_csv()` utility."
   ]
  },
  {
   "cell_type": "code",
   "execution_count": 2,
   "metadata": {
    "scrolled": true
   },
   "outputs": [
    {
     "data": {
      "text/html": [
       "<div>\n",
       "<style scoped>\n",
       "    .dataframe tbody tr th:only-of-type {\n",
       "        vertical-align: middle;\n",
       "    }\n",
       "\n",
       "    .dataframe tbody tr th {\n",
       "        vertical-align: top;\n",
       "    }\n",
       "\n",
       "    .dataframe thead th {\n",
       "        text-align: right;\n",
       "    }\n",
       "</style>\n",
       "<table border=\"1\" class=\"dataframe\">\n",
       "  <thead>\n",
       "    <tr style=\"text-align: right;\">\n",
       "      <th></th>\n",
       "      <th>item_id</th>\n",
       "      <th>user_id</th>\n",
       "      <th>rating</th>\n",
       "      <th>timestamp</th>\n",
       "      <th>model_attr</th>\n",
       "      <th>category</th>\n",
       "      <th>brand</th>\n",
       "      <th>year</th>\n",
       "      <th>user_attr</th>\n",
       "      <th>split</th>\n",
       "    </tr>\n",
       "  </thead>\n",
       "  <tbody>\n",
       "    <tr>\n",
       "      <th>0</th>\n",
       "      <td>0</td>\n",
       "      <td>0</td>\n",
       "      <td>5.0</td>\n",
       "      <td>1999-06-13</td>\n",
       "      <td>Female</td>\n",
       "      <td>Portable Audio &amp; Video</td>\n",
       "      <td>NaN</td>\n",
       "      <td>1999</td>\n",
       "      <td>NaN</td>\n",
       "      <td>0</td>\n",
       "    </tr>\n",
       "    <tr>\n",
       "      <th>1</th>\n",
       "      <td>0</td>\n",
       "      <td>1</td>\n",
       "      <td>5.0</td>\n",
       "      <td>1999-06-14</td>\n",
       "      <td>Female</td>\n",
       "      <td>Portable Audio &amp; Video</td>\n",
       "      <td>NaN</td>\n",
       "      <td>1999</td>\n",
       "      <td>NaN</td>\n",
       "      <td>0</td>\n",
       "    </tr>\n",
       "    <tr>\n",
       "      <th>2</th>\n",
       "      <td>0</td>\n",
       "      <td>2</td>\n",
       "      <td>3.0</td>\n",
       "      <td>1999-06-17</td>\n",
       "      <td>Female</td>\n",
       "      <td>Portable Audio &amp; Video</td>\n",
       "      <td>NaN</td>\n",
       "      <td>1999</td>\n",
       "      <td>NaN</td>\n",
       "      <td>0</td>\n",
       "    </tr>\n",
       "    <tr>\n",
       "      <th>3</th>\n",
       "      <td>0</td>\n",
       "      <td>3</td>\n",
       "      <td>1.0</td>\n",
       "      <td>1999-07-01</td>\n",
       "      <td>Female</td>\n",
       "      <td>Portable Audio &amp; Video</td>\n",
       "      <td>NaN</td>\n",
       "      <td>1999</td>\n",
       "      <td>NaN</td>\n",
       "      <td>0</td>\n",
       "    </tr>\n",
       "    <tr>\n",
       "      <th>4</th>\n",
       "      <td>0</td>\n",
       "      <td>4</td>\n",
       "      <td>2.0</td>\n",
       "      <td>1999-07-06</td>\n",
       "      <td>Female</td>\n",
       "      <td>Portable Audio &amp; Video</td>\n",
       "      <td>NaN</td>\n",
       "      <td>1999</td>\n",
       "      <td>NaN</td>\n",
       "      <td>0</td>\n",
       "    </tr>\n",
       "    <tr>\n",
       "      <th>5</th>\n",
       "      <td>0</td>\n",
       "      <td>5</td>\n",
       "      <td>2.0</td>\n",
       "      <td>1999-07-12</td>\n",
       "      <td>Female</td>\n",
       "      <td>Portable Audio &amp; Video</td>\n",
       "      <td>NaN</td>\n",
       "      <td>1999</td>\n",
       "      <td>NaN</td>\n",
       "      <td>0</td>\n",
       "    </tr>\n",
       "    <tr>\n",
       "      <th>6</th>\n",
       "      <td>0</td>\n",
       "      <td>6</td>\n",
       "      <td>5.0</td>\n",
       "      <td>1999-07-13</td>\n",
       "      <td>Female</td>\n",
       "      <td>Portable Audio &amp; Video</td>\n",
       "      <td>NaN</td>\n",
       "      <td>1999</td>\n",
       "      <td>NaN</td>\n",
       "      <td>0</td>\n",
       "    </tr>\n",
       "    <tr>\n",
       "      <th>7</th>\n",
       "      <td>0</td>\n",
       "      <td>7</td>\n",
       "      <td>2.0</td>\n",
       "      <td>1999-07-13</td>\n",
       "      <td>Female</td>\n",
       "      <td>Portable Audio &amp; Video</td>\n",
       "      <td>NaN</td>\n",
       "      <td>1999</td>\n",
       "      <td>NaN</td>\n",
       "      <td>0</td>\n",
       "    </tr>\n",
       "    <tr>\n",
       "      <th>8</th>\n",
       "      <td>0</td>\n",
       "      <td>8</td>\n",
       "      <td>4.0</td>\n",
       "      <td>1999-07-16</td>\n",
       "      <td>Female</td>\n",
       "      <td>Portable Audio &amp; Video</td>\n",
       "      <td>NaN</td>\n",
       "      <td>1999</td>\n",
       "      <td>NaN</td>\n",
       "      <td>0</td>\n",
       "    </tr>\n",
       "    <tr>\n",
       "      <th>9</th>\n",
       "      <td>0</td>\n",
       "      <td>9</td>\n",
       "      <td>5.0</td>\n",
       "      <td>1999-08-20</td>\n",
       "      <td>Female</td>\n",
       "      <td>Portable Audio &amp; Video</td>\n",
       "      <td>NaN</td>\n",
       "      <td>1999</td>\n",
       "      <td>NaN</td>\n",
       "      <td>0</td>\n",
       "    </tr>\n",
       "  </tbody>\n",
       "</table>\n",
       "</div>"
      ],
      "text/plain": [
       "   item_id  user_id  rating   timestamp model_attr                category  \\\n",
       "0        0        0     5.0  1999-06-13     Female  Portable Audio & Video   \n",
       "1        0        1     5.0  1999-06-14     Female  Portable Audio & Video   \n",
       "2        0        2     3.0  1999-06-17     Female  Portable Audio & Video   \n",
       "3        0        3     1.0  1999-07-01     Female  Portable Audio & Video   \n",
       "4        0        4     2.0  1999-07-06     Female  Portable Audio & Video   \n",
       "5        0        5     2.0  1999-07-12     Female  Portable Audio & Video   \n",
       "6        0        6     5.0  1999-07-13     Female  Portable Audio & Video   \n",
       "7        0        7     2.0  1999-07-13     Female  Portable Audio & Video   \n",
       "8        0        8     4.0  1999-07-16     Female  Portable Audio & Video   \n",
       "9        0        9     5.0  1999-08-20     Female  Portable Audio & Video   \n",
       "\n",
       "  brand  year user_attr  split  \n",
       "0   NaN  1999       NaN      0  \n",
       "1   NaN  1999       NaN      0  \n",
       "2   NaN  1999       NaN      0  \n",
       "3   NaN  1999       NaN      0  \n",
       "4   NaN  1999       NaN      0  \n",
       "5   NaN  1999       NaN      0  \n",
       "6   NaN  1999       NaN      0  \n",
       "7   NaN  1999       NaN      0  \n",
       "8   NaN  1999       NaN      0  \n",
       "9   NaN  1999       NaN      0  "
      ]
     },
     "execution_count": 2,
     "metadata": {},
     "output_type": "execute_result"
    }
   ],
   "source": [
    "import os\n",
    "electronics = \"/home/kaneeshadawood/df_electronics.csv\"\n",
    "\n",
    "# Loading data from the csv file. \n",
    "data = pd.read_csv(\"/home/kaneeshadawood/df_electronics.csv\")\n",
    "data.head(10)"
   ]
  },
  {
   "cell_type": "markdown",
   "metadata": {},
   "source": [
    "Using the `info` commands we can get a brief description of our dataset. This is important in order to enable us understand the dataset we are working with."
   ]
  },
  {
   "cell_type": "code",
   "execution_count": 3,
   "metadata": {
    "scrolled": true
   },
   "outputs": [
    {
     "name": "stdout",
     "output_type": "stream",
     "text": [
      "<class 'pandas.core.frame.DataFrame'>\n",
      "RangeIndex: 1292954 entries, 0 to 1292953\n",
      "Data columns (total 10 columns):\n",
      "item_id       1292954 non-null int64\n",
      "user_id       1292954 non-null int64\n",
      "rating        1292954 non-null float64\n",
      "timestamp     1292954 non-null object\n",
      "model_attr    1292954 non-null object\n",
      "category      1292954 non-null object\n",
      "brand         331120 non-null object\n",
      "year          1292954 non-null int64\n",
      "user_attr     174124 non-null object\n",
      "split         1292954 non-null int64\n",
      "dtypes: float64(1), int64(4), object(5)\n",
      "memory usage: 98.6+ MB\n"
     ]
    }
   ],
   "source": [
    "data.info()"
   ]
  },
  {
   "cell_type": "code",
   "execution_count": 4,
   "metadata": {},
   "outputs": [
    {
     "name": "stdout",
     "output_type": "stream",
     "text": [
      "electronics: (1292954, 10)\n"
     ]
    }
   ],
   "source": [
    "# Shapes of dataframes\n",
    "print(\"electronics:\", data.shape)"
   ]
  },
  {
   "cell_type": "markdown",
   "metadata": {},
   "source": [
    "Our dataset consist of 1292954 entries and 10 fields. There are both numerical and categorical variable features. Let's eleminate some features but first let's confirm the null values:"
   ]
  },
  {
   "cell_type": "code",
   "execution_count": 5,
   "metadata": {},
   "outputs": [
    {
     "data": {
      "text/html": [
       "<div>\n",
       "<style scoped>\n",
       "    .dataframe tbody tr th:only-of-type {\n",
       "        vertical-align: middle;\n",
       "    }\n",
       "\n",
       "    .dataframe tbody tr th {\n",
       "        vertical-align: top;\n",
       "    }\n",
       "\n",
       "    .dataframe thead th {\n",
       "        text-align: right;\n",
       "    }\n",
       "</style>\n",
       "<table border=\"1\" class=\"dataframe\">\n",
       "  <thead>\n",
       "    <tr style=\"text-align: right;\">\n",
       "      <th></th>\n",
       "      <th>Total</th>\n",
       "      <th>Percent</th>\n",
       "    </tr>\n",
       "  </thead>\n",
       "  <tbody>\n",
       "    <tr>\n",
       "      <th>user_attr</th>\n",
       "      <td>1118830</td>\n",
       "      <td>0.865329</td>\n",
       "    </tr>\n",
       "    <tr>\n",
       "      <th>brand</th>\n",
       "      <td>961834</td>\n",
       "      <td>0.743904</td>\n",
       "    </tr>\n",
       "    <tr>\n",
       "      <th>split</th>\n",
       "      <td>0</td>\n",
       "      <td>0.000000</td>\n",
       "    </tr>\n",
       "    <tr>\n",
       "      <th>year</th>\n",
       "      <td>0</td>\n",
       "      <td>0.000000</td>\n",
       "    </tr>\n",
       "    <tr>\n",
       "      <th>category</th>\n",
       "      <td>0</td>\n",
       "      <td>0.000000</td>\n",
       "    </tr>\n",
       "    <tr>\n",
       "      <th>model_attr</th>\n",
       "      <td>0</td>\n",
       "      <td>0.000000</td>\n",
       "    </tr>\n",
       "    <tr>\n",
       "      <th>timestamp</th>\n",
       "      <td>0</td>\n",
       "      <td>0.000000</td>\n",
       "    </tr>\n",
       "    <tr>\n",
       "      <th>rating</th>\n",
       "      <td>0</td>\n",
       "      <td>0.000000</td>\n",
       "    </tr>\n",
       "    <tr>\n",
       "      <th>user_id</th>\n",
       "      <td>0</td>\n",
       "      <td>0.000000</td>\n",
       "    </tr>\n",
       "    <tr>\n",
       "      <th>item_id</th>\n",
       "      <td>0</td>\n",
       "      <td>0.000000</td>\n",
       "    </tr>\n",
       "  </tbody>\n",
       "</table>\n",
       "</div>"
      ],
      "text/plain": [
       "              Total   Percent\n",
       "user_attr   1118830  0.865329\n",
       "brand        961834  0.743904\n",
       "split             0  0.000000\n",
       "year              0  0.000000\n",
       "category          0  0.000000\n",
       "model_attr        0  0.000000\n",
       "timestamp         0  0.000000\n",
       "rating            0  0.000000\n",
       "user_id           0  0.000000\n",
       "item_id           0  0.000000"
      ]
     },
     "execution_count": 5,
     "metadata": {},
     "output_type": "execute_result"
    }
   ],
   "source": [
    "#missing data\n",
    "total = data.isnull().sum().sort_values(ascending=False)\n",
    "percent = (data.isnull().sum()/data.isnull().count()).sort_values(ascending=False)\n",
    "missing_data = pd.concat([total, percent], axis=1, keys=['Total', 'Percent'])\n",
    "missing_data.head(10)"
   ]
  },
  {
   "cell_type": "markdown",
   "metadata": {},
   "source": [
    "We have a higher proportion of missing values in the 'user_attr' and 'brand' columns. For simplicity's sake, I will drop these columns while preprocessing. \n",
    "\n",
    "The features that I choose to keep in the recommender are: 'user_id', 'item_id', 'rating' and 'category'. I believe that these are useful features in building a recommender system."
   ]
  },
  {
   "cell_type": "code",
   "execution_count": 6,
   "metadata": {},
   "outputs": [
    {
     "name": "stdout",
     "output_type": "stream",
     "text": [
      "Top 10 users based on ratings: \n",
      " user_id\n",
      "142967    41\n",
      "30661     38\n",
      "89185     37\n",
      "46878     34\n",
      "80476     34\n",
      "247264    32\n",
      "22606     32\n",
      "18111     32\n",
      "7605      32\n",
      "3939      31\n",
      "dtype: int64\n"
     ]
    }
   ],
   "source": [
    "#Who are the top 10 users based on ratings?\n",
    "most_rated = data.groupby('user_id').size().sort_values(ascending=False)[:10]\n",
    "print('Top 10 users based on ratings: \\n',most_rated)"
   ]
  },
  {
   "cell_type": "code",
   "execution_count": 8,
   "metadata": {},
   "outputs": [
    {
     "data": {
      "text/html": [
       "<div>\n",
       "<style scoped>\n",
       "    .dataframe tbody tr th:only-of-type {\n",
       "        vertical-align: middle;\n",
       "    }\n",
       "\n",
       "    .dataframe tbody tr th {\n",
       "        vertical-align: top;\n",
       "    }\n",
       "\n",
       "    .dataframe thead th {\n",
       "        text-align: right;\n",
       "    }\n",
       "</style>\n",
       "<table border=\"1\" class=\"dataframe\">\n",
       "  <thead>\n",
       "    <tr style=\"text-align: right;\">\n",
       "      <th></th>\n",
       "      <th>item_id</th>\n",
       "      <th>user_id</th>\n",
       "      <th>rating</th>\n",
       "      <th>timestamp</th>\n",
       "      <th>model_attr</th>\n",
       "      <th>category</th>\n",
       "      <th>brand</th>\n",
       "      <th>year</th>\n",
       "      <th>user_attr</th>\n",
       "      <th>split</th>\n",
       "    </tr>\n",
       "  </thead>\n",
       "  <tbody>\n",
       "  </tbody>\n",
       "</table>\n",
       "</div>"
      ],
      "text/plain": [
       "Empty DataFrame\n",
       "Columns: [item_id, user_id, rating, timestamp, model_attr, category, brand, year, user_attr, split]\n",
       "Index: []"
      ]
     },
     "execution_count": 8,
     "metadata": {},
     "output_type": "execute_result"
    }
   ],
   "source": [
    "# Has the customer rated the item twice?\n",
    "\n",
    "purchase_ids = ['item_id', 'user_id']\n",
    "\n",
    "# Get a dataframe consisting only of reviews that are duplicated\n",
    "duplicates = data[data.duplicated(subset=purchase_ids)].sort_values(purchase_ids)\n",
    "duplicates"
   ]
  },
  {
   "cell_type": "code",
   "execution_count": 7,
   "metadata": {},
   "outputs": [
    {
     "name": "stdout",
     "output_type": "stream",
     "text": [
      "Memory usage is 103.436 MB\n"
     ]
    }
   ],
   "source": [
    "BYTES_TO_MB_DIV = 0.000001\n",
    "def print_memory_usage_of_data_frame(df):\n",
    "    mem = round(df.memory_usage().sum() * BYTES_TO_MB_DIV, 3) \n",
    "    print(\"Memory usage is \" + str(mem) + \" MB\")\n",
    "    \n",
    "print_memory_usage_of_data_frame(data)"
   ]
  },
  {
   "cell_type": "markdown",
   "metadata": {},
   "source": [
    "Since we have a very large dataset and I choose a subset of the dataset to perform our analysis and build the recommender models."
   ]
  },
  {
   "cell_type": "code",
   "execution_count": 8,
   "metadata": {},
   "outputs": [
    {
     "data": {
      "text/plain": [
       "(300000, 10)"
      ]
     },
     "execution_count": 8,
     "metadata": {},
     "output_type": "execute_result"
    }
   ],
   "source": [
    "#Taking subset of the dataset\n",
    "data = data.iloc[:300000,0:]\n",
    "data.shape"
   ]
  },
  {
   "cell_type": "markdown",
   "metadata": {},
   "source": [
    "# Data Cleaning and Preprocessing\n",
    "\n",
    "In our initial data exploration phase we discovered that both 'user_attr' and 'brand' have missing values. I will drop these columns since it does not provide meaningful insights to build our recommender model. In addition to these columns I will also drop 'timestamp','brand','split','year','model_attr'. "
   ]
  },
  {
   "cell_type": "code",
   "execution_count": 9,
   "metadata": {
    "scrolled": true
   },
   "outputs": [
    {
     "data": {
      "text/html": [
       "<div>\n",
       "<style scoped>\n",
       "    .dataframe tbody tr th:only-of-type {\n",
       "        vertical-align: middle;\n",
       "    }\n",
       "\n",
       "    .dataframe tbody tr th {\n",
       "        vertical-align: top;\n",
       "    }\n",
       "\n",
       "    .dataframe thead th {\n",
       "        text-align: right;\n",
       "    }\n",
       "</style>\n",
       "<table border=\"1\" class=\"dataframe\">\n",
       "  <thead>\n",
       "    <tr style=\"text-align: right;\">\n",
       "      <th></th>\n",
       "      <th>item_id</th>\n",
       "      <th>user_id</th>\n",
       "      <th>rating</th>\n",
       "      <th>category</th>\n",
       "    </tr>\n",
       "  </thead>\n",
       "  <tbody>\n",
       "    <tr>\n",
       "      <th>0</th>\n",
       "      <td>0</td>\n",
       "      <td>0</td>\n",
       "      <td>5.0</td>\n",
       "      <td>Portable Audio &amp; Video</td>\n",
       "    </tr>\n",
       "    <tr>\n",
       "      <th>1</th>\n",
       "      <td>0</td>\n",
       "      <td>1</td>\n",
       "      <td>5.0</td>\n",
       "      <td>Portable Audio &amp; Video</td>\n",
       "    </tr>\n",
       "    <tr>\n",
       "      <th>2</th>\n",
       "      <td>0</td>\n",
       "      <td>2</td>\n",
       "      <td>3.0</td>\n",
       "      <td>Portable Audio &amp; Video</td>\n",
       "    </tr>\n",
       "    <tr>\n",
       "      <th>3</th>\n",
       "      <td>0</td>\n",
       "      <td>3</td>\n",
       "      <td>1.0</td>\n",
       "      <td>Portable Audio &amp; Video</td>\n",
       "    </tr>\n",
       "    <tr>\n",
       "      <th>4</th>\n",
       "      <td>0</td>\n",
       "      <td>4</td>\n",
       "      <td>2.0</td>\n",
       "      <td>Portable Audio &amp; Video</td>\n",
       "    </tr>\n",
       "  </tbody>\n",
       "</table>\n",
       "</div>"
      ],
      "text/plain": [
       "   item_id  user_id  rating                category\n",
       "0        0        0     5.0  Portable Audio & Video\n",
       "1        0        1     5.0  Portable Audio & Video\n",
       "2        0        2     3.0  Portable Audio & Video\n",
       "3        0        3     1.0  Portable Audio & Video\n",
       "4        0        4     2.0  Portable Audio & Video"
      ]
     },
     "execution_count": 9,
     "metadata": {},
     "output_type": "execute_result"
    }
   ],
   "source": [
    "# Dropping irrelevant columns\n",
    "data_clean = data.drop(columns=['user_attr','timestamp','brand','split','year','model_attr']) \n",
    "data_clean.head()"
   ]
  },
  {
   "cell_type": "markdown",
   "metadata": {},
   "source": [
    "Next, let's drop the duplicate categories and items and leave the most up-to-date features."
   ]
  },
  {
   "cell_type": "code",
   "execution_count": 10,
   "metadata": {
    "scrolled": true
   },
   "outputs": [
    {
     "data": {
      "text/plain": [
       "Camera & Photo             1534\n",
       "Computers & Accessories    1244\n",
       "Headphones                  598\n",
       "Portable Audio & Video      443\n",
       "Accessories & Supplies      391\n",
       "Name: category, dtype: int64"
      ]
     },
     "execution_count": 10,
     "metadata": {},
     "output_type": "execute_result"
    }
   ],
   "source": [
    "data_clean[['category',\n",
    "         'item_id']].drop_duplicates().category.value_counts().head(5)"
   ]
  },
  {
   "cell_type": "markdown",
   "metadata": {},
   "source": [
    "Our dataset is highly sparse so let's use pandas sparse structure to store sparse data:"
   ]
  },
  {
   "cell_type": "code",
   "execution_count": 11,
   "metadata": {},
   "outputs": [
    {
     "name": "stdout",
     "output_type": "stream",
     "text": [
      "Number of users who have rated 15 or more items = 198\n",
      "Number of unique users in the final data =  10\n",
      "Number of unique products in the final data =  10\n"
     ]
    }
   ],
   "source": [
    "count = data_clean.user_id.value_counts()\n",
    "final_df = data_clean[data_clean.user_id.isin(count[count >=15].index)]\n",
    "print('Number of users who have rated 15 or more items =', len(final_df))\n",
    "print('Number of unique users in the final data = ', final_df['user_id'].nunique())\n",
    "print('Number of unique products in the final data = ', final_df['user_id'].nunique())"
   ]
  },
  {
   "cell_type": "code",
   "execution_count": 12,
   "metadata": {},
   "outputs": [
    {
     "data": {
      "text/html": [
       "<div>\n",
       "<style scoped>\n",
       "    .dataframe tbody tr th:only-of-type {\n",
       "        vertical-align: middle;\n",
       "    }\n",
       "\n",
       "    .dataframe tbody tr th {\n",
       "        vertical-align: top;\n",
       "    }\n",
       "\n",
       "    .dataframe thead th {\n",
       "        text-align: right;\n",
       "    }\n",
       "</style>\n",
       "<table border=\"1\" class=\"dataframe\">\n",
       "  <thead>\n",
       "    <tr style=\"text-align: right;\">\n",
       "      <th>item_id</th>\n",
       "      <th>74</th>\n",
       "      <th>75</th>\n",
       "      <th>79</th>\n",
       "      <th>88</th>\n",
       "      <th>92</th>\n",
       "      <th>98</th>\n",
       "      <th>109</th>\n",
       "      <th>121</th>\n",
       "      <th>143</th>\n",
       "      <th>174</th>\n",
       "      <th>...</th>\n",
       "      <th>4385</th>\n",
       "      <th>4397</th>\n",
       "      <th>4401</th>\n",
       "      <th>4430</th>\n",
       "      <th>4446</th>\n",
       "      <th>4458</th>\n",
       "      <th>4536</th>\n",
       "      <th>4558</th>\n",
       "      <th>4559</th>\n",
       "      <th>4628</th>\n",
       "    </tr>\n",
       "    <tr>\n",
       "      <th>user_id</th>\n",
       "      <th></th>\n",
       "      <th></th>\n",
       "      <th></th>\n",
       "      <th></th>\n",
       "      <th></th>\n",
       "      <th></th>\n",
       "      <th></th>\n",
       "      <th></th>\n",
       "      <th></th>\n",
       "      <th></th>\n",
       "      <th></th>\n",
       "      <th></th>\n",
       "      <th></th>\n",
       "      <th></th>\n",
       "      <th></th>\n",
       "      <th></th>\n",
       "      <th></th>\n",
       "      <th></th>\n",
       "      <th></th>\n",
       "      <th></th>\n",
       "      <th></th>\n",
       "    </tr>\n",
       "  </thead>\n",
       "  <tbody>\n",
       "    <tr>\n",
       "      <th>1277</th>\n",
       "      <td>5.0</td>\n",
       "      <td>5.0</td>\n",
       "      <td>0.0</td>\n",
       "      <td>5.0</td>\n",
       "      <td>0.0</td>\n",
       "      <td>5.0</td>\n",
       "      <td>4.0</td>\n",
       "      <td>2.0</td>\n",
       "      <td>5.0</td>\n",
       "      <td>5.0</td>\n",
       "      <td>...</td>\n",
       "      <td>0.0</td>\n",
       "      <td>0.0</td>\n",
       "      <td>0.0</td>\n",
       "      <td>0.0</td>\n",
       "      <td>0.0</td>\n",
       "      <td>0.0</td>\n",
       "      <td>0.0</td>\n",
       "      <td>0.0</td>\n",
       "      <td>0.0</td>\n",
       "      <td>0.0</td>\n",
       "    </tr>\n",
       "    <tr>\n",
       "      <th>1670</th>\n",
       "      <td>0.0</td>\n",
       "      <td>0.0</td>\n",
       "      <td>0.0</td>\n",
       "      <td>0.0</td>\n",
       "      <td>5.0</td>\n",
       "      <td>0.0</td>\n",
       "      <td>0.0</td>\n",
       "      <td>0.0</td>\n",
       "      <td>0.0</td>\n",
       "      <td>0.0</td>\n",
       "      <td>...</td>\n",
       "      <td>0.0</td>\n",
       "      <td>0.0</td>\n",
       "      <td>0.0</td>\n",
       "      <td>0.0</td>\n",
       "      <td>0.0</td>\n",
       "      <td>0.0</td>\n",
       "      <td>0.0</td>\n",
       "      <td>0.0</td>\n",
       "      <td>0.0</td>\n",
       "      <td>0.0</td>\n",
       "    </tr>\n",
       "    <tr>\n",
       "      <th>4934</th>\n",
       "      <td>0.0</td>\n",
       "      <td>0.0</td>\n",
       "      <td>0.0</td>\n",
       "      <td>0.0</td>\n",
       "      <td>0.0</td>\n",
       "      <td>0.0</td>\n",
       "      <td>0.0</td>\n",
       "      <td>0.0</td>\n",
       "      <td>0.0</td>\n",
       "      <td>0.0</td>\n",
       "      <td>...</td>\n",
       "      <td>0.0</td>\n",
       "      <td>0.0</td>\n",
       "      <td>0.0</td>\n",
       "      <td>0.0</td>\n",
       "      <td>0.0</td>\n",
       "      <td>0.0</td>\n",
       "      <td>0.0</td>\n",
       "      <td>0.0</td>\n",
       "      <td>0.0</td>\n",
       "      <td>0.0</td>\n",
       "    </tr>\n",
       "    <tr>\n",
       "      <th>7605</th>\n",
       "      <td>0.0</td>\n",
       "      <td>0.0</td>\n",
       "      <td>0.0</td>\n",
       "      <td>0.0</td>\n",
       "      <td>0.0</td>\n",
       "      <td>0.0</td>\n",
       "      <td>0.0</td>\n",
       "      <td>0.0</td>\n",
       "      <td>0.0</td>\n",
       "      <td>0.0</td>\n",
       "      <td>...</td>\n",
       "      <td>0.0</td>\n",
       "      <td>0.0</td>\n",
       "      <td>0.0</td>\n",
       "      <td>0.0</td>\n",
       "      <td>0.0</td>\n",
       "      <td>0.0</td>\n",
       "      <td>0.0</td>\n",
       "      <td>0.0</td>\n",
       "      <td>0.0</td>\n",
       "      <td>0.0</td>\n",
       "    </tr>\n",
       "    <tr>\n",
       "      <th>18111</th>\n",
       "      <td>0.0</td>\n",
       "      <td>4.0</td>\n",
       "      <td>0.0</td>\n",
       "      <td>0.0</td>\n",
       "      <td>0.0</td>\n",
       "      <td>0.0</td>\n",
       "      <td>0.0</td>\n",
       "      <td>0.0</td>\n",
       "      <td>0.0</td>\n",
       "      <td>0.0</td>\n",
       "      <td>...</td>\n",
       "      <td>5.0</td>\n",
       "      <td>0.0</td>\n",
       "      <td>0.0</td>\n",
       "      <td>5.0</td>\n",
       "      <td>0.0</td>\n",
       "      <td>3.0</td>\n",
       "      <td>0.0</td>\n",
       "      <td>0.0</td>\n",
       "      <td>0.0</td>\n",
       "      <td>0.0</td>\n",
       "    </tr>\n",
       "  </tbody>\n",
       "</table>\n",
       "<p>5 rows × 156 columns</p>\n",
       "</div>"
      ],
      "text/plain": [
       "item_id  74    75    79    88    92    98    109   121   143   174   ...  \\\n",
       "user_id                                                              ...   \n",
       "1277      5.0   5.0   0.0   5.0   0.0   5.0   4.0   2.0   5.0   5.0  ...   \n",
       "1670      0.0   0.0   0.0   0.0   5.0   0.0   0.0   0.0   0.0   0.0  ...   \n",
       "4934      0.0   0.0   0.0   0.0   0.0   0.0   0.0   0.0   0.0   0.0  ...   \n",
       "7605      0.0   0.0   0.0   0.0   0.0   0.0   0.0   0.0   0.0   0.0  ...   \n",
       "18111     0.0   4.0   0.0   0.0   0.0   0.0   0.0   0.0   0.0   0.0  ...   \n",
       "\n",
       "item_id  4385  4397  4401  4430  4446  4458  4536  4558  4559  4628  \n",
       "user_id                                                              \n",
       "1277      0.0   0.0   0.0   0.0   0.0   0.0   0.0   0.0   0.0   0.0  \n",
       "1670      0.0   0.0   0.0   0.0   0.0   0.0   0.0   0.0   0.0   0.0  \n",
       "4934      0.0   0.0   0.0   0.0   0.0   0.0   0.0   0.0   0.0   0.0  \n",
       "7605      0.0   0.0   0.0   0.0   0.0   0.0   0.0   0.0   0.0   0.0  \n",
       "18111     5.0   0.0   0.0   5.0   0.0   3.0   0.0   0.0   0.0   0.0  \n",
       "\n",
       "[5 rows x 156 columns]"
      ]
     },
     "execution_count": 12,
     "metadata": {},
     "output_type": "execute_result"
    }
   ],
   "source": [
    "#constructing the pivot table to fll in the NAN values with '0'\n",
    "final_ratings_matrix = final_df.pivot(index = 'user_id', columns ='item_id', values = 'rating').fillna(0)\n",
    "final_ratings_matrix.head()"
   ]
  },
  {
   "cell_type": "code",
   "execution_count": 13,
   "metadata": {},
   "outputs": [
    {
     "name": "stdout",
     "output_type": "stream",
     "text": [
      "Shape of final_ratings_matrix:  (10, 156)\n"
     ]
    }
   ],
   "source": [
    "print('Shape of final_ratings_matrix: ', final_ratings_matrix.shape)"
   ]
  },
  {
   "cell_type": "code",
   "execution_count": 14,
   "metadata": {},
   "outputs": [
    {
     "name": "stdout",
     "output_type": "stream",
     "text": [
      "given_num_of_ratings =  198\n",
      "possible_num_of_ratings =  1560\n",
      "density: 12.69%\n"
     ]
    }
   ],
   "source": [
    "#Calucating the density of the rating marix\n",
    "given_num_of_ratings = np.count_nonzero(final_ratings_matrix)\n",
    "print('given_num_of_ratings = ', given_num_of_ratings)\n",
    "possible_num_of_ratings = final_ratings_matrix.shape[0] * final_ratings_matrix.shape[1]\n",
    "print('possible_num_of_ratings = ', possible_num_of_ratings)\n",
    "density = (given_num_of_ratings/possible_num_of_ratings)\n",
    "density *= 100\n",
    "print ('density: {:4.2f}%'.format(density))"
   ]
  },
  {
   "cell_type": "markdown",
   "metadata": {},
   "source": [
    "A sparse matrix is a one in which the majority of the values are zero. The proportion of zero elements to non-zero elements is referred to as the sparsity of the matrix. Such \"empty,\" or NA, values take up storage space in the file.\n",
    "\n",
    "Our density value also indicates that this is a sparse matrix. However, we have replaced the 'NA' values with zeros"
   ]
  },
  {
   "cell_type": "markdown",
   "metadata": {},
   "source": [
    "# Data Exploration\n",
    "\n",
    "Now let's dive into exploring the different features of our dataset:"
   ]
  },
  {
   "cell_type": "markdown",
   "metadata": {},
   "source": [
    "**Rating**"
   ]
  },
  {
   "cell_type": "code",
   "execution_count": 15,
   "metadata": {},
   "outputs": [
    {
     "name": "stdout",
     "output_type": "stream",
     "text": [
      "Minimum rating is: 1\n",
      "Maximum rating is: 5\n"
     ]
    }
   ],
   "source": [
    "# What's the minimum and maximum rating?\n",
    "print('Minimum rating is: %d' %(data_clean.rating.min()))\n",
    "print('Maximum rating is: %d' %(data_clean.rating.max()))"
   ]
  },
  {
   "cell_type": "code",
   "execution_count": 16,
   "metadata": {},
   "outputs": [
    {
     "data": {
      "text/html": [
       "<div>\n",
       "<style scoped>\n",
       "    .dataframe tbody tr th:only-of-type {\n",
       "        vertical-align: middle;\n",
       "    }\n",
       "\n",
       "    .dataframe tbody tr th {\n",
       "        vertical-align: top;\n",
       "    }\n",
       "\n",
       "    .dataframe thead th {\n",
       "        text-align: right;\n",
       "    }\n",
       "</style>\n",
       "<table border=\"1\" class=\"dataframe\">\n",
       "  <thead>\n",
       "    <tr style=\"text-align: right;\">\n",
       "      <th></th>\n",
       "      <th>count</th>\n",
       "    </tr>\n",
       "    <tr>\n",
       "      <th>rating</th>\n",
       "      <th></th>\n",
       "    </tr>\n",
       "  </thead>\n",
       "  <tbody>\n",
       "    <tr>\n",
       "      <th>1.0</th>\n",
       "      <td>30489</td>\n",
       "    </tr>\n",
       "    <tr>\n",
       "      <th>2.0</th>\n",
       "      <td>18344</td>\n",
       "    </tr>\n",
       "    <tr>\n",
       "      <th>3.0</th>\n",
       "      <td>24717</td>\n",
       "    </tr>\n",
       "    <tr>\n",
       "      <th>4.0</th>\n",
       "      <td>61215</td>\n",
       "    </tr>\n",
       "    <tr>\n",
       "      <th>5.0</th>\n",
       "      <td>165235</td>\n",
       "    </tr>\n",
       "  </tbody>\n",
       "</table>\n",
       "</div>"
      ],
      "text/plain": [
       "         count\n",
       "rating        \n",
       "1.0      30489\n",
       "2.0      18344\n",
       "3.0      24717\n",
       "4.0      61215\n",
       "5.0     165235"
      ]
     },
     "execution_count": 16,
     "metadata": {},
     "output_type": "execute_result"
    }
   ],
   "source": [
    "# get count\n",
    "rating_count = pd.DataFrame(data_clean.groupby('rating').size(), columns=['count'])\n",
    "rating_count.head(10)"
   ]
  },
  {
   "cell_type": "code",
   "execution_count": 17,
   "metadata": {
    "scrolled": true
   },
   "outputs": [
    {
     "data": {
      "image/png": "[encoded data removed]",
      "text/plain": [
       "<Figure size 720x360 with 1 Axes>"
      ]
     },
     "metadata": {},
     "output_type": "display_data"
    }
   ],
   "source": [
    "# Check the distribution of the rating\n",
    "with sns.axes_style('dark'):\n",
    "    g = sns.factorplot(\"rating\", data=data_clean, aspect=2.0,kind='count')\n",
    "    g.set_ylabels(\"count\")"
   ]
  },
  {
   "cell_type": "code",
   "execution_count": 18,
   "metadata": {},
   "outputs": [
    {
     "data": {
      "text/html": [
       "<div>\n",
       "<style scoped>\n",
       "    .dataframe tbody tr th:only-of-type {\n",
       "        vertical-align: middle;\n",
       "    }\n",
       "\n",
       "    .dataframe tbody tr th {\n",
       "        vertical-align: top;\n",
       "    }\n",
       "\n",
       "    .dataframe thead th {\n",
       "        text-align: right;\n",
       "    }\n",
       "</style>\n",
       "<table border=\"1\" class=\"dataframe\">\n",
       "  <thead>\n",
       "    <tr style=\"text-align: right;\">\n",
       "      <th></th>\n",
       "      <th>count</th>\n",
       "      <th>log_count</th>\n",
       "    </tr>\n",
       "    <tr>\n",
       "      <th>rating</th>\n",
       "      <th></th>\n",
       "      <th></th>\n",
       "    </tr>\n",
       "  </thead>\n",
       "  <tbody>\n",
       "    <tr>\n",
       "      <th>1.0</th>\n",
       "      <td>30489</td>\n",
       "      <td>10.325121</td>\n",
       "    </tr>\n",
       "    <tr>\n",
       "      <th>2.0</th>\n",
       "      <td>18344</td>\n",
       "      <td>9.817058</td>\n",
       "    </tr>\n",
       "    <tr>\n",
       "      <th>3.0</th>\n",
       "      <td>24717</td>\n",
       "      <td>10.115247</td>\n",
       "    </tr>\n",
       "    <tr>\n",
       "      <th>4.0</th>\n",
       "      <td>61215</td>\n",
       "      <td>11.022148</td>\n",
       "    </tr>\n",
       "    <tr>\n",
       "      <th>5.0</th>\n",
       "      <td>165235</td>\n",
       "      <td>12.015124</td>\n",
       "    </tr>\n",
       "  </tbody>\n",
       "</table>\n",
       "</div>"
      ],
      "text/plain": [
       "         count  log_count\n",
       "rating                   \n",
       "1.0      30489  10.325121\n",
       "2.0      18344   9.817058\n",
       "3.0      24717  10.115247\n",
       "4.0      61215  11.022148\n",
       "5.0     165235  12.015124"
      ]
     },
     "execution_count": 18,
     "metadata": {},
     "output_type": "execute_result"
    }
   ],
   "source": [
    "# add log count\n",
    "rating_count['log_count'] = np.log(rating_count['count'])\n",
    "rating_count.head()"
   ]
  },
  {
   "cell_type": "code",
   "execution_count": 19,
   "metadata": {},
   "outputs": [
    {
     "name": "stdout",
     "output_type": "stream",
     "text": [
      "Number of unique users in Raw data =  280341\n",
      "Number of unique products in Raw data =  4723\n"
     ]
    }
   ],
   "source": [
    "# How many unique users and products?\n",
    "\n",
    "# Number of unique user id  in the data\n",
    "print('Number of unique users in Raw data = ', data_clean['user_id'].nunique())\n",
    "# Number of unique product id  in the data\n",
    "print('Number of unique products in Raw data = ', data_clean['item_id'].nunique())"
   ]
  },
  {
   "cell_type": "markdown",
   "metadata": {},
   "source": [
    "Our findings indicate that a higher number of users are extremely statisfied with Amazon's electronic products. As you could see, more users(165235) have rated 5.0, and 61215 users have rated 4.0. This is really good for Amazon's product base."
   ]
  },
  {
   "cell_type": "markdown",
   "metadata": {},
   "source": [
    "**Items and Users**"
   ]
  },
  {
   "cell_type": "code",
   "execution_count": 20,
   "metadata": {},
   "outputs": [
    {
     "data": {
      "text/html": [
       "<div>\n",
       "<style scoped>\n",
       "    .dataframe tbody tr th:only-of-type {\n",
       "        vertical-align: middle;\n",
       "    }\n",
       "\n",
       "    .dataframe tbody tr th {\n",
       "        vertical-align: top;\n",
       "    }\n",
       "\n",
       "    .dataframe thead th {\n",
       "        text-align: right;\n",
       "    }\n",
       "</style>\n",
       "<table border=\"1\" class=\"dataframe\">\n",
       "  <thead>\n",
       "    <tr style=\"text-align: right;\">\n",
       "      <th></th>\n",
       "      <th>frequency</th>\n",
       "    </tr>\n",
       "    <tr>\n",
       "      <th>item_id</th>\n",
       "      <th></th>\n",
       "    </tr>\n",
       "  </thead>\n",
       "  <tbody>\n",
       "    <tr>\n",
       "      <th>1</th>\n",
       "      <td>264880</td>\n",
       "    </tr>\n",
       "    <tr>\n",
       "      <th>2</th>\n",
       "      <td>12947</td>\n",
       "    </tr>\n",
       "    <tr>\n",
       "      <th>3</th>\n",
       "      <td>1766</td>\n",
       "    </tr>\n",
       "    <tr>\n",
       "      <th>4</th>\n",
       "      <td>412</td>\n",
       "    </tr>\n",
       "    <tr>\n",
       "      <th>5</th>\n",
       "      <td>150</td>\n",
       "    </tr>\n",
       "  </tbody>\n",
       "</table>\n",
       "</div>"
      ],
      "text/plain": [
       "         frequency\n",
       "item_id           \n",
       "1           264880\n",
       "2            12947\n",
       "3             1766\n",
       "4              412\n",
       "5              150"
      ]
     },
     "execution_count": 20,
     "metadata": {},
     "output_type": "execute_result"
    }
   ],
   "source": [
    "# how many items were rated by the same user?\n",
    "(data_clean.user_id.value_counts().rename_axis('id').reset_index(\n",
    "    name='frequency').frequency.value_counts(\n",
    "        normalize=False).rename_axis('item_id').to_frame().head(5))"
   ]
  },
  {
   "cell_type": "markdown",
   "metadata": {},
   "source": [
    "We can see that over 80% of our rating dataset users that have only rated a single product."
   ]
  },
  {
   "cell_type": "code",
   "execution_count": 21,
   "metadata": {},
   "outputs": [
    {
     "data": {
      "text/html": [
       "<div>\n",
       "<style scoped>\n",
       "    .dataframe tbody tr th:only-of-type {\n",
       "        vertical-align: middle;\n",
       "    }\n",
       "\n",
       "    .dataframe tbody tr th {\n",
       "        vertical-align: top;\n",
       "    }\n",
       "\n",
       "    .dataframe thead th {\n",
       "        text-align: right;\n",
       "    }\n",
       "</style>\n",
       "<table border=\"1\" class=\"dataframe\">\n",
       "  <thead>\n",
       "    <tr style=\"text-align: right;\">\n",
       "      <th></th>\n",
       "      <th>item_id</th>\n",
       "      <th>user_id</th>\n",
       "      <th>rating</th>\n",
       "    </tr>\n",
       "  </thead>\n",
       "  <tbody>\n",
       "    <tr>\n",
       "      <th>count</th>\n",
       "      <td>300000.000000</td>\n",
       "      <td>300000.000000</td>\n",
       "      <td>300000.000000</td>\n",
       "    </tr>\n",
       "    <tr>\n",
       "      <th>mean</th>\n",
       "      <td>1759.974443</td>\n",
       "      <td>137621.144997</td>\n",
       "      <td>4.041210</td>\n",
       "    </tr>\n",
       "    <tr>\n",
       "      <th>std</th>\n",
       "      <td>1038.854518</td>\n",
       "      <td>81142.304585</td>\n",
       "      <td>1.338184</td>\n",
       "    </tr>\n",
       "    <tr>\n",
       "      <th>min</th>\n",
       "      <td>0.000000</td>\n",
       "      <td>0.000000</td>\n",
       "      <td>1.000000</td>\n",
       "    </tr>\n",
       "    <tr>\n",
       "      <th>25%</th>\n",
       "      <td>974.000000</td>\n",
       "      <td>66878.750000</td>\n",
       "      <td>4.000000</td>\n",
       "    </tr>\n",
       "    <tr>\n",
       "      <th>50%</th>\n",
       "      <td>1662.000000</td>\n",
       "      <td>136470.500000</td>\n",
       "      <td>5.000000</td>\n",
       "    </tr>\n",
       "    <tr>\n",
       "      <th>75%</th>\n",
       "      <td>2471.000000</td>\n",
       "      <td>207644.250000</td>\n",
       "      <td>5.000000</td>\n",
       "    </tr>\n",
       "    <tr>\n",
       "      <th>max</th>\n",
       "      <td>4722.000000</td>\n",
       "      <td>280340.000000</td>\n",
       "      <td>5.000000</td>\n",
       "    </tr>\n",
       "  </tbody>\n",
       "</table>\n",
       "</div>"
      ],
      "text/plain": [
       "             item_id        user_id         rating\n",
       "count  300000.000000  300000.000000  300000.000000\n",
       "mean     1759.974443  137621.144997       4.041210\n",
       "std      1038.854518   81142.304585       1.338184\n",
       "min         0.000000       0.000000       1.000000\n",
       "25%       974.000000   66878.750000       4.000000\n",
       "50%      1662.000000  136470.500000       5.000000\n",
       "75%      2471.000000  207644.250000       5.000000\n",
       "max      4722.000000  280340.000000       5.000000"
      ]
     },
     "execution_count": 21,
     "metadata": {},
     "output_type": "execute_result"
    }
   ],
   "source": [
    "# Summary Statistics\n",
    "data_clean.describe()"
   ]
  },
  {
   "cell_type": "markdown",
   "metadata": {},
   "source": [
    "The mean rating is 4.04 out of 5.0, which is really good. This means users are satisfied about with the electronic products Amazon offers. "
   ]
  },
  {
   "cell_type": "code",
   "execution_count": 22,
   "metadata": {},
   "outputs": [
    {
     "data": {
      "text/plain": [
       "10"
      ]
     },
     "execution_count": 22,
     "metadata": {},
     "output_type": "execute_result"
    }
   ],
   "source": [
    "# How many unique categories?\n",
    "len(data_clean['category'].unique())"
   ]
  },
  {
   "cell_type": "code",
   "execution_count": 23,
   "metadata": {},
   "outputs": [
    {
     "data": {
      "text/html": [
       "<div>\n",
       "<style scoped>\n",
       "    .dataframe tbody tr th:only-of-type {\n",
       "        vertical-align: middle;\n",
       "    }\n",
       "\n",
       "    .dataframe tbody tr th {\n",
       "        vertical-align: top;\n",
       "    }\n",
       "\n",
       "    .dataframe thead th {\n",
       "        text-align: right;\n",
       "    }\n",
       "</style>\n",
       "<table border=\"1\" class=\"dataframe\">\n",
       "  <thead>\n",
       "    <tr style=\"text-align: right;\">\n",
       "      <th></th>\n",
       "      <th>Total</th>\n",
       "      <th>Percent</th>\n",
       "    </tr>\n",
       "  </thead>\n",
       "  <tbody>\n",
       "    <tr>\n",
       "      <th>Computers &amp; Accessories</th>\n",
       "      <td>82166</td>\n",
       "      <td>27.388667</td>\n",
       "    </tr>\n",
       "    <tr>\n",
       "      <th>Headphones</th>\n",
       "      <td>67369</td>\n",
       "      <td>22.456333</td>\n",
       "    </tr>\n",
       "    <tr>\n",
       "      <th>Camera &amp; Photo</th>\n",
       "      <td>60766</td>\n",
       "      <td>20.255333</td>\n",
       "    </tr>\n",
       "    <tr>\n",
       "      <th>Accessories &amp; Supplies</th>\n",
       "      <td>42457</td>\n",
       "      <td>14.152333</td>\n",
       "    </tr>\n",
       "    <tr>\n",
       "      <th>Portable Audio &amp; Video</th>\n",
       "      <td>21001</td>\n",
       "      <td>7.000333</td>\n",
       "    </tr>\n",
       "    <tr>\n",
       "      <th>Television &amp; Video</th>\n",
       "      <td>12369</td>\n",
       "      <td>4.123000</td>\n",
       "    </tr>\n",
       "    <tr>\n",
       "      <th>Car Electronics &amp; GPS</th>\n",
       "      <td>7935</td>\n",
       "      <td>2.645000</td>\n",
       "    </tr>\n",
       "    <tr>\n",
       "      <th>Home Audio</th>\n",
       "      <td>4289</td>\n",
       "      <td>1.429667</td>\n",
       "    </tr>\n",
       "    <tr>\n",
       "      <th>Security &amp; Surveillance</th>\n",
       "      <td>1248</td>\n",
       "      <td>0.416000</td>\n",
       "    </tr>\n",
       "    <tr>\n",
       "      <th>Wearable Technology</th>\n",
       "      <td>400</td>\n",
       "      <td>0.133333</td>\n",
       "    </tr>\n",
       "  </tbody>\n",
       "</table>\n",
       "</div>"
      ],
      "text/plain": [
       "                         Total    Percent\n",
       "Computers & Accessories  82166  27.388667\n",
       "Headphones               67369  22.456333\n",
       "Camera & Photo           60766  20.255333\n",
       "Accessories & Supplies   42457  14.152333\n",
       "Portable Audio & Video   21001   7.000333\n",
       "Television & Video       12369   4.123000\n",
       "Car Electronics & GPS     7935   2.645000\n",
       "Home Audio                4289   1.429667\n",
       "Security & Surveillance   1248   0.416000\n",
       "Wearable Technology        400   0.133333"
      ]
     },
     "execution_count": 23,
     "metadata": {},
     "output_type": "execute_result"
    }
   ],
   "source": [
    "# What is the most popular item category? (based on rating)\n",
    "percent = data_clean['category'].value_counts(normalize=True) * 100\n",
    "category_count = data_clean['category'].value_counts()\n",
    "\n",
    "# total\n",
    "total = pd.concat([category_count, percent], axis=1, keys=['Total', 'Percent'])\n",
    "total.head(10)"
   ]
  },
  {
   "cell_type": "markdown",
   "metadata": {},
   "source": [
    "Let us now visualize the category to see how it has been distributed across the items in the Amazom electronics dataset."
   ]
  },
  {
   "cell_type": "code",
   "execution_count": 24,
   "metadata": {
    "scrolled": true
   },
   "outputs": [
    {
     "data": {
      "image/png": "[encoded data removed]",
      "text/plain": [
       "<Figure size 360x360 with 1 Axes>"
      ]
     },
     "metadata": {
      "needs_background": "light"
     },
     "output_type": "display_data"
    }
   ],
   "source": [
    "sns.catplot(y=\"category\", kind=\"count\",\n",
    "            palette=\"pastel\",\n",
    "            data=data_clean);"
   ]
  },
  {
   "cell_type": "markdown",
   "metadata": {},
   "source": [
    "It is interesting to spot that computer & accessories and headphones are the highly demanded electronic product category. Next in line are camera & photo and headphones. There is a very low demand for security & surveillance and wearable technology."
   ]
  },
  {
   "cell_type": "code",
   "execution_count": 25,
   "metadata": {},
   "outputs": [
    {
     "data": {
      "text/html": [
       "<div>\n",
       "<style scoped>\n",
       "    .dataframe tbody tr th:only-of-type {\n",
       "        vertical-align: middle;\n",
       "    }\n",
       "\n",
       "    .dataframe tbody tr th {\n",
       "        vertical-align: top;\n",
       "    }\n",
       "\n",
       "    .dataframe thead th {\n",
       "        text-align: right;\n",
       "    }\n",
       "</style>\n",
       "<table border=\"1\" class=\"dataframe\">\n",
       "  <thead>\n",
       "    <tr style=\"text-align: right;\">\n",
       "      <th></th>\n",
       "      <th>count</th>\n",
       "    </tr>\n",
       "    <tr>\n",
       "      <th>item_id</th>\n",
       "      <th></th>\n",
       "    </tr>\n",
       "  </thead>\n",
       "  <tbody>\n",
       "    <tr>\n",
       "      <th>0</th>\n",
       "      <td>118</td>\n",
       "    </tr>\n",
       "    <tr>\n",
       "      <th>1</th>\n",
       "      <td>56</td>\n",
       "    </tr>\n",
       "    <tr>\n",
       "      <th>2</th>\n",
       "      <td>2073</td>\n",
       "    </tr>\n",
       "    <tr>\n",
       "      <th>3</th>\n",
       "      <td>154</td>\n",
       "    </tr>\n",
       "    <tr>\n",
       "      <th>4</th>\n",
       "      <td>9</td>\n",
       "    </tr>\n",
       "  </tbody>\n",
       "</table>\n",
       "</div>"
      ],
      "text/plain": [
       "         count\n",
       "item_id       \n",
       "0          118\n",
       "1           56\n",
       "2         2073\n",
       "3          154\n",
       "4            9"
      ]
     },
     "execution_count": 25,
     "metadata": {},
     "output_type": "execute_result"
    }
   ],
   "source": [
    "# How many items are rated in this dataset?\n",
    "item_count = pd.DataFrame(data_clean.groupby('item_id').size(), columns=['count'])\n",
    "item_count.head()"
   ]
  },
  {
   "cell_type": "markdown",
   "metadata": {},
   "source": [
    "Let's now filter the data to find the most popular items for a threshold of 50."
   ]
  },
  {
   "cell_type": "code",
   "execution_count": 26,
   "metadata": {},
   "outputs": [
    {
     "name": "stdout",
     "output_type": "stream",
     "text": [
      "shape of original ratings data:  (300000, 4)\n",
      "shape of ratings data after dropping unpopular items:  (253083, 4)\n"
     ]
    }
   ],
   "source": [
    "# filter data\n",
    "popularity_thres = 50\n",
    "popular_items = list(set(item_count.query('count >= @popularity_thres').index))\n",
    "drop_items = data_clean[data_clean.item_id.isin(popular_items)]\n",
    "print('shape of original ratings data: ', data_clean.shape)\n",
    "print('shape of ratings data after dropping unpopular items: ', drop_items.shape)"
   ]
  },
  {
   "cell_type": "code",
   "execution_count": 27,
   "metadata": {},
   "outputs": [
    {
     "data": {
      "text/html": [
       "<div>\n",
       "<style scoped>\n",
       "    .dataframe tbody tr th:only-of-type {\n",
       "        vertical-align: middle;\n",
       "    }\n",
       "\n",
       "    .dataframe tbody tr th {\n",
       "        vertical-align: top;\n",
       "    }\n",
       "\n",
       "    .dataframe thead th {\n",
       "        text-align: right;\n",
       "    }\n",
       "</style>\n",
       "<table border=\"1\" class=\"dataframe\">\n",
       "  <thead>\n",
       "    <tr style=\"text-align: right;\">\n",
       "      <th></th>\n",
       "      <th>count</th>\n",
       "    </tr>\n",
       "    <tr>\n",
       "      <th>user_id</th>\n",
       "      <th></th>\n",
       "    </tr>\n",
       "  </thead>\n",
       "  <tbody>\n",
       "    <tr>\n",
       "      <th>0</th>\n",
       "      <td>1</td>\n",
       "    </tr>\n",
       "    <tr>\n",
       "      <th>1</th>\n",
       "      <td>1</td>\n",
       "    </tr>\n",
       "    <tr>\n",
       "      <th>2</th>\n",
       "      <td>1</td>\n",
       "    </tr>\n",
       "    <tr>\n",
       "      <th>3</th>\n",
       "      <td>1</td>\n",
       "    </tr>\n",
       "    <tr>\n",
       "      <th>4</th>\n",
       "      <td>1</td>\n",
       "    </tr>\n",
       "  </tbody>\n",
       "</table>\n",
       "</div>"
      ],
      "text/plain": [
       "         count\n",
       "user_id       \n",
       "0            1\n",
       "1            1\n",
       "2            1\n",
       "3            1\n",
       "4            1"
      ]
     },
     "execution_count": 27,
     "metadata": {},
     "output_type": "execute_result"
    }
   ],
   "source": [
    "# get number of ratings given by every user\n",
    "user_count = pd.DataFrame(drop_items.groupby('user_id').size(), columns=['count'])\n",
    "user_count.head()"
   ]
  },
  {
   "cell_type": "markdown",
   "metadata": {},
   "source": [
    "Let's now plot the frequency distribution of the items rated."
   ]
  },
  {
   "cell_type": "code",
   "execution_count": 28,
   "metadata": {},
   "outputs": [
    {
     "data": {
      "text/plain": [
       "Text(0, 0.5, 'number of ratings')"
      ]
     },
     "execution_count": 28,
     "metadata": {},
     "output_type": "execute_result"
    },
    {
     "data": {
      "image/png": "[encoded data removed]",
      "text/plain": [
       "<Figure size 720x432 with 1 Axes>"
      ]
     },
     "metadata": {
      "needs_background": "light"
     },
     "output_type": "display_data"
    }
   ],
   "source": [
    "# plot rating frequency of all user ratings\n",
    "ax = item_count \\\n",
    "    .sort_values('count', ascending=False) \\\n",
    "    .reset_index(drop=True) \\\n",
    "    .plot(\n",
    "        figsize=(10, 6),\n",
    "        title='Rating Frequency of All items',\n",
    "        fontsize=12\n",
    "    )\n",
    "ax.set_xlabel(\"items\")\n",
    "ax.set_ylabel(\"number of ratings\")"
   ]
  },
  {
   "cell_type": "markdown",
   "metadata": {},
   "source": [
    "Let's plot the same distribution with a log scale"
   ]
  },
  {
   "cell_type": "code",
   "execution_count": 29,
   "metadata": {},
   "outputs": [
    {
     "data": {
      "text/plain": [
       "Text(0, 0.5, 'number of ratings (log scale)')"
      ]
     },
     "execution_count": 29,
     "metadata": {},
     "output_type": "execute_result"
    },
    {
     "data": {
      "image/png": "[encoded data removed]",
      "text/plain": [
       "<Figure size 864x576 with 1 Axes>"
      ]
     },
     "metadata": {
      "needs_background": "light"
     },
     "output_type": "display_data"
    }
   ],
   "source": [
    "# plot rating frequency of all movies in log scale\n",
    "ax = item_count \\\n",
    "    .sort_values('count', ascending=False) \\\n",
    "    .reset_index(drop=True) \\\n",
    "    .plot(\n",
    "        figsize=(12, 8),\n",
    "        title='Rating Frequency of All items (in Log Scale)',\n",
    "        fontsize=12,\n",
    "        logy=True\n",
    "    )\n",
    "ax.set_xlabel(\"items\")\n",
    "ax.set_ylabel(\"number of ratings (log scale)\")"
   ]
  },
  {
   "cell_type": "markdown",
   "metadata": {},
   "source": [
    "Let's look closer by displaying top quantiles of rating counts:"
   ]
  },
  {
   "cell_type": "code",
   "execution_count": 30,
   "metadata": {},
   "outputs": [
    {
     "data": {
      "text/plain": [
       "1.00    4392.0\n",
       "0.95     261.0\n",
       "0.90     126.8\n",
       "0.85      82.0\n",
       "0.80      57.0\n",
       "0.75      41.0\n",
       "0.70      31.0\n",
       "0.65      25.0\n",
       "Name: count, dtype: float64"
      ]
     },
     "execution_count": 30,
     "metadata": {},
     "output_type": "execute_result"
    }
   ],
   "source": [
    "item_count['count'].quantile(np.arange(1, 0.6, -0.05))"
   ]
  },
  {
   "cell_type": "markdown",
   "metadata": {},
   "source": [
    "So about 1% of movies have roughly 4392 or more ratings, 5% have 261 or more, and 20% have 57 or more. Since we have so many items, we'll limit it to the top 25%. This is arbitrary threshold for popularity and we have pretty good amount of items for modeling. We should implement this because:\n",
    "\n",
    "- Memory issue: we don't want to run into the “MemoryError” during model training\n",
    "- Improve KNN performance: lesser known items have ratings from fewer users, making the pattern more noisy. Droping out less known items can improve recommendation quality\n",
    "\n",
    "Let's now create a rating threshold and eliminate the inactive users:"
   ]
  },
  {
   "cell_type": "code",
   "execution_count": 31,
   "metadata": {},
   "outputs": [
    {
     "name": "stdout",
     "output_type": "stream",
     "text": [
      "shape of original ratings data:  (300000, 4)\n",
      "shape of ratings data after dropping both unpopular items and inactive users:  (0, 4)\n"
     ]
    }
   ],
   "source": [
    "# filter data\n",
    "ratings_thres = 50\n",
    "active_users = list(set(user_count.query('count >= @ratings_thres').index))\n",
    "drop_users = drop_items[drop_items.user_id.isin(active_users)]\n",
    "print('shape of original ratings data: ', data_clean.shape)\n",
    "print('shape of ratings data after dropping both unpopular items and inactive users: ', drop_users.shape)"
   ]
  },
  {
   "cell_type": "markdown",
   "metadata": {},
   "source": [
    "Now that we have preprocessed and identified the features let's split the data into two subsets:"
   ]
  },
  {
   "cell_type": "markdown",
   "metadata": {},
   "source": [
    "## Train Test Split\n",
    "\n",
    "To understand model performance, dividing the dataset into a training set and a test set is a good strategy. Let's define our variables."
   ]
  },
  {
   "cell_type": "code",
   "execution_count": 32,
   "metadata": {},
   "outputs": [],
   "source": [
    "#Split the data randomnly into train and test datasets into 70:30 ratio\n",
    "train_data, test_data = train_test_split(data_clean, test_size = 0.3, random_state=0)"
   ]
  },
  {
   "cell_type": "code",
   "execution_count": 33,
   "metadata": {},
   "outputs": [
    {
     "name": "stdout",
     "output_type": "stream",
     "text": [
      "Shape of training data:  (210000, 4)\n",
      "Shape of testing data:  (90000, 4)\n"
     ]
    }
   ],
   "source": [
    "print('Shape of training data: ',train_data.shape)\n",
    "print('Shape of testing data: ',test_data.shape)"
   ]
  },
  {
   "cell_type": "code",
   "execution_count": 34,
   "metadata": {},
   "outputs": [
    {
     "name": "stdout",
     "output_type": "stream",
     "text": [
      "Saving train data\n",
      "Train data saved to data/train.csv\n",
      "Saving test data\n",
      "Test data saved to data/test.csv\n"
     ]
    }
   ],
   "source": [
    "# Save train data\n",
    "print(\"Saving train data\")\n",
    "\n",
    "train_data = train_data.to_csv('train.csv', index = False)\n",
    "print(\"Train data saved to data/train.csv\")\n",
    "\n",
    "# Save test data\n",
    "print(\"Saving test data\")\n",
    "test_data = test_data.to_csv('test.csv', index = False)\n",
    "print(\"Test data saved to data/test.csv\")"
   ]
  },
  {
   "cell_type": "markdown",
   "metadata": {},
   "source": [
    "# Building a User-based Collaborative Filtering model\n",
    "\n",
    "Collaborative methods for recommender systems are methods that are based solely on the past interactions recorded between users and items in order to produce new recommendations. These interactions are stored in the so-called “user-item interactions matrix”.\n",
    "\n",
    "The main advantage of collaborative approaches is that they require no information about users or items and, so, they can be used in many situations. Moreover, the more users interact with items the more new recommendations become accurate: for a fixed set of users and items, new interactions recorded over time bring new information and make the system more and more effective.\n",
    "\n",
    "The User-based collaborative model finds similar users and gives a recommendation based on what other people with similar patterns appreciated. It identifies users that are similar to the queried user and estimate the desired rating to be the weighted average of the ratings of these similar users."
   ]
  },
  {
   "cell_type": "code",
   "execution_count": 35,
   "metadata": {},
   "outputs": [
    {
     "data": {
      "text/html": [
       "<div>\n",
       "<style scoped>\n",
       "    .dataframe tbody tr th:only-of-type {\n",
       "        vertical-align: middle;\n",
       "    }\n",
       "\n",
       "    .dataframe tbody tr th {\n",
       "        vertical-align: top;\n",
       "    }\n",
       "\n",
       "    .dataframe thead th {\n",
       "        text-align: right;\n",
       "    }\n",
       "</style>\n",
       "<table border=\"1\" class=\"dataframe\">\n",
       "  <thead>\n",
       "    <tr style=\"text-align: right;\">\n",
       "      <th></th>\n",
       "      <th>item_id</th>\n",
       "      <th>user_id</th>\n",
       "      <th>rating</th>\n",
       "      <th>category</th>\n",
       "    </tr>\n",
       "  </thead>\n",
       "  <tbody>\n",
       "    <tr>\n",
       "      <th>0</th>\n",
       "      <td>259</td>\n",
       "      <td>75408</td>\n",
       "      <td>3.0</td>\n",
       "      <td>Headphones</td>\n",
       "    </tr>\n",
       "    <tr>\n",
       "      <th>1</th>\n",
       "      <td>2523</td>\n",
       "      <td>209055</td>\n",
       "      <td>5.0</td>\n",
       "      <td>Computers &amp; Accessories</td>\n",
       "    </tr>\n",
       "    <tr>\n",
       "      <th>2</th>\n",
       "      <td>1584</td>\n",
       "      <td>139519</td>\n",
       "      <td>1.0</td>\n",
       "      <td>Headphones</td>\n",
       "    </tr>\n",
       "    <tr>\n",
       "      <th>3</th>\n",
       "      <td>3282</td>\n",
       "      <td>190091</td>\n",
       "      <td>2.0</td>\n",
       "      <td>Computers &amp; Accessories</td>\n",
       "    </tr>\n",
       "    <tr>\n",
       "      <th>4</th>\n",
       "      <td>1225</td>\n",
       "      <td>135719</td>\n",
       "      <td>4.0</td>\n",
       "      <td>Headphones</td>\n",
       "    </tr>\n",
       "  </tbody>\n",
       "</table>\n",
       "</div>"
      ],
      "text/plain": [
       "   item_id  user_id  rating                 category\n",
       "0      259    75408     3.0               Headphones\n",
       "1     2523   209055     5.0  Computers & Accessories\n",
       "2     1584   139519     1.0               Headphones\n",
       "3     3282   190091     2.0  Computers & Accessories\n",
       "4     1225   135719     4.0               Headphones"
      ]
     },
     "execution_count": 35,
     "metadata": {},
     "output_type": "execute_result"
    }
   ],
   "source": [
    "train_data = pd.read_csv(\"/home/kaneeshadawood/train.csv\")\n",
    "train_data.head()"
   ]
  },
  {
   "cell_type": "markdown",
   "metadata": {},
   "source": [
    "Let's now get the mean rating of the training data and group them according to their 'item_id' and 'rating'"
   ]
  },
  {
   "cell_type": "code",
   "execution_count": 36,
   "metadata": {},
   "outputs": [
    {
     "data": {
      "text/html": [
       "<div>\n",
       "<style scoped>\n",
       "    .dataframe tbody tr th:only-of-type {\n",
       "        vertical-align: middle;\n",
       "    }\n",
       "\n",
       "    .dataframe tbody tr th {\n",
       "        vertical-align: top;\n",
       "    }\n",
       "\n",
       "    .dataframe thead th {\n",
       "        text-align: right;\n",
       "    }\n",
       "</style>\n",
       "<table border=\"1\" class=\"dataframe\">\n",
       "  <thead>\n",
       "    <tr style=\"text-align: right;\">\n",
       "      <th></th>\n",
       "      <th>rating</th>\n",
       "    </tr>\n",
       "    <tr>\n",
       "      <th>item_id</th>\n",
       "      <th></th>\n",
       "    </tr>\n",
       "  </thead>\n",
       "  <tbody>\n",
       "    <tr>\n",
       "      <th>0</th>\n",
       "      <td>3.547619</td>\n",
       "    </tr>\n",
       "    <tr>\n",
       "      <th>1</th>\n",
       "      <td>3.794872</td>\n",
       "    </tr>\n",
       "    <tr>\n",
       "      <th>2</th>\n",
       "      <td>4.467596</td>\n",
       "    </tr>\n",
       "    <tr>\n",
       "      <th>3</th>\n",
       "      <td>3.310680</td>\n",
       "    </tr>\n",
       "    <tr>\n",
       "      <th>4</th>\n",
       "      <td>3.833333</td>\n",
       "    </tr>\n",
       "  </tbody>\n",
       "</table>\n",
       "</div>"
      ],
      "text/plain": [
       "           rating\n",
       "item_id          \n",
       "0        3.547619\n",
       "1        3.794872\n",
       "2        4.467596\n",
       "3        3.310680\n",
       "4        3.833333"
      ]
     },
     "execution_count": 36,
     "metadata": {},
     "output_type": "execute_result"
    }
   ],
   "source": [
    "ratings = pd.DataFrame(train_data.groupby('item_id')['rating'].mean())\n",
    "ratings.head()"
   ]
  },
  {
   "cell_type": "markdown",
   "metadata": {},
   "source": [
    "Next we would like to see the number of ratings for each item. We do this by creating a number_of_ratings column. \n",
    "\n",
    "Let's now set a threshold for the minimum number of ratings as we build the recommender system. In order to create this new column we use pandas `groupby()` utility. We group by the 'category' column and then use the `count()` function to calculate the `number of ratings` each category got. Afterwards we view the new dataframe by using the `head()` function."
   ]
  },
  {
   "cell_type": "code",
   "execution_count": 37,
   "metadata": {},
   "outputs": [
    {
     "data": {
      "text/html": [
       "<div>\n",
       "<style scoped>\n",
       "    .dataframe tbody tr th:only-of-type {\n",
       "        vertical-align: middle;\n",
       "    }\n",
       "\n",
       "    .dataframe tbody tr th {\n",
       "        vertical-align: top;\n",
       "    }\n",
       "\n",
       "    .dataframe thead th {\n",
       "        text-align: right;\n",
       "    }\n",
       "</style>\n",
       "<table border=\"1\" class=\"dataframe\">\n",
       "  <thead>\n",
       "    <tr style=\"text-align: right;\">\n",
       "      <th></th>\n",
       "      <th>rating</th>\n",
       "      <th>number_of_ratings</th>\n",
       "    </tr>\n",
       "    <tr>\n",
       "      <th>item_id</th>\n",
       "      <th></th>\n",
       "      <th></th>\n",
       "    </tr>\n",
       "  </thead>\n",
       "  <tbody>\n",
       "    <tr>\n",
       "      <th>0</th>\n",
       "      <td>3.547619</td>\n",
       "      <td>84</td>\n",
       "    </tr>\n",
       "    <tr>\n",
       "      <th>1</th>\n",
       "      <td>3.794872</td>\n",
       "      <td>39</td>\n",
       "    </tr>\n",
       "    <tr>\n",
       "      <th>2</th>\n",
       "      <td>4.467596</td>\n",
       "      <td>1435</td>\n",
       "    </tr>\n",
       "    <tr>\n",
       "      <th>3</th>\n",
       "      <td>3.310680</td>\n",
       "      <td>103</td>\n",
       "    </tr>\n",
       "    <tr>\n",
       "      <th>4</th>\n",
       "      <td>3.833333</td>\n",
       "      <td>6</td>\n",
       "    </tr>\n",
       "  </tbody>\n",
       "</table>\n",
       "</div>"
      ],
      "text/plain": [
       "           rating  number_of_ratings\n",
       "item_id                             \n",
       "0        3.547619                 84\n",
       "1        3.794872                 39\n",
       "2        4.467596               1435\n",
       "3        3.310680                103\n",
       "4        3.833333                  6"
      ]
     },
     "execution_count": 37,
     "metadata": {},
     "output_type": "execute_result"
    }
   ],
   "source": [
    "ratings['number_of_ratings'] = train_data.groupby('item_id')['rating'].count()\n",
    "ratings.head()"
   ]
  },
  {
   "cell_type": "markdown",
   "metadata": {},
   "source": [
    "Let's now visualize the distribution of the mean of rating and the number of rating:"
   ]
  },
  {
   "cell_type": "code",
   "execution_count": 38,
   "metadata": {},
   "outputs": [
    {
     "data": {
      "text/plain": [
       "<matplotlib.axes._subplots.AxesSubplot at 0x794ec3040da0>"
      ]
     },
     "execution_count": 38,
     "metadata": {},
     "output_type": "execute_result"
    },
    {
     "data": {
      "image/png": "[encoded data removed]",
      "text/plain": [
       "<Figure size 432x288 with 1 Axes>"
      ]
     },
     "metadata": {
      "needs_background": "light"
     },
     "output_type": "display_data"
    }
   ],
   "source": [
    "import matplotlib.pyplot as plt\n",
    "%matplotlib inline\n",
    "\n",
    "plt.xlabel('mean of rating')\n",
    "plt.ylabel('number of items')\n",
    "\n",
    "ratings['rating'].hist(color=\"pink\")"
   ]
  },
  {
   "cell_type": "markdown",
   "metadata": {},
   "source": [
    "Let's now visualize the relationship between the two variables: rating and the number of ratings;"
   ]
  },
  {
   "cell_type": "code",
   "execution_count": 39,
   "metadata": {},
   "outputs": [
    {
     "data": {
      "text/plain": [
       "<seaborn.axisgrid.JointGrid at 0x794ec3050fd0>"
      ]
     },
     "execution_count": 39,
     "metadata": {},
     "output_type": "execute_result"
    },
    {
     "data": {
      "image/png": "[encoded data removed]",
      "text/plain": [
       "<Figure size 432x432 with 3 Axes>"
      ]
     },
     "metadata": {
      "needs_background": "light"
     },
     "output_type": "display_data"
    }
   ],
   "source": [
    "import seaborn as sns\n",
    "sns.jointplot(x='rating', y='number_of_ratings', data=ratings, kind=\"scatter\", color=\"g\")"
   ]
  },
  {
   "cell_type": "markdown",
   "metadata": {},
   "source": [
    "We can achieve this by computing the correlation between these two categories’ ratings and the ratings of the rest of the categories in the dataset. The first step is to create a dataframe with the ratings of these categories from our `user_matrix`. I will entail the item_id and user_id to build a recommender."
   ]
  },
  {
   "cell_type": "code",
   "execution_count": 40,
   "metadata": {},
   "outputs": [],
   "source": [
    "# getting a count of users who have rated 15 or more items\n",
    "count = train_data.user_id.value_counts()\n",
    "df = train_data[train_data.user_id.isin(count[count >=15].index)]"
   ]
  },
  {
   "cell_type": "code",
   "execution_count": 41,
   "metadata": {
    "scrolled": true
   },
   "outputs": [
    {
     "data": {
      "text/html": [
       "<div>\n",
       "<style scoped>\n",
       "    .dataframe tbody tr th:only-of-type {\n",
       "        vertical-align: middle;\n",
       "    }\n",
       "\n",
       "    .dataframe tbody tr th {\n",
       "        vertical-align: top;\n",
       "    }\n",
       "\n",
       "    .dataframe thead th {\n",
       "        text-align: right;\n",
       "    }\n",
       "</style>\n",
       "<table border=\"1\" class=\"dataframe\">\n",
       "  <thead>\n",
       "    <tr style=\"text-align: right;\">\n",
       "      <th>item_id</th>\n",
       "      <th>79</th>\n",
       "      <th>314</th>\n",
       "      <th>362</th>\n",
       "      <th>646</th>\n",
       "      <th>695</th>\n",
       "      <th>752</th>\n",
       "      <th>828</th>\n",
       "      <th>897</th>\n",
       "      <th>1119</th>\n",
       "      <th>1294</th>\n",
       "      <th>...</th>\n",
       "      <th>3975</th>\n",
       "      <th>4018</th>\n",
       "      <th>4019</th>\n",
       "      <th>4385</th>\n",
       "      <th>4401</th>\n",
       "      <th>4430</th>\n",
       "      <th>4536</th>\n",
       "      <th>4558</th>\n",
       "      <th>4559</th>\n",
       "      <th>4628</th>\n",
       "    </tr>\n",
       "    <tr>\n",
       "      <th>user_id</th>\n",
       "      <th></th>\n",
       "      <th></th>\n",
       "      <th></th>\n",
       "      <th></th>\n",
       "      <th></th>\n",
       "      <th></th>\n",
       "      <th></th>\n",
       "      <th></th>\n",
       "      <th></th>\n",
       "      <th></th>\n",
       "      <th></th>\n",
       "      <th></th>\n",
       "      <th></th>\n",
       "      <th></th>\n",
       "      <th></th>\n",
       "      <th></th>\n",
       "      <th></th>\n",
       "      <th></th>\n",
       "      <th></th>\n",
       "      <th></th>\n",
       "      <th></th>\n",
       "    </tr>\n",
       "  </thead>\n",
       "  <tbody>\n",
       "    <tr>\n",
       "      <th>7605</th>\n",
       "      <td>0.0</td>\n",
       "      <td>4.0</td>\n",
       "      <td>5.0</td>\n",
       "      <td>5.0</td>\n",
       "      <td>5.0</td>\n",
       "      <td>5.0</td>\n",
       "      <td>5.0</td>\n",
       "      <td>4.0</td>\n",
       "      <td>5.0</td>\n",
       "      <td>5.0</td>\n",
       "      <td>...</td>\n",
       "      <td>0.0</td>\n",
       "      <td>0.0</td>\n",
       "      <td>0.0</td>\n",
       "      <td>0.0</td>\n",
       "      <td>0.0</td>\n",
       "      <td>0.0</td>\n",
       "      <td>0.0</td>\n",
       "      <td>0.0</td>\n",
       "      <td>0.0</td>\n",
       "      <td>0.0</td>\n",
       "    </tr>\n",
       "    <tr>\n",
       "      <th>46878</th>\n",
       "      <td>0.0</td>\n",
       "      <td>0.0</td>\n",
       "      <td>0.0</td>\n",
       "      <td>0.0</td>\n",
       "      <td>0.0</td>\n",
       "      <td>0.0</td>\n",
       "      <td>0.0</td>\n",
       "      <td>0.0</td>\n",
       "      <td>0.0</td>\n",
       "      <td>0.0</td>\n",
       "      <td>...</td>\n",
       "      <td>0.0</td>\n",
       "      <td>0.0</td>\n",
       "      <td>0.0</td>\n",
       "      <td>5.0</td>\n",
       "      <td>3.0</td>\n",
       "      <td>4.0</td>\n",
       "      <td>0.0</td>\n",
       "      <td>4.0</td>\n",
       "      <td>5.0</td>\n",
       "      <td>4.0</td>\n",
       "    </tr>\n",
       "    <tr>\n",
       "      <th>80476</th>\n",
       "      <td>4.0</td>\n",
       "      <td>0.0</td>\n",
       "      <td>0.0</td>\n",
       "      <td>0.0</td>\n",
       "      <td>0.0</td>\n",
       "      <td>0.0</td>\n",
       "      <td>0.0</td>\n",
       "      <td>0.0</td>\n",
       "      <td>0.0</td>\n",
       "      <td>0.0</td>\n",
       "      <td>...</td>\n",
       "      <td>5.0</td>\n",
       "      <td>5.0</td>\n",
       "      <td>5.0</td>\n",
       "      <td>0.0</td>\n",
       "      <td>0.0</td>\n",
       "      <td>0.0</td>\n",
       "      <td>5.0</td>\n",
       "      <td>0.0</td>\n",
       "      <td>0.0</td>\n",
       "      <td>0.0</td>\n",
       "    </tr>\n",
       "  </tbody>\n",
       "</table>\n",
       "<p>3 rows × 54 columns</p>\n",
       "</div>"
      ],
      "text/plain": [
       "item_id  79    314   362   646   695   752   828   897   1119  1294  ...  \\\n",
       "user_id                                                              ...   \n",
       "7605      0.0   4.0   5.0   5.0   5.0   5.0   5.0   4.0   5.0   5.0  ...   \n",
       "46878     0.0   0.0   0.0   0.0   0.0   0.0   0.0   0.0   0.0   0.0  ...   \n",
       "80476     4.0   0.0   0.0   0.0   0.0   0.0   0.0   0.0   0.0   0.0  ...   \n",
       "\n",
       "item_id  3975  4018  4019  4385  4401  4430  4536  4558  4559  4628  \n",
       "user_id                                                              \n",
       "7605      0.0   0.0   0.0   0.0   0.0   0.0   0.0   0.0   0.0   0.0  \n",
       "46878     0.0   0.0   0.0   5.0   3.0   4.0   0.0   4.0   5.0   4.0  \n",
       "80476     5.0   5.0   5.0   0.0   0.0   0.0   5.0   0.0   0.0   0.0  \n",
       "\n",
       "[3 rows x 54 columns]"
      ]
     },
     "execution_count": 41,
     "metadata": {},
     "output_type": "execute_result"
    }
   ],
   "source": [
    "user_matrix = df.pivot(index = 'user_id', columns ='item_id', values = 'rating').fillna(0)\n",
    "user_matrix"
   ]
  },
  {
   "cell_type": "code",
   "execution_count": 42,
   "metadata": {},
   "outputs": [
    {
     "name": "stdout",
     "output_type": "stream",
     "text": [
      "Shape of the pivot table:  (3, 54)\n"
     ]
    }
   ],
   "source": [
    "print('Shape of the pivot table: ', user_matrix.shape)"
   ]
  },
  {
   "cell_type": "markdown",
   "metadata": {},
   "source": [
    "Next let’s look at the most rated items and choose two of them to work with in this simple recommender system. We use pandas `sort_values` utility and set ascending to false in order to arrange the items from the most rated. We then use the `head()` function to view the top 10."
   ]
  },
  {
   "cell_type": "code",
   "execution_count": 43,
   "metadata": {
    "scrolled": true
   },
   "outputs": [
    {
     "data": {
      "text/html": [
       "<div>\n",
       "<style scoped>\n",
       "    .dataframe tbody tr th:only-of-type {\n",
       "        vertical-align: middle;\n",
       "    }\n",
       "\n",
       "    .dataframe tbody tr th {\n",
       "        vertical-align: top;\n",
       "    }\n",
       "\n",
       "    .dataframe thead th {\n",
       "        text-align: right;\n",
       "    }\n",
       "</style>\n",
       "<table border=\"1\" class=\"dataframe\">\n",
       "  <thead>\n",
       "    <tr style=\"text-align: right;\">\n",
       "      <th></th>\n",
       "      <th>rating</th>\n",
       "      <th>number_of_ratings</th>\n",
       "    </tr>\n",
       "    <tr>\n",
       "      <th>item_id</th>\n",
       "      <th></th>\n",
       "      <th></th>\n",
       "    </tr>\n",
       "  </thead>\n",
       "  <tbody>\n",
       "    <tr>\n",
       "      <th>2340</th>\n",
       "      <td>4.597774</td>\n",
       "      <td>3145</td>\n",
       "    </tr>\n",
       "    <tr>\n",
       "      <th>1575</th>\n",
       "      <td>4.217883</td>\n",
       "      <td>2919</td>\n",
       "    </tr>\n",
       "    <tr>\n",
       "      <th>1886</th>\n",
       "      <td>4.141226</td>\n",
       "      <td>2627</td>\n",
       "    </tr>\n",
       "    <tr>\n",
       "      <th>2486</th>\n",
       "      <td>4.268987</td>\n",
       "      <td>2212</td>\n",
       "    </tr>\n",
       "    <tr>\n",
       "      <th>2129</th>\n",
       "      <td>4.141371</td>\n",
       "      <td>2115</td>\n",
       "    </tr>\n",
       "    <tr>\n",
       "      <th>283</th>\n",
       "      <td>4.401357</td>\n",
       "      <td>1916</td>\n",
       "    </tr>\n",
       "    <tr>\n",
       "      <th>457</th>\n",
       "      <td>3.752973</td>\n",
       "      <td>1850</td>\n",
       "    </tr>\n",
       "    <tr>\n",
       "      <th>1124</th>\n",
       "      <td>3.993880</td>\n",
       "      <td>1634</td>\n",
       "    </tr>\n",
       "    <tr>\n",
       "      <th>2483</th>\n",
       "      <td>4.551408</td>\n",
       "      <td>1634</td>\n",
       "    </tr>\n",
       "    <tr>\n",
       "      <th>1715</th>\n",
       "      <td>4.797148</td>\n",
       "      <td>1543</td>\n",
       "    </tr>\n",
       "  </tbody>\n",
       "</table>\n",
       "</div>"
      ],
      "text/plain": [
       "           rating  number_of_ratings\n",
       "item_id                             \n",
       "2340     4.597774               3145\n",
       "1575     4.217883               2919\n",
       "1886     4.141226               2627\n",
       "2486     4.268987               2212\n",
       "2129     4.141371               2115\n",
       "283      4.401357               1916\n",
       "457      3.752973               1850\n",
       "1124     3.993880               1634\n",
       "2483     4.551408               1634\n",
       "1715     4.797148               1543"
      ]
     },
     "execution_count": 43,
     "metadata": {},
     "output_type": "execute_result"
    }
   ],
   "source": [
    "ratings.sort_values('number_of_ratings', ascending=False).head(10)"
   ]
  },
  {
   "cell_type": "code",
   "execution_count": 44,
   "metadata": {},
   "outputs": [
    {
     "data": {
      "text/html": [
       "<div>\n",
       "<style scoped>\n",
       "    .dataframe tbody tr th:only-of-type {\n",
       "        vertical-align: middle;\n",
       "    }\n",
       "\n",
       "    .dataframe tbody tr th {\n",
       "        vertical-align: top;\n",
       "    }\n",
       "\n",
       "    .dataframe thead th {\n",
       "        text-align: right;\n",
       "    }\n",
       "</style>\n",
       "<table border=\"1\" class=\"dataframe\">\n",
       "  <thead>\n",
       "    <tr style=\"text-align: right;\">\n",
       "      <th>item_id</th>\n",
       "      <th>79</th>\n",
       "      <th>314</th>\n",
       "      <th>362</th>\n",
       "      <th>646</th>\n",
       "      <th>695</th>\n",
       "      <th>752</th>\n",
       "      <th>828</th>\n",
       "      <th>897</th>\n",
       "      <th>1119</th>\n",
       "      <th>1294</th>\n",
       "      <th>...</th>\n",
       "      <th>4018</th>\n",
       "      <th>4019</th>\n",
       "      <th>4385</th>\n",
       "      <th>4401</th>\n",
       "      <th>4430</th>\n",
       "      <th>4536</th>\n",
       "      <th>4558</th>\n",
       "      <th>4559</th>\n",
       "      <th>4628</th>\n",
       "      <th>user_index</th>\n",
       "    </tr>\n",
       "    <tr>\n",
       "      <th>user_id</th>\n",
       "      <th></th>\n",
       "      <th></th>\n",
       "      <th></th>\n",
       "      <th></th>\n",
       "      <th></th>\n",
       "      <th></th>\n",
       "      <th></th>\n",
       "      <th></th>\n",
       "      <th></th>\n",
       "      <th></th>\n",
       "      <th></th>\n",
       "      <th></th>\n",
       "      <th></th>\n",
       "      <th></th>\n",
       "      <th></th>\n",
       "      <th></th>\n",
       "      <th></th>\n",
       "      <th></th>\n",
       "      <th></th>\n",
       "      <th></th>\n",
       "      <th></th>\n",
       "    </tr>\n",
       "  </thead>\n",
       "  <tbody>\n",
       "    <tr>\n",
       "      <th>7605</th>\n",
       "      <td>0.0</td>\n",
       "      <td>4.0</td>\n",
       "      <td>5.0</td>\n",
       "      <td>5.0</td>\n",
       "      <td>5.0</td>\n",
       "      <td>5.0</td>\n",
       "      <td>5.0</td>\n",
       "      <td>4.0</td>\n",
       "      <td>5.0</td>\n",
       "      <td>5.0</td>\n",
       "      <td>...</td>\n",
       "      <td>0.0</td>\n",
       "      <td>0.0</td>\n",
       "      <td>0.0</td>\n",
       "      <td>0.0</td>\n",
       "      <td>0.0</td>\n",
       "      <td>0.0</td>\n",
       "      <td>0.0</td>\n",
       "      <td>0.0</td>\n",
       "      <td>0.0</td>\n",
       "      <td>0</td>\n",
       "    </tr>\n",
       "    <tr>\n",
       "      <th>46878</th>\n",
       "      <td>0.0</td>\n",
       "      <td>0.0</td>\n",
       "      <td>0.0</td>\n",
       "      <td>0.0</td>\n",
       "      <td>0.0</td>\n",
       "      <td>0.0</td>\n",
       "      <td>0.0</td>\n",
       "      <td>0.0</td>\n",
       "      <td>0.0</td>\n",
       "      <td>0.0</td>\n",
       "      <td>...</td>\n",
       "      <td>0.0</td>\n",
       "      <td>0.0</td>\n",
       "      <td>5.0</td>\n",
       "      <td>3.0</td>\n",
       "      <td>4.0</td>\n",
       "      <td>0.0</td>\n",
       "      <td>4.0</td>\n",
       "      <td>5.0</td>\n",
       "      <td>4.0</td>\n",
       "      <td>1</td>\n",
       "    </tr>\n",
       "    <tr>\n",
       "      <th>80476</th>\n",
       "      <td>4.0</td>\n",
       "      <td>0.0</td>\n",
       "      <td>0.0</td>\n",
       "      <td>0.0</td>\n",
       "      <td>0.0</td>\n",
       "      <td>0.0</td>\n",
       "      <td>0.0</td>\n",
       "      <td>0.0</td>\n",
       "      <td>0.0</td>\n",
       "      <td>0.0</td>\n",
       "      <td>...</td>\n",
       "      <td>5.0</td>\n",
       "      <td>5.0</td>\n",
       "      <td>0.0</td>\n",
       "      <td>0.0</td>\n",
       "      <td>0.0</td>\n",
       "      <td>5.0</td>\n",
       "      <td>0.0</td>\n",
       "      <td>0.0</td>\n",
       "      <td>0.0</td>\n",
       "      <td>2</td>\n",
       "    </tr>\n",
       "  </tbody>\n",
       "</table>\n",
       "<p>3 rows × 55 columns</p>\n",
       "</div>"
      ],
      "text/plain": [
       "item_id   79  314  362  646  695  752  828  897  1119  1294  ...  4018  4019  \\\n",
       "user_id                                                      ...               \n",
       "7605     0.0  4.0  5.0  5.0  5.0  5.0  5.0  4.0   5.0   5.0  ...   0.0   0.0   \n",
       "46878    0.0  0.0  0.0  0.0  0.0  0.0  0.0  0.0   0.0   0.0  ...   0.0   0.0   \n",
       "80476    4.0  0.0  0.0  0.0  0.0  0.0  0.0  0.0   0.0   0.0  ...   5.0   5.0   \n",
       "\n",
       "item_id  4385  4401  4430  4536  4558  4559  4628  user_index  \n",
       "user_id                                                        \n",
       "7605      0.0   0.0   0.0   0.0   0.0   0.0   0.0           0  \n",
       "46878     5.0   3.0   4.0   0.0   4.0   5.0   4.0           1  \n",
       "80476     0.0   0.0   0.0   5.0   0.0   0.0   0.0           2  \n",
       "\n",
       "[3 rows x 55 columns]"
      ]
     },
     "execution_count": 44,
     "metadata": {},
     "output_type": "execute_result"
    }
   ],
   "source": [
    "# Let's define the user index\n",
    "\n",
    "#define user index from 0 to 10\n",
    "user_matrix['user_index'] = np.arange(0, user_matrix.shape[0], 1)\n",
    "user_matrix.head()"
   ]
  },
  {
   "cell_type": "code",
   "execution_count": 45,
   "metadata": {
    "scrolled": true
   },
   "outputs": [
    {
     "data": {
      "text/html": [
       "<div>\n",
       "<style scoped>\n",
       "    .dataframe tbody tr th:only-of-type {\n",
       "        vertical-align: middle;\n",
       "    }\n",
       "\n",
       "    .dataframe tbody tr th {\n",
       "        vertical-align: top;\n",
       "    }\n",
       "\n",
       "    .dataframe thead th {\n",
       "        text-align: right;\n",
       "    }\n",
       "</style>\n",
       "<table border=\"1\" class=\"dataframe\">\n",
       "  <thead>\n",
       "    <tr style=\"text-align: right;\">\n",
       "      <th>item_id</th>\n",
       "      <th>79</th>\n",
       "      <th>314</th>\n",
       "      <th>362</th>\n",
       "      <th>646</th>\n",
       "      <th>695</th>\n",
       "      <th>752</th>\n",
       "      <th>828</th>\n",
       "      <th>897</th>\n",
       "      <th>1119</th>\n",
       "      <th>1294</th>\n",
       "      <th>...</th>\n",
       "      <th>3975</th>\n",
       "      <th>4018</th>\n",
       "      <th>4019</th>\n",
       "      <th>4385</th>\n",
       "      <th>4401</th>\n",
       "      <th>4430</th>\n",
       "      <th>4536</th>\n",
       "      <th>4558</th>\n",
       "      <th>4559</th>\n",
       "      <th>4628</th>\n",
       "    </tr>\n",
       "    <tr>\n",
       "      <th>user_index</th>\n",
       "      <th></th>\n",
       "      <th></th>\n",
       "      <th></th>\n",
       "      <th></th>\n",
       "      <th></th>\n",
       "      <th></th>\n",
       "      <th></th>\n",
       "      <th></th>\n",
       "      <th></th>\n",
       "      <th></th>\n",
       "      <th></th>\n",
       "      <th></th>\n",
       "      <th></th>\n",
       "      <th></th>\n",
       "      <th></th>\n",
       "      <th></th>\n",
       "      <th></th>\n",
       "      <th></th>\n",
       "      <th></th>\n",
       "      <th></th>\n",
       "      <th></th>\n",
       "    </tr>\n",
       "  </thead>\n",
       "  <tbody>\n",
       "    <tr>\n",
       "      <th>0</th>\n",
       "      <td>0.0</td>\n",
       "      <td>4.0</td>\n",
       "      <td>5.0</td>\n",
       "      <td>5.0</td>\n",
       "      <td>5.0</td>\n",
       "      <td>5.0</td>\n",
       "      <td>5.0</td>\n",
       "      <td>4.0</td>\n",
       "      <td>5.0</td>\n",
       "      <td>5.0</td>\n",
       "      <td>...</td>\n",
       "      <td>0.0</td>\n",
       "      <td>0.0</td>\n",
       "      <td>0.0</td>\n",
       "      <td>0.0</td>\n",
       "      <td>0.0</td>\n",
       "      <td>0.0</td>\n",
       "      <td>0.0</td>\n",
       "      <td>0.0</td>\n",
       "      <td>0.0</td>\n",
       "      <td>0.0</td>\n",
       "    </tr>\n",
       "    <tr>\n",
       "      <th>1</th>\n",
       "      <td>0.0</td>\n",
       "      <td>0.0</td>\n",
       "      <td>0.0</td>\n",
       "      <td>0.0</td>\n",
       "      <td>0.0</td>\n",
       "      <td>0.0</td>\n",
       "      <td>0.0</td>\n",
       "      <td>0.0</td>\n",
       "      <td>0.0</td>\n",
       "      <td>0.0</td>\n",
       "      <td>...</td>\n",
       "      <td>0.0</td>\n",
       "      <td>0.0</td>\n",
       "      <td>0.0</td>\n",
       "      <td>5.0</td>\n",
       "      <td>3.0</td>\n",
       "      <td>4.0</td>\n",
       "      <td>0.0</td>\n",
       "      <td>4.0</td>\n",
       "      <td>5.0</td>\n",
       "      <td>4.0</td>\n",
       "    </tr>\n",
       "    <tr>\n",
       "      <th>2</th>\n",
       "      <td>4.0</td>\n",
       "      <td>0.0</td>\n",
       "      <td>0.0</td>\n",
       "      <td>0.0</td>\n",
       "      <td>0.0</td>\n",
       "      <td>0.0</td>\n",
       "      <td>0.0</td>\n",
       "      <td>0.0</td>\n",
       "      <td>0.0</td>\n",
       "      <td>0.0</td>\n",
       "      <td>...</td>\n",
       "      <td>5.0</td>\n",
       "      <td>5.0</td>\n",
       "      <td>5.0</td>\n",
       "      <td>0.0</td>\n",
       "      <td>0.0</td>\n",
       "      <td>0.0</td>\n",
       "      <td>5.0</td>\n",
       "      <td>0.0</td>\n",
       "      <td>0.0</td>\n",
       "      <td>0.0</td>\n",
       "    </tr>\n",
       "  </tbody>\n",
       "</table>\n",
       "<p>3 rows × 54 columns</p>\n",
       "</div>"
      ],
      "text/plain": [
       "item_id     79    314   362   646   695   752   828   897   1119  1294  ...  \\\n",
       "user_index                                                              ...   \n",
       "0            0.0   4.0   5.0   5.0   5.0   5.0   5.0   4.0   5.0   5.0  ...   \n",
       "1            0.0   0.0   0.0   0.0   0.0   0.0   0.0   0.0   0.0   0.0  ...   \n",
       "2            4.0   0.0   0.0   0.0   0.0   0.0   0.0   0.0   0.0   0.0  ...   \n",
       "\n",
       "item_id     3975  4018  4019  4385  4401  4430  4536  4558  4559  4628  \n",
       "user_index                                                              \n",
       "0            0.0   0.0   0.0   0.0   0.0   0.0   0.0   0.0   0.0   0.0  \n",
       "1            0.0   0.0   0.0   5.0   3.0   4.0   0.0   4.0   5.0   4.0  \n",
       "2            5.0   5.0   5.0   0.0   0.0   0.0   5.0   0.0   0.0   0.0  \n",
       "\n",
       "[3 rows x 54 columns]"
      ]
     },
     "execution_count": 45,
     "metadata": {},
     "output_type": "execute_result"
    }
   ],
   "source": [
    "user_matrix.set_index(['user_index'], inplace=True)\n",
    "\n",
    "# Actual ratings given by users\n",
    "user_matrix.head()"
   ]
  },
  {
   "cell_type": "markdown",
   "metadata": {},
   "source": [
    "\n",
    "Since this is a sparse dataset, let's implement Singular Value Decomposition. Singular Value Decomposition (SVD) provides another way to factorize a matrix, into singular vectors and singular values. The SVD allows us to discover some of the same kind of information, which helps us denoise the data and reduce sparsity.\n",
    "\n",
    "Let's now implement SVD to make certain subsequent matrix calculations simpler."
   ]
  },
  {
   "cell_type": "code",
   "execution_count": 46,
   "metadata": {},
   "outputs": [],
   "source": [
    "from scipy.linalg import svd\n",
    "\n",
    "# Singular Value Decomposition\n",
    "U, sigma, Vt = svds(user_matrix, k=2)"
   ]
  },
  {
   "cell_type": "code",
   "execution_count": 47,
   "metadata": {},
   "outputs": [
    {
     "name": "stdout",
     "output_type": "stream",
     "text": [
      "Left singular matrix: \n",
      " [[-8.83829741e-01  1.05471187e-15]\n",
      " [-4.67808710e-01  1.11022302e-16]\n",
      " [ 1.33226763e-15  1.00000000e+00]]\n",
      "Sigma: \n",
      " [20.27886666 21.16601049]\n"
     ]
    }
   ],
   "source": [
    "print('Left singular matrix: \\n', U)\n",
    "print('Sigma: \\n',sigma)"
   ]
  },
  {
   "cell_type": "code",
   "execution_count": 48,
   "metadata": {},
   "outputs": [
    {
     "name": "stdout",
     "output_type": "stream",
     "text": [
      "Diagonal matrix: \n",
      " [[20.27886666  0.        ]\n",
      " [ 0.         21.16601049]]\n",
      "Right singular matrix: \n",
      " [[ 2.62789366e-16 -1.74335135e-01 -2.17918919e-01 -2.17918919e-01\n",
      "  -2.17918919e-01 -2.17918919e-01 -2.17918919e-01 -1.74335135e-01\n",
      "  -2.17918919e-01 -2.17918919e-01 -2.17918919e-01 -3.33262818e-01\n",
      "  -1.15343899e-01 -1.15343899e-01 -9.22751193e-02 -1.74335135e-01\n",
      "  -6.92063395e-02 -2.17918919e-01  2.62789366e-16  3.28486708e-16\n",
      "   3.28486708e-16 -2.17918919e-01  3.28486708e-16 -2.17918919e-01\n",
      "   3.28486708e-16  3.28486708e-16  3.28486708e-16  3.28486708e-16\n",
      "   3.28486708e-16  3.28486708e-16  3.28486708e-16 -9.22751193e-02\n",
      "  -1.15343899e-01 -1.15343899e-01 -2.17918919e-01  3.28486708e-16\n",
      "  -6.92063395e-02 -1.15343899e-01 -9.22751193e-02  2.62789366e-16\n",
      "  -2.17918919e-01 -1.15343899e-01  3.28486708e-16 -9.22751193e-02\n",
      "   3.28486708e-16  3.28486708e-16  3.28486708e-16 -1.15343899e-01\n",
      "  -6.92063395e-02 -9.22751193e-02  3.28486708e-16 -9.22751193e-02\n",
      "  -1.15343899e-01 -9.22751193e-02]\n",
      " [ 1.88982237e-01  1.99321809e-16  2.49152261e-16  2.49152261e-16\n",
      "   2.49152261e-16  2.49152261e-16  2.49152261e-16  1.99321809e-16\n",
      "   2.49152261e-16  2.49152261e-16  2.49152261e-16  2.75378815e-16\n",
      "   2.62265538e-17  2.62265538e-17  2.09812430e-17  1.99321809e-16\n",
      "   1.57359323e-17  2.49152261e-16  1.88982237e-01  2.36227796e-01\n",
      "   2.36227796e-01  2.49152261e-16  2.36227796e-01  2.49152261e-16\n",
      "   2.36227796e-01  2.36227796e-01  2.36227796e-01  2.36227796e-01\n",
      "   2.36227796e-01  2.36227796e-01  2.36227796e-01  2.09812430e-17\n",
      "   2.62265538e-17  2.62265538e-17  2.49152261e-16  2.36227796e-01\n",
      "   1.57359323e-17  2.62265538e-17  2.09812430e-17  1.88982237e-01\n",
      "   2.49152261e-16  2.62265538e-17  2.36227796e-01  2.09812430e-17\n",
      "   2.36227796e-01  2.36227796e-01  2.36227796e-01  2.62265538e-17\n",
      "   1.57359323e-17  2.09812430e-17  2.36227796e-01  2.09812430e-17\n",
      "   2.62265538e-17  2.09812430e-17]]\n"
     ]
    }
   ],
   "source": [
    "# Converting the sigma into a diagonal matrix\n",
    "sigma = np.diag(sigma)\n",
    "print('Diagonal matrix: \\n',sigma)\n",
    "\n",
    "print('Right singular matrix: \\n', Vt)"
   ]
  },
  {
   "cell_type": "code",
   "execution_count": 49,
   "metadata": {},
   "outputs": [
    {
     "data": {
      "text/html": [
       "<div>\n",
       "<style scoped>\n",
       "    .dataframe tbody tr th:only-of-type {\n",
       "        vertical-align: middle;\n",
       "    }\n",
       "\n",
       "    .dataframe tbody tr th {\n",
       "        vertical-align: top;\n",
       "    }\n",
       "\n",
       "    .dataframe thead th {\n",
       "        text-align: right;\n",
       "    }\n",
       "</style>\n",
       "<table border=\"1\" class=\"dataframe\">\n",
       "  <thead>\n",
       "    <tr style=\"text-align: right;\">\n",
       "      <th>item_id</th>\n",
       "      <th>79</th>\n",
       "      <th>314</th>\n",
       "      <th>362</th>\n",
       "      <th>646</th>\n",
       "      <th>695</th>\n",
       "      <th>752</th>\n",
       "      <th>828</th>\n",
       "      <th>897</th>\n",
       "      <th>1119</th>\n",
       "      <th>1294</th>\n",
       "      <th>...</th>\n",
       "      <th>3975</th>\n",
       "      <th>4018</th>\n",
       "      <th>4019</th>\n",
       "      <th>4385</th>\n",
       "      <th>4401</th>\n",
       "      <th>4430</th>\n",
       "      <th>4536</th>\n",
       "      <th>4558</th>\n",
       "      <th>4559</th>\n",
       "      <th>4628</th>\n",
       "    </tr>\n",
       "  </thead>\n",
       "  <tbody>\n",
       "    <tr>\n",
       "      <th>0</th>\n",
       "      <td>-4.911435e-16</td>\n",
       "      <td>3.124620e+00</td>\n",
       "      <td>3.905775e+00</td>\n",
       "      <td>3.905775e+00</td>\n",
       "      <td>3.905775e+00</td>\n",
       "      <td>3.905775e+00</td>\n",
       "      <td>3.905775e+00</td>\n",
       "      <td>3.124620e+00</td>\n",
       "      <td>3.905775e+00</td>\n",
       "      <td>3.905775e+00</td>\n",
       "      <td>...</td>\n",
       "      <td>-6.139294e-16</td>\n",
       "      <td>-6.139294e-16</td>\n",
       "      <td>-6.139294e-16</td>\n",
       "      <td>2.067316e+00</td>\n",
       "      <td>1.240390e+00</td>\n",
       "      <td>1.653853e+00</td>\n",
       "      <td>-6.139294e-16</td>\n",
       "      <td>1.653853e+00</td>\n",
       "      <td>2.067316e+00</td>\n",
       "      <td>1.653853e+00</td>\n",
       "    </tr>\n",
       "    <tr>\n",
       "      <th>1</th>\n",
       "      <td>-2.048896e-15</td>\n",
       "      <td>1.653853e+00</td>\n",
       "      <td>2.067316e+00</td>\n",
       "      <td>2.067316e+00</td>\n",
       "      <td>2.067316e+00</td>\n",
       "      <td>2.067316e+00</td>\n",
       "      <td>2.067316e+00</td>\n",
       "      <td>1.653853e+00</td>\n",
       "      <td>2.067316e+00</td>\n",
       "      <td>2.067316e+00</td>\n",
       "      <td>...</td>\n",
       "      <td>-2.561120e-15</td>\n",
       "      <td>-2.561120e-15</td>\n",
       "      <td>-2.561120e-15</td>\n",
       "      <td>1.094225e+00</td>\n",
       "      <td>6.565350e-01</td>\n",
       "      <td>8.753800e-01</td>\n",
       "      <td>-2.561120e-15</td>\n",
       "      <td>8.753800e-01</td>\n",
       "      <td>1.094225e+00</td>\n",
       "      <td>8.753800e-01</td>\n",
       "    </tr>\n",
       "    <tr>\n",
       "      <th>2</th>\n",
       "      <td>4.000000e+00</td>\n",
       "      <td>-4.911435e-16</td>\n",
       "      <td>-6.139294e-16</td>\n",
       "      <td>-6.139294e-16</td>\n",
       "      <td>-6.139294e-16</td>\n",
       "      <td>-6.139294e-16</td>\n",
       "      <td>-6.139294e-16</td>\n",
       "      <td>-4.911435e-16</td>\n",
       "      <td>-6.139294e-16</td>\n",
       "      <td>-6.139294e-16</td>\n",
       "      <td>...</td>\n",
       "      <td>5.000000e+00</td>\n",
       "      <td>5.000000e+00</td>\n",
       "      <td>5.000000e+00</td>\n",
       "      <td>-2.561120e-15</td>\n",
       "      <td>-1.536672e-15</td>\n",
       "      <td>-2.048896e-15</td>\n",
       "      <td>5.000000e+00</td>\n",
       "      <td>-2.048896e-15</td>\n",
       "      <td>-2.561120e-15</td>\n",
       "      <td>-2.048896e-15</td>\n",
       "    </tr>\n",
       "  </tbody>\n",
       "</table>\n",
       "<p>3 rows × 54 columns</p>\n",
       "</div>"
      ],
      "text/plain": [
       "item_id          79            314           362           646           695   \\\n",
       "0       -4.911435e-16  3.124620e+00  3.905775e+00  3.905775e+00  3.905775e+00   \n",
       "1       -2.048896e-15  1.653853e+00  2.067316e+00  2.067316e+00  2.067316e+00   \n",
       "2        4.000000e+00 -4.911435e-16 -6.139294e-16 -6.139294e-16 -6.139294e-16   \n",
       "\n",
       "item_id          752           828           897           1119          1294  \\\n",
       "0        3.905775e+00  3.905775e+00  3.124620e+00  3.905775e+00  3.905775e+00   \n",
       "1        2.067316e+00  2.067316e+00  1.653853e+00  2.067316e+00  2.067316e+00   \n",
       "2       -6.139294e-16 -6.139294e-16 -4.911435e-16 -6.139294e-16 -6.139294e-16   \n",
       "\n",
       "item_id  ...          3975          4018          4019          4385  \\\n",
       "0        ... -6.139294e-16 -6.139294e-16 -6.139294e-16  2.067316e+00   \n",
       "1        ... -2.561120e-15 -2.561120e-15 -2.561120e-15  1.094225e+00   \n",
       "2        ...  5.000000e+00  5.000000e+00  5.000000e+00 -2.561120e-15   \n",
       "\n",
       "item_id          4401          4430          4536          4558          4559  \\\n",
       "0        1.240390e+00  1.653853e+00 -6.139294e-16  1.653853e+00  2.067316e+00   \n",
       "1        6.565350e-01  8.753800e-01 -2.561120e-15  8.753800e-01  1.094225e+00   \n",
       "2       -1.536672e-15 -2.048896e-15  5.000000e+00 -2.048896e-15 -2.561120e-15   \n",
       "\n",
       "item_id          4628  \n",
       "0        1.653853e+00  \n",
       "1        8.753800e-01  \n",
       "2       -2.048896e-15  \n",
       "\n",
       "[3 rows x 54 columns]"
      ]
     },
     "execution_count": 49,
     "metadata": {},
     "output_type": "execute_result"
    }
   ],
   "source": [
    "#Predicted ratings\n",
    "all_user_predicted_ratings = np.dot(np.dot(U, sigma), Vt) \n",
    "\n",
    "# Convert predicted ratings to dataframe\n",
    "preds = pd.DataFrame(all_user_predicted_ratings, columns = user_matrix.columns)\n",
    "preds.head()"
   ]
  },
  {
   "cell_type": "markdown",
   "metadata": {},
   "source": [
    "We can now recommend the items with the highest predicted ratings:"
   ]
  },
  {
   "cell_type": "code",
   "execution_count": 50,
   "metadata": {},
   "outputs": [],
   "source": [
    "# Recommending the items with the highest predicted ratings\n",
    "\n",
    "def recommend_items(user_id, item_matrix, preds, num_recommendations):\n",
    "    # index starts at 0  \n",
    "    user_idx = user_id - 1 \n",
    "    \n",
    "    # Get and sort the user's ratings\n",
    "    sorted_user_ratings = item_matrix.iloc[user_idx].sort_values(ascending=False)\n",
    "    \n",
    "    #sorted_user_ratings\n",
    "    sorted_user_predictions = preds.iloc[user_idx].sort_values(ascending=False)\n",
    "    \n",
    "    #sorted_user_predictions\n",
    "    temp = pd.concat([sorted_user_ratings, sorted_user_predictions], axis=1)\n",
    "    temp.index.name = 'Recommended Items'\n",
    "    temp.columns = ['user_ratings', 'user_predictions']\n",
    "    temp = temp.loc[temp.user_ratings == 0]   \n",
    "    temp = temp.sort_values('user_predictions', ascending=False)\n",
    "    print('\\n Recommended items for user(user_id = {}):\\n'.format(user_id))\n",
    "    print(temp.head(num_recommendations))"
   ]
  },
  {
   "cell_type": "markdown",
   "metadata": {},
   "source": [
    "Let's take a look into of the recommended items for a given user:"
   ]
  },
  {
   "cell_type": "code",
   "execution_count": 51,
   "metadata": {},
   "outputs": [
    {
     "name": "stdout",
     "output_type": "stream",
     "text": [
      "\n",
      " Recommended items for user(user_id = 3):\n",
      "\n",
      "                   user_ratings  user_predictions\n",
      "Recommended Items                                \n",
      "314                         0.0     -4.911435e-16\n",
      "897                         0.0     -4.911435e-16\n",
      "1725                        0.0     -4.911435e-16\n",
      "1455                        0.0     -6.139294e-16\n",
      "3630                        0.0     -6.139294e-16\n"
     ]
    }
   ],
   "source": [
    "user_id = 3\n",
    "num_recommendations = 5\n",
    "recommend_items(user_id, user_matrix, preds, num_recommendations)"
   ]
  },
  {
   "cell_type": "code",
   "execution_count": 52,
   "metadata": {},
   "outputs": [
    {
     "name": "stdout",
     "output_type": "stream",
     "text": [
      "\n",
      " Recommended items for user(user_id = 2):\n",
      "\n",
      "                   user_ratings  user_predictions\n",
      "Recommended Items                                \n",
      "1780                        0.0          2.067316\n",
      "1119                        0.0          2.067316\n",
      "3630                        0.0          2.067316\n",
      "2435                        0.0          2.067316\n",
      "2284                        0.0          2.067316\n"
     ]
    }
   ],
   "source": [
    "user_id = 2\n",
    "num_recommendations = 5\n",
    "recommend_items(user_id, user_matrix, preds, num_recommendations)"
   ]
  },
  {
   "cell_type": "code",
   "execution_count": 53,
   "metadata": {
    "scrolled": true
   },
   "outputs": [
    {
     "name": "stdout",
     "output_type": "stream",
     "text": [
      "\n",
      " Recommended items for user(user_id = 1):\n",
      "\n",
      "                   user_ratings  user_predictions\n",
      "Recommended Items                                \n",
      "3189                        0.0          2.067316\n",
      "1670                        0.0          2.067316\n",
      "4559                        0.0          2.067316\n",
      "4385                        0.0          2.067316\n",
      "3698                        0.0          2.067316\n"
     ]
    }
   ],
   "source": [
    "user_id = 1\n",
    "num_recommendations = 5\n",
    "recommend_items(user_id, user_matrix, preds, num_recommendations)"
   ]
  },
  {
   "cell_type": "markdown",
   "metadata": {},
   "source": [
    "As you could see, using our user-based collaborative filtering model all three users are given different product recommendations based on their past purchasing habits of Amazon's electronic products."
   ]
  },
  {
   "cell_type": "markdown",
   "metadata": {},
   "source": [
    "**Evaluation**"
   ]
  },
  {
   "cell_type": "code",
   "execution_count": 54,
   "metadata": {},
   "outputs": [
    {
     "data": {
      "text/html": [
       "<div>\n",
       "<style scoped>\n",
       "    .dataframe tbody tr th:only-of-type {\n",
       "        vertical-align: middle;\n",
       "    }\n",
       "\n",
       "    .dataframe tbody tr th {\n",
       "        vertical-align: top;\n",
       "    }\n",
       "\n",
       "    .dataframe thead th {\n",
       "        text-align: right;\n",
       "    }\n",
       "</style>\n",
       "<table border=\"1\" class=\"dataframe\">\n",
       "  <thead>\n",
       "    <tr style=\"text-align: right;\">\n",
       "      <th>item_id</th>\n",
       "      <th>79</th>\n",
       "      <th>314</th>\n",
       "      <th>362</th>\n",
       "      <th>646</th>\n",
       "      <th>695</th>\n",
       "      <th>752</th>\n",
       "      <th>828</th>\n",
       "      <th>897</th>\n",
       "      <th>1119</th>\n",
       "      <th>1294</th>\n",
       "      <th>...</th>\n",
       "      <th>3975</th>\n",
       "      <th>4018</th>\n",
       "      <th>4019</th>\n",
       "      <th>4385</th>\n",
       "      <th>4401</th>\n",
       "      <th>4430</th>\n",
       "      <th>4536</th>\n",
       "      <th>4558</th>\n",
       "      <th>4559</th>\n",
       "      <th>4628</th>\n",
       "    </tr>\n",
       "    <tr>\n",
       "      <th>user_index</th>\n",
       "      <th></th>\n",
       "      <th></th>\n",
       "      <th></th>\n",
       "      <th></th>\n",
       "      <th></th>\n",
       "      <th></th>\n",
       "      <th></th>\n",
       "      <th></th>\n",
       "      <th></th>\n",
       "      <th></th>\n",
       "      <th></th>\n",
       "      <th></th>\n",
       "      <th></th>\n",
       "      <th></th>\n",
       "      <th></th>\n",
       "      <th></th>\n",
       "      <th></th>\n",
       "      <th></th>\n",
       "      <th></th>\n",
       "      <th></th>\n",
       "      <th></th>\n",
       "    </tr>\n",
       "  </thead>\n",
       "  <tbody>\n",
       "    <tr>\n",
       "      <th>0</th>\n",
       "      <td>0.0</td>\n",
       "      <td>4.0</td>\n",
       "      <td>5.0</td>\n",
       "      <td>5.0</td>\n",
       "      <td>5.0</td>\n",
       "      <td>5.0</td>\n",
       "      <td>5.0</td>\n",
       "      <td>4.0</td>\n",
       "      <td>5.0</td>\n",
       "      <td>5.0</td>\n",
       "      <td>...</td>\n",
       "      <td>0.0</td>\n",
       "      <td>0.0</td>\n",
       "      <td>0.0</td>\n",
       "      <td>0.0</td>\n",
       "      <td>0.0</td>\n",
       "      <td>0.0</td>\n",
       "      <td>0.0</td>\n",
       "      <td>0.0</td>\n",
       "      <td>0.0</td>\n",
       "      <td>0.0</td>\n",
       "    </tr>\n",
       "    <tr>\n",
       "      <th>1</th>\n",
       "      <td>0.0</td>\n",
       "      <td>0.0</td>\n",
       "      <td>0.0</td>\n",
       "      <td>0.0</td>\n",
       "      <td>0.0</td>\n",
       "      <td>0.0</td>\n",
       "      <td>0.0</td>\n",
       "      <td>0.0</td>\n",
       "      <td>0.0</td>\n",
       "      <td>0.0</td>\n",
       "      <td>...</td>\n",
       "      <td>0.0</td>\n",
       "      <td>0.0</td>\n",
       "      <td>0.0</td>\n",
       "      <td>5.0</td>\n",
       "      <td>3.0</td>\n",
       "      <td>4.0</td>\n",
       "      <td>0.0</td>\n",
       "      <td>4.0</td>\n",
       "      <td>5.0</td>\n",
       "      <td>4.0</td>\n",
       "    </tr>\n",
       "    <tr>\n",
       "      <th>2</th>\n",
       "      <td>4.0</td>\n",
       "      <td>0.0</td>\n",
       "      <td>0.0</td>\n",
       "      <td>0.0</td>\n",
       "      <td>0.0</td>\n",
       "      <td>0.0</td>\n",
       "      <td>0.0</td>\n",
       "      <td>0.0</td>\n",
       "      <td>0.0</td>\n",
       "      <td>0.0</td>\n",
       "      <td>...</td>\n",
       "      <td>5.0</td>\n",
       "      <td>5.0</td>\n",
       "      <td>5.0</td>\n",
       "      <td>0.0</td>\n",
       "      <td>0.0</td>\n",
       "      <td>0.0</td>\n",
       "      <td>5.0</td>\n",
       "      <td>0.0</td>\n",
       "      <td>0.0</td>\n",
       "      <td>0.0</td>\n",
       "    </tr>\n",
       "  </tbody>\n",
       "</table>\n",
       "<p>3 rows × 54 columns</p>\n",
       "</div>"
      ],
      "text/plain": [
       "item_id     79    314   362   646   695   752   828   897   1119  1294  ...  \\\n",
       "user_index                                                              ...   \n",
       "0            0.0   4.0   5.0   5.0   5.0   5.0   5.0   4.0   5.0   5.0  ...   \n",
       "1            0.0   0.0   0.0   0.0   0.0   0.0   0.0   0.0   0.0   0.0  ...   \n",
       "2            4.0   0.0   0.0   0.0   0.0   0.0   0.0   0.0   0.0   0.0  ...   \n",
       "\n",
       "item_id     3975  4018  4019  4385  4401  4430  4536  4558  4559  4628  \n",
       "user_index                                                              \n",
       "0            0.0   0.0   0.0   0.0   0.0   0.0   0.0   0.0   0.0   0.0  \n",
       "1            0.0   0.0   0.0   5.0   3.0   4.0   0.0   4.0   5.0   4.0  \n",
       "2            5.0   5.0   5.0   0.0   0.0   0.0   5.0   0.0   0.0   0.0  \n",
       "\n",
       "[3 rows x 54 columns]"
      ]
     },
     "execution_count": 54,
     "metadata": {},
     "output_type": "execute_result"
    }
   ],
   "source": [
    "# Actual ratings given by the users\n",
    "user_matrix.head()"
   ]
  },
  {
   "cell_type": "code",
   "execution_count": 55,
   "metadata": {},
   "outputs": [
    {
     "data": {
      "text/plain": [
       "item_id\n",
       "79     1.333333\n",
       "314    1.333333\n",
       "362    1.666667\n",
       "646    1.666667\n",
       "695    1.666667\n",
       "dtype: float64"
      ]
     },
     "execution_count": 55,
     "metadata": {},
     "output_type": "execute_result"
    }
   ],
   "source": [
    "# Average ACTUAL rating for each item\n",
    "user_matrix.mean().head() "
   ]
  },
  {
   "cell_type": "code",
   "execution_count": 56,
   "metadata": {},
   "outputs": [
    {
     "data": {
      "text/plain": [
       "item_id\n",
       "79     1.333333\n",
       "314    1.592824\n",
       "362    1.991030\n",
       "646    1.991030\n",
       "695    1.991030\n",
       "dtype: float64"
      ]
     },
     "execution_count": 56,
     "metadata": {},
     "output_type": "execute_result"
    }
   ],
   "source": [
    "# Average PREDICTED rating for each item\n",
    "preds.mean().head()"
   ]
  },
  {
   "cell_type": "markdown",
   "metadata": {},
   "source": [
    "We will evaluate our model using the Root Mean Squared Error(RMSE). RMSE is a frequently used measure of the differences between values predicted by a model or an estimator and the values observed.\n",
    "\n",
    "In our case, we will evaluate the model based on predicted ratings and actual ratings."
   ]
  },
  {
   "cell_type": "code",
   "execution_count": 57,
   "metadata": {},
   "outputs": [
    {
     "name": "stdout",
     "output_type": "stream",
     "text": [
      "(54, 2)\n"
     ]
    },
    {
     "data": {
      "text/html": [
       "<div>\n",
       "<style scoped>\n",
       "    .dataframe tbody tr th:only-of-type {\n",
       "        vertical-align: middle;\n",
       "    }\n",
       "\n",
       "    .dataframe tbody tr th {\n",
       "        vertical-align: top;\n",
       "    }\n",
       "\n",
       "    .dataframe thead th {\n",
       "        text-align: right;\n",
       "    }\n",
       "</style>\n",
       "<table border=\"1\" class=\"dataframe\">\n",
       "  <thead>\n",
       "    <tr style=\"text-align: right;\">\n",
       "      <th></th>\n",
       "      <th>Avg_actual_ratings</th>\n",
       "      <th>Avg_predicted_ratings</th>\n",
       "      <th>item_index</th>\n",
       "    </tr>\n",
       "    <tr>\n",
       "      <th>item_id</th>\n",
       "      <th></th>\n",
       "      <th></th>\n",
       "      <th></th>\n",
       "    </tr>\n",
       "  </thead>\n",
       "  <tbody>\n",
       "    <tr>\n",
       "      <th>79</th>\n",
       "      <td>1.333333</td>\n",
       "      <td>1.333333</td>\n",
       "      <td>0</td>\n",
       "    </tr>\n",
       "    <tr>\n",
       "      <th>314</th>\n",
       "      <td>1.333333</td>\n",
       "      <td>1.592824</td>\n",
       "      <td>1</td>\n",
       "    </tr>\n",
       "    <tr>\n",
       "      <th>362</th>\n",
       "      <td>1.666667</td>\n",
       "      <td>1.991030</td>\n",
       "      <td>2</td>\n",
       "    </tr>\n",
       "    <tr>\n",
       "      <th>646</th>\n",
       "      <td>1.666667</td>\n",
       "      <td>1.991030</td>\n",
       "      <td>3</td>\n",
       "    </tr>\n",
       "    <tr>\n",
       "      <th>695</th>\n",
       "      <td>1.666667</td>\n",
       "      <td>1.991030</td>\n",
       "      <td>4</td>\n",
       "    </tr>\n",
       "  </tbody>\n",
       "</table>\n",
       "</div>"
      ],
      "text/plain": [
       "         Avg_actual_ratings  Avg_predicted_ratings  item_index\n",
       "item_id                                                       \n",
       "79                 1.333333               1.333333           0\n",
       "314                1.333333               1.592824           1\n",
       "362                1.666667               1.991030           2\n",
       "646                1.666667               1.991030           3\n",
       "695                1.666667               1.991030           4"
      ]
     },
     "execution_count": 57,
     "metadata": {},
     "output_type": "execute_result"
    }
   ],
   "source": [
    "rmse = pd.concat([user_matrix.mean(), preds.mean()], axis=1)\n",
    "rmse.columns = ['Avg_actual_ratings', 'Avg_predicted_ratings']\n",
    "print(rmse.shape)\n",
    "\n",
    "rmse['item_index'] = np.arange(0, rmse.shape[0], 1)\n",
    "rmse.head()"
   ]
  },
  {
   "cell_type": "code",
   "execution_count": 58,
   "metadata": {},
   "outputs": [
    {
     "name": "stdout",
     "output_type": "stream",
     "text": [
      "\n",
      "RMSE SVD Model = 0.35343 \n",
      "\n"
     ]
    }
   ],
   "source": [
    "RMSE = round((((rmse.Avg_actual_ratings - rmse.Avg_predicted_ratings) ** 2).mean() ** 0.5), 5)\n",
    "print('\\nRMSE SVD Model = {} \\n'.format(RMSE))"
   ]
  },
  {
   "cell_type": "markdown",
   "metadata": {},
   "source": [
    "The smaller the RMSE, the better, you can make theoretical claims on levels of the RMSE by knowing what is expected from your data.A high RMSE means a higher chance to overfit. Since we received a lower RMSE, our model is performing faily well."
   ]
  },
  {
   "cell_type": "markdown",
   "metadata": {},
   "source": [
    "# Popularity-based Recommender System\n",
    "\n",
    "A popularity based recommender system recommends to users based on how popular those items are among other users. It is a non-personalised recommender system and these are based on frequecy counts. \n",
    "\n"
   ]
  },
  {
   "cell_type": "code",
   "execution_count": 59,
   "metadata": {
    "scrolled": true
   },
   "outputs": [
    {
     "data": {
      "text/html": [
       "<div>\n",
       "<style scoped>\n",
       "    .dataframe tbody tr th:only-of-type {\n",
       "        vertical-align: middle;\n",
       "    }\n",
       "\n",
       "    .dataframe tbody tr th {\n",
       "        vertical-align: top;\n",
       "    }\n",
       "\n",
       "    .dataframe thead th {\n",
       "        text-align: right;\n",
       "    }\n",
       "</style>\n",
       "<table border=\"1\" class=\"dataframe\">\n",
       "  <thead>\n",
       "    <tr style=\"text-align: right;\">\n",
       "      <th></th>\n",
       "      <th>item_id</th>\n",
       "      <th>score</th>\n",
       "    </tr>\n",
       "  </thead>\n",
       "  <tbody>\n",
       "    <tr>\n",
       "      <th>0</th>\n",
       "      <td>0</td>\n",
       "      <td>84</td>\n",
       "    </tr>\n",
       "    <tr>\n",
       "      <th>1</th>\n",
       "      <td>1</td>\n",
       "      <td>39</td>\n",
       "    </tr>\n",
       "    <tr>\n",
       "      <th>2</th>\n",
       "      <td>2</td>\n",
       "      <td>1435</td>\n",
       "    </tr>\n",
       "    <tr>\n",
       "      <th>3</th>\n",
       "      <td>3</td>\n",
       "      <td>103</td>\n",
       "    </tr>\n",
       "    <tr>\n",
       "      <th>4</th>\n",
       "      <td>4</td>\n",
       "      <td>6</td>\n",
       "    </tr>\n",
       "    <tr>\n",
       "      <th>5</th>\n",
       "      <td>5</td>\n",
       "      <td>12</td>\n",
       "    </tr>\n",
       "    <tr>\n",
       "      <th>6</th>\n",
       "      <td>6</td>\n",
       "      <td>6</td>\n",
       "    </tr>\n",
       "    <tr>\n",
       "      <th>7</th>\n",
       "      <td>7</td>\n",
       "      <td>29</td>\n",
       "    </tr>\n",
       "    <tr>\n",
       "      <th>8</th>\n",
       "      <td>8</td>\n",
       "      <td>11</td>\n",
       "    </tr>\n",
       "    <tr>\n",
       "      <th>9</th>\n",
       "      <td>9</td>\n",
       "      <td>1</td>\n",
       "    </tr>\n",
       "  </tbody>\n",
       "</table>\n",
       "</div>"
      ],
      "text/plain": [
       "   item_id  score\n",
       "0        0     84\n",
       "1        1     39\n",
       "2        2   1435\n",
       "3        3    103\n",
       "4        4      6\n",
       "5        5     12\n",
       "6        6      6\n",
       "7        7     29\n",
       "8        8     11\n",
       "9        9      1"
      ]
     },
     "execution_count": 59,
     "metadata": {},
     "output_type": "execute_result"
    }
   ],
   "source": [
    "data1 = train_data.groupby('item_id').agg({'user_id': 'count'}).reset_index()\n",
    "data1.rename(columns = {'user_id': 'score'},inplace=True)\n",
    "data1.head(10) "
   ]
  },
  {
   "cell_type": "code",
   "execution_count": 60,
   "metadata": {},
   "outputs": [
    {
     "data": {
      "text/html": [
       "<div>\n",
       "<style scoped>\n",
       "    .dataframe tbody tr th:only-of-type {\n",
       "        vertical-align: middle;\n",
       "    }\n",
       "\n",
       "    .dataframe tbody tr th {\n",
       "        vertical-align: top;\n",
       "    }\n",
       "\n",
       "    .dataframe thead th {\n",
       "        text-align: right;\n",
       "    }\n",
       "</style>\n",
       "<table border=\"1\" class=\"dataframe\">\n",
       "  <thead>\n",
       "    <tr style=\"text-align: right;\">\n",
       "      <th></th>\n",
       "      <th>item_id</th>\n",
       "      <th>score</th>\n",
       "      <th>rank</th>\n",
       "    </tr>\n",
       "  </thead>\n",
       "  <tbody>\n",
       "    <tr>\n",
       "      <th>2336</th>\n",
       "      <td>2340</td>\n",
       "      <td>3145</td>\n",
       "      <td>1.0</td>\n",
       "    </tr>\n",
       "    <tr>\n",
       "      <th>1574</th>\n",
       "      <td>1575</td>\n",
       "      <td>2919</td>\n",
       "      <td>2.0</td>\n",
       "    </tr>\n",
       "    <tr>\n",
       "      <th>1882</th>\n",
       "      <td>1886</td>\n",
       "      <td>2627</td>\n",
       "      <td>3.0</td>\n",
       "    </tr>\n",
       "    <tr>\n",
       "      <th>2480</th>\n",
       "      <td>2486</td>\n",
       "      <td>2212</td>\n",
       "      <td>4.0</td>\n",
       "    </tr>\n",
       "    <tr>\n",
       "      <th>2125</th>\n",
       "      <td>2129</td>\n",
       "      <td>2115</td>\n",
       "      <td>5.0</td>\n",
       "    </tr>\n",
       "  </tbody>\n",
       "</table>\n",
       "</div>"
      ],
      "text/plain": [
       "      item_id  score  rank\n",
       "2336     2340   3145   1.0\n",
       "1574     1575   2919   2.0\n",
       "1882     1886   2627   3.0\n",
       "2480     2486   2212   4.0\n",
       "2125     2129   2115   5.0"
      ]
     },
     "execution_count": 60,
     "metadata": {},
     "output_type": "execute_result"
    }
   ],
   "source": [
    "#Sort the products on recommendation score \n",
    "data1_sort = data1.sort_values(['score', 'item_id'], ascending = [0,1]) \n",
    "      \n",
    "#Generate a recommendation rank based upon score \n",
    "data1_sort['rank'] = data1_sort['score'].rank(ascending=0, method='first') \n",
    "          \n",
    "#What are the top 5 recommendations?\n",
    "popularity_recommendations = data1_sort.head(5) \n",
    "popularity_recommendations"
   ]
  },
  {
   "cell_type": "code",
   "execution_count": 61,
   "metadata": {},
   "outputs": [],
   "source": [
    "# Use popularity based recommender model to make predictions\n",
    "def recommend(user_id):     \n",
    "    user_recommendations = popularity_recommendations \n",
    "          \n",
    "    #Add user_id column for which the recommendations are being generated \n",
    "    user_recommendations['user_id'] = user_id \n",
    "      \n",
    "    #Bring user_id column to the front \n",
    "    cols = user_recommendations.columns.tolist() \n",
    "    cols = cols[-1:] + cols[:-1] \n",
    "    user_recommendations = user_recommendations[cols] \n",
    "          \n",
    "    return user_recommendations"
   ]
  },
  {
   "cell_type": "code",
   "execution_count": 62,
   "metadata": {},
   "outputs": [
    {
     "name": "stdout",
     "output_type": "stream",
     "text": [
      "The list of recommendations for the user_id: 10\n",
      "\n",
      "      user_id  item_id  score  rank\n",
      "2336       10     2340   3145   1.0\n",
      "1574       10     1575   2919   2.0\n",
      "1882       10     1886   2627   3.0\n",
      "2480       10     2486   2212   4.0\n",
      "2125       10     2129   2115   5.0\n",
      "\n",
      "\n",
      "The list of recommendations for the user_id: 100\n",
      "\n",
      "      user_id  item_id  score  rank\n",
      "2336      100     2340   3145   1.0\n",
      "1574      100     1575   2919   2.0\n",
      "1882      100     1886   2627   3.0\n",
      "2480      100     2486   2212   4.0\n",
      "2125      100     2129   2115   5.0\n",
      "\n",
      "\n",
      "The list of recommendations for the user_id: 150\n",
      "\n",
      "      user_id  item_id  score  rank\n",
      "2336      150     2340   3145   1.0\n",
      "1574      150     1575   2919   2.0\n",
      "1882      150     1886   2627   3.0\n",
      "2480      150     2486   2212   4.0\n",
      "2125      150     2129   2115   5.0\n",
      "\n",
      "\n"
     ]
    }
   ],
   "source": [
    "find_recommendations = [10,100,150]   # This list is user choice.\n",
    "for i in find_recommendations:\n",
    "    print(\"The list of recommendations for the user_id: %d\\n\" %(i))\n",
    "    print(recommend(i))    \n",
    "    print(\"\\n\")"
   ]
  },
  {
   "cell_type": "markdown",
   "metadata": {},
   "source": [
    "Accordingly, item_id '2336' is the most popular item in our electronic dataset. It has a higher score among 'user_id' 10, 100, and 150. \n",
    "\n",
    "Since, it is a Popularity recommender model, so, all the three users are given the same recommendations. Here, we predict the products based on the popularity. It is not personalized to particular user. It is a non-personalized recommender system. Looks like headphones are the most popular item category.\n"
   ]
  },
  {
   "cell_type": "markdown",
   "metadata": {},
   "source": [
    "**Evaluation**"
   ]
  },
  {
   "cell_type": "code",
   "execution_count": 65,
   "metadata": {},
   "outputs": [
    {
     "name": "stdout",
     "output_type": "stream",
     "text": [
      "(4, 2)\n"
     ]
    }
   ],
   "source": [
    "rmse = pd.concat([data1.mean(), popularity_recommendations.mean()], axis=1)\n",
    "rmse.columns = ['Avg_actual_ratings', 'Avg_predicted_ratings']\n",
    "print(rmse.shape)\n"
   ]
  },
  {
   "cell_type": "code",
   "execution_count": 66,
   "metadata": {},
   "outputs": [
    {
     "name": "stdout",
     "output_type": "stream",
     "text": [
      "\n",
      "RMSE SVD Model = 1815.73609 \n",
      "\n"
     ]
    }
   ],
   "source": [
    "RMSE = round((((rmse.Avg_actual_ratings - rmse.Avg_predicted_ratings) ** 2).mean() ** 0.5), 5)\n",
    "print('\\nRMSE SVD Model = {} \\n'.format(RMSE))"
   ]
  },
  {
   "cell_type": "markdown",
   "metadata": {},
   "source": [
    "Our RMSE value is extremely high.This may mean the popularity model is overfit."
   ]
  },
  {
   "cell_type": "markdown",
   "metadata": {},
   "source": [
    "# KNN Recommender Model\n",
    "\n",
    "K-nearest neighbor algorithm finds the k most similar items to a particular user based on a given distance metric.\n",
    "\n",
    "To recommend similar items to the user, let's first find k-similar items and then recommend them to user. In this case I’ve retrieved top 5 most similar items to a given query. "
   ]
  },
  {
   "cell_type": "markdown",
   "metadata": {},
   "source": [
    "**Reshaping the data**"
   ]
  },
  {
   "cell_type": "code",
   "execution_count": 67,
   "metadata": {},
   "outputs": [],
   "source": [
    "knn_data = data_clean.drop(columns=['category'])"
   ]
  },
  {
   "cell_type": "code",
   "execution_count": 68,
   "metadata": {},
   "outputs": [
    {
     "name": "stdout",
     "output_type": "stream",
     "text": [
      "(210000, 4) (90000, 4)\n",
      "        item_id  user_id  rating                 category\n",
      "271583     1094   254468     4.0   Portable Audio & Video\n",
      "7775          5     7504     3.0           Camera & Photo\n",
      "179431     1124   169524     3.0  Computers & Accessories\n",
      "276157     3932   258597     5.0   Accessories & Supplies\n",
      "100556     1670    95572     5.0               Headphones\n"
     ]
    }
   ],
   "source": [
    "from sklearn.model_selection import train_test_split\n",
    "\n",
    "knn_train, knn_test = train_test_split(data_clean, test_size=0.3, random_state=33)\n",
    "\n",
    "print(knn_train.shape, knn_test.shape)\n",
    "print(knn_test[0:5])"
   ]
  },
  {
   "cell_type": "code",
   "execution_count": 69,
   "metadata": {},
   "outputs": [],
   "source": [
    "# First let's create a dataset called X\n",
    "X = np.array(knn_data)\n",
    " # create train and test\n",
    "percent = 0.7\n",
    "size = int(np.floor(percent * len(knn_data)))\n",
    "knn_train = X[:size]\n",
    "knn_test = X[size:]\n",
    "#len of train and test\n",
    "lentrain = len(knn_train)\n",
    "lentest = len(knn_test)"
   ]
  },
  {
   "cell_type": "code",
   "execution_count": 75,
   "metadata": {},
   "outputs": [],
   "source": [
    "from sklearn.neighbors import NearestNeighbors\n",
    "\n",
    "neighbors = NearestNeighbors(n_neighbors=3, algorithm='ball_tree').fit(knn_train)\n",
    "\n",
    "# Let's find the k-neighbors of each point in object X. To do that we call the kneighbors() function on object X.\n",
    "distances, indices = neighbors.kneighbors(knn_train)"
   ]
  },
  {
   "cell_type": "markdown",
   "metadata": {},
   "source": [
    "Let's now see what product we could recommend the user along with its rating. For this, I will use a specific product to see how similar it is to  another."
   ]
  },
  {
   "cell_type": "code",
   "execution_count": 78,
   "metadata": {
    "scrolled": true
   },
   "outputs": [
    {
     "name": "stdout",
     "output_type": "stream",
     "text": [
      "Based on product reviews, for  7  average rating is  5.0\n",
      "The first similar product is  3683  average rating is  5.0\n",
      "The second similar product is  3703  average rating is  5.0\n",
      "-----------------------------------------------------------\n"
     ]
    }
   ],
   "source": [
    "#find most related products\n",
    "for i in range(lentest):\n",
    "    a = neighbors.kneighbors([knn_test[i]])\n",
    "    related_product_list = a[1]\n",
    "\n",
    "    first_related_product = [item[0] for item in related_product_list]\n",
    "    first_related_product = str(first_related_product).strip('[]')\n",
    "    first_related_product = int(first_related_product)\n",
    "    second_related_product = [item[1] for item in related_product_list]\n",
    "    second_related_product = str(second_related_product).strip('[]')\n",
    "    second_related_product = int(second_related_product)\n",
    "\n",
    "print (\"Based on product reviews, for \", knn_data[\"item_id\"][150] ,\" average rating is \",knn_data[\"rating\"][150])\n",
    "print (\"The first similar product is \", knn_data[\"item_id\"][first_related_product] ,\" average rating is \",knn_data[\"rating\"][first_related_product])\n",
    "print (\"The second similar product is \", knn_data[\"item_id\"][second_related_product] ,\" average rating is \",knn_data[\"rating\"][second_related_product])\n",
    "print (\"-----------------------------------------------------------\")"
   ]
  },
  {
   "cell_type": "markdown",
   "metadata": {},
   "source": [
    "**Evaluation**"
   ]
  },
  {
   "cell_type": "code",
   "execution_count": 80,
   "metadata": {},
   "outputs": [],
   "source": [
    "from sklearn import neighbors\n",
    "\n",
    "# Predicting the rating\n",
    "\n",
    "train_target = knn_data[\"rating\"][:lentrain]\n",
    "test_target = knn_data[\"rating\"][lentrain:lentrain+lentest]\n",
    "train_target = train_target.astype(int)\n",
    "test_target = test_target.astype(int)\n",
    "\n",
    "n_neighbors = 3\n",
    "knn_clf = neighbors.KNeighborsClassifier(n_neighbors, weights='distance')\n",
    "knn_clf.fit(knn_train, train_target)\n",
    "knnpred_test = knn_clf.predict(knn_test)"
   ]
  },
  {
   "cell_type": "code",
   "execution_count": 81,
   "metadata": {},
   "outputs": [
    {
     "name": "stdout",
     "output_type": "stream",
     "text": [
      "              precision    recall  f1-score   support\n",
      "\n",
      "           1       0.09      0.01      0.01      8446\n",
      "           2       0.07      0.00      0.01      5163\n",
      "           3       0.08      0.00      0.01      7146\n",
      "           4       0.21      0.02      0.03     17128\n",
      "           5       0.58      0.97      0.73     52117\n",
      "\n",
      "    accuracy                           0.57     90000\n",
      "   macro avg       0.21      0.20      0.16     90000\n",
      "weighted avg       0.39      0.57      0.43     90000\n",
      "\n",
      "Accuracy:  0.5666\n",
      "MSE:  2.5934777777777778\n"
     ]
    }
   ],
   "source": [
    "print(classification_report(test_target, knnpred_test))\n",
    "print (\"Accuracy: \",accuracy_score(test_target, knnpred_test))\n",
    "print(\"MSE: \",mean_squared_error(test_target, knnpred_test))"
   ]
  },
  {
   "cell_type": "markdown",
   "metadata": {},
   "source": [
    "# Category-based Collaborative Filtering\n",
    "\n",
    "Item-based collaborative filtering: These systems identify similar items based on users’ previous ratings. For example if users A,B and C gave a 5 star rating to books X and Y then when a user D buys book Y they also get a recommendation to purchase book X because the system identifies book X and Y as similar based on the ratings of users A,B and C. \n",
    "\n",
    "In this instance, I used the algorithm to find similar patterns between categories and then recommend a relevant category to the user.\n",
    "\n",
    "Let's now take a look into the similarities between two product categories."
   ]
  },
  {
   "cell_type": "code",
   "execution_count": 82,
   "metadata": {},
   "outputs": [],
   "source": [
    "ratings = pd.DataFrame(train_data.groupby('category')['rating'].mean())\n",
    "ratings['number_of_ratings'] = train_data.groupby('category')['rating'].count()"
   ]
  },
  {
   "cell_type": "code",
   "execution_count": 83,
   "metadata": {},
   "outputs": [
    {
     "data": {
      "text/html": [
       "<div>\n",
       "<style scoped>\n",
       "    .dataframe tbody tr th:only-of-type {\n",
       "        vertical-align: middle;\n",
       "    }\n",
       "\n",
       "    .dataframe tbody tr th {\n",
       "        vertical-align: top;\n",
       "    }\n",
       "\n",
       "    .dataframe thead th {\n",
       "        text-align: right;\n",
       "    }\n",
       "</style>\n",
       "<table border=\"1\" class=\"dataframe\">\n",
       "  <thead>\n",
       "    <tr style=\"text-align: right;\">\n",
       "      <th>category</th>\n",
       "      <th>Accessories &amp; Supplies</th>\n",
       "      <th>Camera &amp; Photo</th>\n",
       "      <th>Car Electronics &amp; GPS</th>\n",
       "      <th>Computers &amp; Accessories</th>\n",
       "      <th>Headphones</th>\n",
       "      <th>Home Audio</th>\n",
       "      <th>Portable Audio &amp; Video</th>\n",
       "      <th>Security &amp; Surveillance</th>\n",
       "      <th>Television &amp; Video</th>\n",
       "      <th>Wearable Technology</th>\n",
       "    </tr>\n",
       "    <tr>\n",
       "      <th>user_id</th>\n",
       "      <th></th>\n",
       "      <th></th>\n",
       "      <th></th>\n",
       "      <th></th>\n",
       "      <th></th>\n",
       "      <th></th>\n",
       "      <th></th>\n",
       "      <th></th>\n",
       "      <th></th>\n",
       "      <th></th>\n",
       "    </tr>\n",
       "  </thead>\n",
       "  <tbody>\n",
       "    <tr>\n",
       "      <th>0</th>\n",
       "      <td>0.0</td>\n",
       "      <td>0.0</td>\n",
       "      <td>0.0</td>\n",
       "      <td>0.0</td>\n",
       "      <td>0.0</td>\n",
       "      <td>0.0</td>\n",
       "      <td>5.0</td>\n",
       "      <td>0.0</td>\n",
       "      <td>0.0</td>\n",
       "      <td>0.0</td>\n",
       "    </tr>\n",
       "    <tr>\n",
       "      <th>1</th>\n",
       "      <td>0.0</td>\n",
       "      <td>0.0</td>\n",
       "      <td>0.0</td>\n",
       "      <td>0.0</td>\n",
       "      <td>0.0</td>\n",
       "      <td>0.0</td>\n",
       "      <td>5.0</td>\n",
       "      <td>0.0</td>\n",
       "      <td>0.0</td>\n",
       "      <td>0.0</td>\n",
       "    </tr>\n",
       "    <tr>\n",
       "      <th>2</th>\n",
       "      <td>0.0</td>\n",
       "      <td>0.0</td>\n",
       "      <td>0.0</td>\n",
       "      <td>0.0</td>\n",
       "      <td>0.0</td>\n",
       "      <td>0.0</td>\n",
       "      <td>3.0</td>\n",
       "      <td>0.0</td>\n",
       "      <td>0.0</td>\n",
       "      <td>0.0</td>\n",
       "    </tr>\n",
       "    <tr>\n",
       "      <th>3</th>\n",
       "      <td>0.0</td>\n",
       "      <td>0.0</td>\n",
       "      <td>0.0</td>\n",
       "      <td>0.0</td>\n",
       "      <td>0.0</td>\n",
       "      <td>0.0</td>\n",
       "      <td>1.0</td>\n",
       "      <td>0.0</td>\n",
       "      <td>0.0</td>\n",
       "      <td>0.0</td>\n",
       "    </tr>\n",
       "    <tr>\n",
       "      <th>4</th>\n",
       "      <td>0.0</td>\n",
       "      <td>0.0</td>\n",
       "      <td>0.0</td>\n",
       "      <td>0.0</td>\n",
       "      <td>0.0</td>\n",
       "      <td>0.0</td>\n",
       "      <td>2.0</td>\n",
       "      <td>0.0</td>\n",
       "      <td>0.0</td>\n",
       "      <td>0.0</td>\n",
       "    </tr>\n",
       "  </tbody>\n",
       "</table>\n",
       "</div>"
      ],
      "text/plain": [
       "category  Accessories & Supplies  Camera & Photo  Car Electronics & GPS  \\\n",
       "user_id                                                                   \n",
       "0                            0.0             0.0                    0.0   \n",
       "1                            0.0             0.0                    0.0   \n",
       "2                            0.0             0.0                    0.0   \n",
       "3                            0.0             0.0                    0.0   \n",
       "4                            0.0             0.0                    0.0   \n",
       "\n",
       "category  Computers & Accessories  Headphones  Home Audio  \\\n",
       "user_id                                                     \n",
       "0                             0.0         0.0         0.0   \n",
       "1                             0.0         0.0         0.0   \n",
       "2                             0.0         0.0         0.0   \n",
       "3                             0.0         0.0         0.0   \n",
       "4                             0.0         0.0         0.0   \n",
       "\n",
       "category  Portable Audio & Video  Security & Surveillance  Television & Video  \\\n",
       "user_id                                                                         \n",
       "0                            5.0                      0.0                 0.0   \n",
       "1                            5.0                      0.0                 0.0   \n",
       "2                            3.0                      0.0                 0.0   \n",
       "3                            1.0                      0.0                 0.0   \n",
       "4                            2.0                      0.0                 0.0   \n",
       "\n",
       "category  Wearable Technology  \n",
       "user_id                        \n",
       "0                         0.0  \n",
       "1                         0.0  \n",
       "2                         0.0  \n",
       "3                         0.0  \n",
       "4                         0.0  "
      ]
     },
     "execution_count": 83,
     "metadata": {},
     "output_type": "execute_result"
    }
   ],
   "source": [
    "# building a product category matrix:\n",
    "category_matrix = train_data.pivot_table(index = 'user_id', columns ='category', values = 'rating').fillna(0)\n",
    "category_matrix.head()"
   ]
  },
  {
   "cell_type": "markdown",
   "metadata": {},
   "source": [
    "Next let’s look at the most rated categories and choose two of them to work with in this simple recommender system. We use pandas `sort_values` utility and set ascending to false in order to arrange the category from the most rated. We then use the `head()` function to view the top 10."
   ]
  },
  {
   "cell_type": "code",
   "execution_count": 88,
   "metadata": {},
   "outputs": [
    {
     "data": {
      "text/plain": [
       "category\n",
       "Wearable Technology        3.422145\n",
       "Security & Surveillance    3.697353\n",
       "Television & Video         3.938778\n",
       "Portable Audio & Video     3.976388\n",
       "Home Audio                 3.980515\n",
       "Camera & Photo             4.009696\n",
       "Headphones                 4.013831\n",
       "Computers & Accessories    4.042391\n",
       "Car Electronics & GPS      4.128841\n",
       "Accessories & Supplies     4.202920\n",
       "Name: rating, dtype: float64"
      ]
     },
     "execution_count": 88,
     "metadata": {},
     "output_type": "execute_result"
    }
   ],
   "source": [
    "ratings['rating'].sort_values()"
   ]
  },
  {
   "cell_type": "code",
   "execution_count": 89,
   "metadata": {},
   "outputs": [
    {
     "data": {
      "text/html": [
       "<div>\n",
       "<style scoped>\n",
       "    .dataframe tbody tr th:only-of-type {\n",
       "        vertical-align: middle;\n",
       "    }\n",
       "\n",
       "    .dataframe tbody tr th {\n",
       "        vertical-align: top;\n",
       "    }\n",
       "\n",
       "    .dataframe thead th {\n",
       "        text-align: right;\n",
       "    }\n",
       "</style>\n",
       "<table border=\"1\" class=\"dataframe\">\n",
       "  <thead>\n",
       "    <tr style=\"text-align: right;\">\n",
       "      <th></th>\n",
       "      <th>rating</th>\n",
       "      <th>number_of_ratings</th>\n",
       "    </tr>\n",
       "    <tr>\n",
       "      <th>category</th>\n",
       "      <th></th>\n",
       "      <th></th>\n",
       "    </tr>\n",
       "  </thead>\n",
       "  <tbody>\n",
       "    <tr>\n",
       "      <th>Computers &amp; Accessories</th>\n",
       "      <td>4.042391</td>\n",
       "      <td>57394</td>\n",
       "    </tr>\n",
       "    <tr>\n",
       "      <th>Headphones</th>\n",
       "      <td>4.013831</td>\n",
       "      <td>47286</td>\n",
       "    </tr>\n",
       "    <tr>\n",
       "      <th>Camera &amp; Photo</th>\n",
       "      <td>4.009696</td>\n",
       "      <td>42490</td>\n",
       "    </tr>\n",
       "    <tr>\n",
       "      <th>Accessories &amp; Supplies</th>\n",
       "      <td>4.202920</td>\n",
       "      <td>29726</td>\n",
       "    </tr>\n",
       "    <tr>\n",
       "      <th>Portable Audio &amp; Video</th>\n",
       "      <td>3.976388</td>\n",
       "      <td>14696</td>\n",
       "    </tr>\n",
       "    <tr>\n",
       "      <th>Television &amp; Video</th>\n",
       "      <td>3.938778</td>\n",
       "      <td>8657</td>\n",
       "    </tr>\n",
       "    <tr>\n",
       "      <th>Car Electronics &amp; GPS</th>\n",
       "      <td>4.128841</td>\n",
       "      <td>5565</td>\n",
       "    </tr>\n",
       "    <tr>\n",
       "      <th>Home Audio</th>\n",
       "      <td>3.980515</td>\n",
       "      <td>3028</td>\n",
       "    </tr>\n",
       "    <tr>\n",
       "      <th>Security &amp; Surveillance</th>\n",
       "      <td>3.697353</td>\n",
       "      <td>869</td>\n",
       "    </tr>\n",
       "    <tr>\n",
       "      <th>Wearable Technology</th>\n",
       "      <td>3.422145</td>\n",
       "      <td>289</td>\n",
       "    </tr>\n",
       "  </tbody>\n",
       "</table>\n",
       "</div>"
      ],
      "text/plain": [
       "                           rating  number_of_ratings\n",
       "category                                            \n",
       "Computers & Accessories  4.042391              57394\n",
       "Headphones               4.013831              47286\n",
       "Camera & Photo           4.009696              42490\n",
       "Accessories & Supplies   4.202920              29726\n",
       "Portable Audio & Video   3.976388              14696\n",
       "Television & Video       3.938778               8657\n",
       "Car Electronics & GPS    4.128841               5565\n",
       "Home Audio               3.980515               3028\n",
       "Security & Surveillance  3.697353                869\n",
       "Wearable Technology      3.422145                289"
      ]
     },
     "execution_count": 89,
     "metadata": {},
     "output_type": "execute_result"
    }
   ],
   "source": [
    "ratings.sort_values('number_of_ratings', ascending=False).head(10)"
   ]
  },
  {
   "cell_type": "markdown",
   "metadata": {},
   "source": [
    "Let's now look for similarities between two product categories. \n",
    "\n",
    "We can achieve this by computing the correlation between these two categories’ ratings and the ratings of the rest of the categories in the dataset. The first step is to create a dataframe with the ratings of these categories from our `category_matrix`."
   ]
  },
  {
   "cell_type": "code",
   "execution_count": 90,
   "metadata": {},
   "outputs": [],
   "source": [
    "computers_user_rating = category_matrix['Computers & Accessories']\n",
    "headphones_user_rating = category_matrix['Headphones'] "
   ]
  },
  {
   "cell_type": "markdown",
   "metadata": {},
   "source": [
    "Let's now identify the correlation between the two categories of movies. I will use pandas `corwith` functionality. Let's use this functionality to get the correlation between each computer's rating and the ratings of headphones."
   ]
  },
  {
   "cell_type": "code",
   "execution_count": 91,
   "metadata": {},
   "outputs": [
    {
     "data": {
      "text/plain": [
       "category\n",
       "Accessories & Supplies    -0.208648\n",
       "Camera & Photo            -0.250740\n",
       "Car Electronics & GPS     -0.086708\n",
       "Computers & Accessories    1.000000\n",
       "Headphones                -0.271277\n",
       "dtype: float64"
      ]
     },
     "execution_count": 91,
     "metadata": {},
     "output_type": "execute_result"
    }
   ],
   "source": [
    "similar_to_computers= category_matrix.corrwith(computers_user_rating)\n",
    "similar_to_computers.head()"
   ]
  },
  {
   "cell_type": "code",
   "execution_count": 92,
   "metadata": {
    "scrolled": true
   },
   "outputs": [
    {
     "data": {
      "text/plain": [
       "category\n",
       "Accessories & Supplies    -0.186064\n",
       "Camera & Photo            -0.229123\n",
       "Car Electronics & GPS     -0.077208\n",
       "Computers & Accessories   -0.271277\n",
       "Headphones                 1.000000\n",
       "dtype: float64"
      ]
     },
     "execution_count": 92,
     "metadata": {},
     "output_type": "execute_result"
    }
   ],
   "source": [
    "similar_to_headphones= category_matrix.corrwith(headphones_user_rating)\n",
    "similar_to_headphones.head()"
   ]
  },
  {
   "cell_type": "markdown",
   "metadata": {},
   "source": [
    "Let's now join the ratings and number of rating to check the correlation."
   ]
  },
  {
   "cell_type": "code",
   "execution_count": 93,
   "metadata": {},
   "outputs": [
    {
     "data": {
      "text/html": [
       "<div>\n",
       "<style scoped>\n",
       "    .dataframe tbody tr th:only-of-type {\n",
       "        vertical-align: middle;\n",
       "    }\n",
       "\n",
       "    .dataframe tbody tr th {\n",
       "        vertical-align: top;\n",
       "    }\n",
       "\n",
       "    .dataframe thead th {\n",
       "        text-align: right;\n",
       "    }\n",
       "</style>\n",
       "<table border=\"1\" class=\"dataframe\">\n",
       "  <thead>\n",
       "    <tr style=\"text-align: right;\">\n",
       "      <th></th>\n",
       "      <th>correlation</th>\n",
       "      <th>number_of_ratings</th>\n",
       "    </tr>\n",
       "    <tr>\n",
       "      <th>category</th>\n",
       "      <th></th>\n",
       "      <th></th>\n",
       "    </tr>\n",
       "  </thead>\n",
       "  <tbody>\n",
       "    <tr>\n",
       "      <th>Accessories &amp; Supplies</th>\n",
       "      <td>-0.208648</td>\n",
       "      <td>29726</td>\n",
       "    </tr>\n",
       "    <tr>\n",
       "      <th>Camera &amp; Photo</th>\n",
       "      <td>-0.250740</td>\n",
       "      <td>42490</td>\n",
       "    </tr>\n",
       "    <tr>\n",
       "      <th>Car Electronics &amp; GPS</th>\n",
       "      <td>-0.086708</td>\n",
       "      <td>5565</td>\n",
       "    </tr>\n",
       "    <tr>\n",
       "      <th>Computers &amp; Accessories</th>\n",
       "      <td>1.000000</td>\n",
       "      <td>57394</td>\n",
       "    </tr>\n",
       "    <tr>\n",
       "      <th>Headphones</th>\n",
       "      <td>-0.271277</td>\n",
       "      <td>47286</td>\n",
       "    </tr>\n",
       "  </tbody>\n",
       "</table>\n",
       "</div>"
      ],
      "text/plain": [
       "                         correlation  number_of_ratings\n",
       "category                                               \n",
       "Accessories & Supplies     -0.208648              29726\n",
       "Camera & Photo             -0.250740              42490\n",
       "Car Electronics & GPS      -0.086708               5565\n",
       "Computers & Accessories     1.000000              57394\n",
       "Headphones                 -0.271277              47286"
      ]
     },
     "execution_count": 93,
     "metadata": {},
     "output_type": "execute_result"
    }
   ],
   "source": [
    "corr_computers = pd.DataFrame(similar_to_computers, columns=['correlation'])\n",
    "corr_computers.dropna(inplace=True)\n",
    "\n",
    "corr_computers = corr_computers.join(ratings['number_of_ratings'])\n",
    "corr_computers .head()"
   ]
  },
  {
   "cell_type": "code",
   "execution_count": 94,
   "metadata": {},
   "outputs": [
    {
     "data": {
      "text/html": [
       "<div>\n",
       "<style scoped>\n",
       "    .dataframe tbody tr th:only-of-type {\n",
       "        vertical-align: middle;\n",
       "    }\n",
       "\n",
       "    .dataframe tbody tr th {\n",
       "        vertical-align: top;\n",
       "    }\n",
       "\n",
       "    .dataframe thead th {\n",
       "        text-align: right;\n",
       "    }\n",
       "</style>\n",
       "<table border=\"1\" class=\"dataframe\">\n",
       "  <thead>\n",
       "    <tr style=\"text-align: right;\">\n",
       "      <th></th>\n",
       "      <th>correlation</th>\n",
       "      <th>number_of_ratings</th>\n",
       "    </tr>\n",
       "    <tr>\n",
       "      <th>category</th>\n",
       "      <th></th>\n",
       "      <th></th>\n",
       "    </tr>\n",
       "  </thead>\n",
       "  <tbody>\n",
       "    <tr>\n",
       "      <th>Accessories &amp; Supplies</th>\n",
       "      <td>-0.186064</td>\n",
       "      <td>29726</td>\n",
       "    </tr>\n",
       "    <tr>\n",
       "      <th>Camera &amp; Photo</th>\n",
       "      <td>-0.229123</td>\n",
       "      <td>42490</td>\n",
       "    </tr>\n",
       "    <tr>\n",
       "      <th>Car Electronics &amp; GPS</th>\n",
       "      <td>-0.077208</td>\n",
       "      <td>5565</td>\n",
       "    </tr>\n",
       "    <tr>\n",
       "      <th>Computers &amp; Accessories</th>\n",
       "      <td>-0.271277</td>\n",
       "      <td>57394</td>\n",
       "    </tr>\n",
       "    <tr>\n",
       "      <th>Headphones</th>\n",
       "      <td>1.000000</td>\n",
       "      <td>47286</td>\n",
       "    </tr>\n",
       "  </tbody>\n",
       "</table>\n",
       "</div>"
      ],
      "text/plain": [
       "                         correlation  number_of_ratings\n",
       "category                                               \n",
       "Accessories & Supplies     -0.186064              29726\n",
       "Camera & Photo             -0.229123              42490\n",
       "Car Electronics & GPS      -0.077208               5565\n",
       "Computers & Accessories    -0.271277              57394\n",
       "Headphones                  1.000000              47286"
      ]
     },
     "execution_count": 94,
     "metadata": {},
     "output_type": "execute_result"
    }
   ],
   "source": [
    "corr_headphones = pd.DataFrame(similar_to_headphones, columns=['correlation'])\n",
    "corr_headphones.dropna(inplace=True)\n",
    "\n",
    "corr_headphones = corr_headphones.join(ratings['number_of_ratings'])\n",
    "corr_headphones .head()"
   ]
  },
  {
   "cell_type": "code",
   "execution_count": 95,
   "metadata": {},
   "outputs": [
    {
     "data": {
      "text/html": [
       "<div>\n",
       "<style scoped>\n",
       "    .dataframe tbody tr th:only-of-type {\n",
       "        vertical-align: middle;\n",
       "    }\n",
       "\n",
       "    .dataframe tbody tr th {\n",
       "        vertical-align: top;\n",
       "    }\n",
       "\n",
       "    .dataframe thead th {\n",
       "        text-align: right;\n",
       "    }\n",
       "</style>\n",
       "<table border=\"1\" class=\"dataframe\">\n",
       "  <thead>\n",
       "    <tr style=\"text-align: right;\">\n",
       "      <th></th>\n",
       "      <th>correlation</th>\n",
       "      <th>number_of_ratings</th>\n",
       "    </tr>\n",
       "    <tr>\n",
       "      <th>category</th>\n",
       "      <th></th>\n",
       "      <th></th>\n",
       "    </tr>\n",
       "  </thead>\n",
       "  <tbody>\n",
       "    <tr>\n",
       "      <th>Computers &amp; Accessories</th>\n",
       "      <td>1.000000</td>\n",
       "      <td>57394</td>\n",
       "    </tr>\n",
       "    <tr>\n",
       "      <th>Wearable Technology</th>\n",
       "      <td>-0.017722</td>\n",
       "      <td>289</td>\n",
       "    </tr>\n",
       "    <tr>\n",
       "      <th>Security &amp; Surveillance</th>\n",
       "      <td>-0.031016</td>\n",
       "      <td>869</td>\n",
       "    </tr>\n",
       "    <tr>\n",
       "      <th>Home Audio</th>\n",
       "      <td>-0.059593</td>\n",
       "      <td>3028</td>\n",
       "    </tr>\n",
       "    <tr>\n",
       "      <th>Car Electronics &amp; GPS</th>\n",
       "      <td>-0.086708</td>\n",
       "      <td>5565</td>\n",
       "    </tr>\n",
       "    <tr>\n",
       "      <th>Television &amp; Video</th>\n",
       "      <td>-0.105259</td>\n",
       "      <td>8657</td>\n",
       "    </tr>\n",
       "    <tr>\n",
       "      <th>Portable Audio &amp; Video</th>\n",
       "      <td>-0.139974</td>\n",
       "      <td>14696</td>\n",
       "    </tr>\n",
       "    <tr>\n",
       "      <th>Accessories &amp; Supplies</th>\n",
       "      <td>-0.208648</td>\n",
       "      <td>29726</td>\n",
       "    </tr>\n",
       "    <tr>\n",
       "      <th>Camera &amp; Photo</th>\n",
       "      <td>-0.250740</td>\n",
       "      <td>42490</td>\n",
       "    </tr>\n",
       "    <tr>\n",
       "      <th>Headphones</th>\n",
       "      <td>-0.271277</td>\n",
       "      <td>47286</td>\n",
       "    </tr>\n",
       "  </tbody>\n",
       "</table>\n",
       "</div>"
      ],
      "text/plain": [
       "                         correlation  number_of_ratings\n",
       "category                                               \n",
       "Computers & Accessories     1.000000              57394\n",
       "Wearable Technology        -0.017722                289\n",
       "Security & Surveillance    -0.031016                869\n",
       "Home Audio                 -0.059593               3028\n",
       "Car Electronics & GPS      -0.086708               5565\n",
       "Television & Video         -0.105259               8657\n",
       "Portable Audio & Video     -0.139974              14696\n",
       "Accessories & Supplies     -0.208648              29726\n",
       "Camera & Photo             -0.250740              42490\n",
       "Headphones                 -0.271277              47286"
      ]
     },
     "execution_count": 95,
     "metadata": {},
     "output_type": "execute_result"
    }
   ],
   "source": [
    "corr_computers[corr_computers['number_of_ratings'] > 10].sort_values(by='correlation', ascending=False).head(10)"
   ]
  },
  {
   "cell_type": "code",
   "execution_count": 96,
   "metadata": {},
   "outputs": [
    {
     "data": {
      "text/html": [
       "<div>\n",
       "<style scoped>\n",
       "    .dataframe tbody tr th:only-of-type {\n",
       "        vertical-align: middle;\n",
       "    }\n",
       "\n",
       "    .dataframe tbody tr th {\n",
       "        vertical-align: top;\n",
       "    }\n",
       "\n",
       "    .dataframe thead th {\n",
       "        text-align: right;\n",
       "    }\n",
       "</style>\n",
       "<table border=\"1\" class=\"dataframe\">\n",
       "  <thead>\n",
       "    <tr style=\"text-align: right;\">\n",
       "      <th></th>\n",
       "      <th>correlation</th>\n",
       "      <th>number_of_ratings</th>\n",
       "    </tr>\n",
       "    <tr>\n",
       "      <th>category</th>\n",
       "      <th></th>\n",
       "      <th></th>\n",
       "    </tr>\n",
       "  </thead>\n",
       "  <tbody>\n",
       "    <tr>\n",
       "      <th>Headphones</th>\n",
       "      <td>1.000000</td>\n",
       "      <td>47286</td>\n",
       "    </tr>\n",
       "    <tr>\n",
       "      <th>Wearable Technology</th>\n",
       "      <td>-0.015867</td>\n",
       "      <td>289</td>\n",
       "    </tr>\n",
       "    <tr>\n",
       "      <th>Security &amp; Surveillance</th>\n",
       "      <td>-0.027736</td>\n",
       "      <td>869</td>\n",
       "    </tr>\n",
       "    <tr>\n",
       "      <th>Home Audio</th>\n",
       "      <td>-0.053742</td>\n",
       "      <td>3028</td>\n",
       "    </tr>\n",
       "    <tr>\n",
       "      <th>Car Electronics &amp; GPS</th>\n",
       "      <td>-0.077208</td>\n",
       "      <td>5565</td>\n",
       "    </tr>\n",
       "    <tr>\n",
       "      <th>Television &amp; Video</th>\n",
       "      <td>-0.094304</td>\n",
       "      <td>8657</td>\n",
       "    </tr>\n",
       "    <tr>\n",
       "      <th>Portable Audio &amp; Video</th>\n",
       "      <td>-0.122424</td>\n",
       "      <td>14696</td>\n",
       "    </tr>\n",
       "    <tr>\n",
       "      <th>Accessories &amp; Supplies</th>\n",
       "      <td>-0.186064</td>\n",
       "      <td>29726</td>\n",
       "    </tr>\n",
       "    <tr>\n",
       "      <th>Camera &amp; Photo</th>\n",
       "      <td>-0.229123</td>\n",
       "      <td>42490</td>\n",
       "    </tr>\n",
       "    <tr>\n",
       "      <th>Computers &amp; Accessories</th>\n",
       "      <td>-0.271277</td>\n",
       "      <td>57394</td>\n",
       "    </tr>\n",
       "  </tbody>\n",
       "</table>\n",
       "</div>"
      ],
      "text/plain": [
       "                         correlation  number_of_ratings\n",
       "category                                               \n",
       "Headphones                  1.000000              47286\n",
       "Wearable Technology        -0.015867                289\n",
       "Security & Surveillance    -0.027736                869\n",
       "Home Audio                 -0.053742               3028\n",
       "Car Electronics & GPS      -0.077208               5565\n",
       "Television & Video         -0.094304               8657\n",
       "Portable Audio & Video     -0.122424              14696\n",
       "Accessories & Supplies     -0.186064              29726\n",
       "Camera & Photo             -0.229123              42490\n",
       "Computers & Accessories    -0.271277              57394"
      ]
     },
     "execution_count": 96,
     "metadata": {},
     "output_type": "execute_result"
    }
   ],
   "source": [
    "corr_headphones[corr_headphones['number_of_ratings'] > 10].sort_values(by='correlation', ascending=False).head(10)"
   ]
  },
  {
   "cell_type": "markdown",
   "metadata": {},
   "source": [
    "It seems like 'Camera & Photo' is correlated with both 'Computer & Accessories' and 'Headphones'. Therefore, we could recommend the camera and photo catgory since it's similar to the former two categories."
   ]
  },
  {
   "cell_type": "markdown",
   "metadata": {},
   "source": [
    "**Evaluation**"
   ]
  },
  {
   "cell_type": "code",
   "execution_count": 97,
   "metadata": {
    "scrolled": true
   },
   "outputs": [
    {
     "name": "stdout",
     "output_type": "stream",
     "text": [
      "<class 'numpy.ndarray'>\n",
      "(10, 10)\n",
      " \n",
      "\n",
      " <<<<<<<<< sample dataset of the distance matrix >>>>>>>>>>>>>> \n",
      "[[1.         1.         0.99999982 1.         1.         0.99999931\n",
      "  0.99999999 0.99999154 0.99999995 0.99993156]\n",
      " [1.         1.         0.99999979 1.         1.         0.99999926\n",
      "  0.99999998 0.99999135 0.99999993 0.99993101]\n",
      " [0.99999982 0.99999979 1.         0.99999977 0.99999978 0.99999984\n",
      "  0.99999989 0.99999383 0.99999996 0.99993841]\n",
      " [1.         1.         0.99999977 1.         1.         0.99999923\n",
      "  0.99999998 0.99999125 0.99999993 0.99993073]\n",
      " [1.         1.         0.99999978 1.         1.         0.99999924\n",
      "  0.99999998 0.99999131 0.99999993 0.9999309 ]\n",
      " [0.99999931 0.99999926 0.99999984 0.99999923 0.99999924 1.\n",
      "  0.99999946 0.99999568 0.99999963 0.9999446 ]\n",
      " [0.99999999 0.99999998 0.99999989 0.99999998 0.99999998 0.99999946\n",
      "  1.         0.99999206 0.99999998 0.99993307]\n",
      " [0.99999154 0.99999135 0.99999383 0.99999125 0.99999131 0.99999568\n",
      "  0.99999206 1.         0.99999278 0.99997123]\n",
      " [0.99999995 0.99999993 0.99999996 0.99999993 0.99999993 0.99999963\n",
      "  0.99999998 0.99999278 1.         0.99993518]\n",
      " [0.99993156 0.99993101 0.99993841 0.99993073 0.9999309  0.9999446\n",
      "  0.99993307 0.99997123 0.99993518 1.        ]]\n"
     ]
    }
   ],
   "source": [
    "# calcaute the similarity using cosine distance\n",
    "dist_out = 1 - sklearn.metrics.pairwise.cosine_distances(ratings)\n",
    "# the type of the distance matrix will be the same type of the rating matrix\n",
    "print(type(dist_out))\n",
    "# the deminsion of the matrix will be a square matirx of size equal to the number of users .\n",
    "print(dist_out.shape)\n",
    "print(\"\"\" \\n\\n <<<<<<<<< sample dataset of the distance matrix >>>>>>>>>>>>>> \"\"\")\n",
    "print(dist_out)"
   ]
  },
  {
   "cell_type": "code",
   "execution_count": 98,
   "metadata": {},
   "outputs": [
    {
     "name": "stdout",
     "output_type": "stream",
     "text": [
      "\n",
      "\n",
      " user prediction\n",
      "[[3.94128966e+00 2.10001603e+04]\n",
      " [3.94128970e+00 2.10001621e+04]\n",
      " [3.94128925e+00 2.10001384e+04]\n",
      " [3.94128971e+00 2.10001629e+04]\n",
      " [3.94128970e+00 2.10001624e+04]\n",
      " [3.94128885e+00 2.10001175e+04]\n",
      " [3.94128957e+00 2.10001556e+04]\n",
      " [3.94128681e+00 2.10000101e+04]\n",
      " [3.94128945e+00 2.10001489e+04]\n",
      " [3.94128156e+00 2.09997330e+04]]\n"
     ]
    }
   ],
   "source": [
    "# Prediciting unknown ratings for a user\n",
    "user_pred = dist_out.dot(ratings) / np.array([np.abs(dist_out).sum(axis=1)]).T\n",
    "print(\"\\n\\n user prediction\")\n",
    "print(user_pred)"
   ]
  },
  {
   "cell_type": "code",
   "execution_count": 99,
   "metadata": {},
   "outputs": [
    {
     "data": {
      "text/html": [
       "<div>\n",
       "<style scoped>\n",
       "    .dataframe tbody tr th:only-of-type {\n",
       "        vertical-align: middle;\n",
       "    }\n",
       "\n",
       "    .dataframe tbody tr th {\n",
       "        vertical-align: top;\n",
       "    }\n",
       "\n",
       "    .dataframe thead th {\n",
       "        text-align: right;\n",
       "    }\n",
       "</style>\n",
       "<table border=\"1\" class=\"dataframe\">\n",
       "  <thead>\n",
       "    <tr style=\"text-align: right;\">\n",
       "      <th>category</th>\n",
       "      <th>Accessories &amp; Supplies</th>\n",
       "      <th>Camera &amp; Photo</th>\n",
       "      <th>Car Electronics &amp; GPS</th>\n",
       "      <th>Computers &amp; Accessories</th>\n",
       "      <th>Headphones</th>\n",
       "      <th>Home Audio</th>\n",
       "      <th>Portable Audio &amp; Video</th>\n",
       "      <th>Security &amp; Surveillance</th>\n",
       "      <th>Television &amp; Video</th>\n",
       "      <th>Wearable Technology</th>\n",
       "    </tr>\n",
       "    <tr>\n",
       "      <th>user_id</th>\n",
       "      <th></th>\n",
       "      <th></th>\n",
       "      <th></th>\n",
       "      <th></th>\n",
       "      <th></th>\n",
       "      <th></th>\n",
       "      <th></th>\n",
       "      <th></th>\n",
       "      <th></th>\n",
       "      <th></th>\n",
       "    </tr>\n",
       "  </thead>\n",
       "  <tbody>\n",
       "    <tr>\n",
       "      <th>0</th>\n",
       "      <td>0.0</td>\n",
       "      <td>0.0</td>\n",
       "      <td>0.0</td>\n",
       "      <td>0.0</td>\n",
       "      <td>0.0</td>\n",
       "      <td>0.0</td>\n",
       "      <td>5.0</td>\n",
       "      <td>0.0</td>\n",
       "      <td>0.0</td>\n",
       "      <td>0.0</td>\n",
       "    </tr>\n",
       "    <tr>\n",
       "      <th>1</th>\n",
       "      <td>0.0</td>\n",
       "      <td>0.0</td>\n",
       "      <td>0.0</td>\n",
       "      <td>0.0</td>\n",
       "      <td>0.0</td>\n",
       "      <td>0.0</td>\n",
       "      <td>5.0</td>\n",
       "      <td>0.0</td>\n",
       "      <td>0.0</td>\n",
       "      <td>0.0</td>\n",
       "    </tr>\n",
       "    <tr>\n",
       "      <th>2</th>\n",
       "      <td>0.0</td>\n",
       "      <td>0.0</td>\n",
       "      <td>0.0</td>\n",
       "      <td>0.0</td>\n",
       "      <td>0.0</td>\n",
       "      <td>0.0</td>\n",
       "      <td>3.0</td>\n",
       "      <td>0.0</td>\n",
       "      <td>0.0</td>\n",
       "      <td>0.0</td>\n",
       "    </tr>\n",
       "    <tr>\n",
       "      <th>3</th>\n",
       "      <td>0.0</td>\n",
       "      <td>0.0</td>\n",
       "      <td>0.0</td>\n",
       "      <td>0.0</td>\n",
       "      <td>0.0</td>\n",
       "      <td>0.0</td>\n",
       "      <td>1.0</td>\n",
       "      <td>0.0</td>\n",
       "      <td>0.0</td>\n",
       "      <td>0.0</td>\n",
       "    </tr>\n",
       "    <tr>\n",
       "      <th>4</th>\n",
       "      <td>0.0</td>\n",
       "      <td>0.0</td>\n",
       "      <td>0.0</td>\n",
       "      <td>0.0</td>\n",
       "      <td>0.0</td>\n",
       "      <td>0.0</td>\n",
       "      <td>2.0</td>\n",
       "      <td>0.0</td>\n",
       "      <td>0.0</td>\n",
       "      <td>0.0</td>\n",
       "    </tr>\n",
       "  </tbody>\n",
       "</table>\n",
       "</div>"
      ],
      "text/plain": [
       "category  Accessories & Supplies  Camera & Photo  Car Electronics & GPS  \\\n",
       "user_id                                                                   \n",
       "0                            0.0             0.0                    0.0   \n",
       "1                            0.0             0.0                    0.0   \n",
       "2                            0.0             0.0                    0.0   \n",
       "3                            0.0             0.0                    0.0   \n",
       "4                            0.0             0.0                    0.0   \n",
       "\n",
       "category  Computers & Accessories  Headphones  Home Audio  \\\n",
       "user_id                                                     \n",
       "0                             0.0         0.0         0.0   \n",
       "1                             0.0         0.0         0.0   \n",
       "2                             0.0         0.0         0.0   \n",
       "3                             0.0         0.0         0.0   \n",
       "4                             0.0         0.0         0.0   \n",
       "\n",
       "category  Portable Audio & Video  Security & Surveillance  Television & Video  \\\n",
       "user_id                                                                         \n",
       "0                            5.0                      0.0                 0.0   \n",
       "1                            5.0                      0.0                 0.0   \n",
       "2                            3.0                      0.0                 0.0   \n",
       "3                            1.0                      0.0                 0.0   \n",
       "4                            2.0                      0.0                 0.0   \n",
       "\n",
       "category  Wearable Technology  \n",
       "user_id                        \n",
       "0                         0.0  \n",
       "1                         0.0  \n",
       "2                         0.0  \n",
       "3                         0.0  \n",
       "4                         0.0  "
      ]
     },
     "execution_count": 99,
     "metadata": {},
     "output_type": "execute_result"
    }
   ],
   "source": [
    "# Actual ratings given by the users\n",
    "category_matrix.head()"
   ]
  },
  {
   "cell_type": "code",
   "execution_count": 100,
   "metadata": {},
   "outputs": [
    {
     "data": {
      "text/plain": [
       "category\n",
       "Accessories & Supplies     0.620550\n",
       "Camera & Photo             0.823307\n",
       "Car Electronics & GPS      0.114323\n",
       "Computers & Accessories    1.134850\n",
       "Headphones                 0.933387\n",
       "dtype: float64"
      ]
     },
     "execution_count": 100,
     "metadata": {},
     "output_type": "execute_result"
    }
   ],
   "source": [
    "# Average ACTUAL rating for each item\n",
    "category_matrix.mean().head()"
   ]
  },
  {
   "cell_type": "code",
   "execution_count": 101,
   "metadata": {},
   "outputs": [],
   "source": [
    "# Using Singular Value Decomposition\n",
    "\n",
    "U, sigma, Vt = svds(category_matrix, k = 3)"
   ]
  },
  {
   "cell_type": "code",
   "execution_count": 102,
   "metadata": {},
   "outputs": [
    {
     "name": "stdout",
     "output_type": "stream",
     "text": [
      "Left singular matrix: \n",
      " [[-4.62470109e-05  5.09709021e-05 -4.39223818e-05]\n",
      " [-4.62470109e-05  5.09709021e-05 -4.39223818e-05]\n",
      " [-2.77482066e-05  3.05825413e-05 -2.63534291e-05]\n",
      " ...\n",
      " [-5.80624103e-03  4.90088967e-04 -3.21174035e-04]\n",
      " [-4.62470109e-05  5.09709021e-05 -4.39223818e-05]\n",
      " [-4.64499282e-03  3.92071174e-04 -2.56939228e-04]]\n",
      "Sigma: \n",
      " [ 854.98605127  909.50515991 1010.92754556]\n",
      "Right singular matrix: \n",
      " [[-3.92985643e-02 -9.92851018e-01 -1.76731166e-03  5.57538557e-02\n",
      "   9.75442284e-02 -1.37813182e-03 -7.90810985e-03 -4.43325453e-04\n",
      "  -3.36003458e-03 -2.50305381e-04]\n",
      " [ 3.60944769e-02  8.91476889e-02  1.97565119e-03 -1.15072738e-01\n",
      "   9.88636834e-01  1.50021841e-03  9.27165969e-03  4.26595915e-04\n",
      "   3.61080193e-03  1.26295741e-04]\n",
      " [-3.23071221e-02 -6.49367359e-02 -2.39422917e-03 -9.91418679e-01\n",
      "  -1.08253537e-01 -1.98441396e-03 -8.88046913e-03 -5.30751508e-04\n",
      "  -4.56134478e-03 -1.53434595e-04]]\n"
     ]
    }
   ],
   "source": [
    "print('Left singular matrix: \\n',U)\n",
    "print('Sigma: \\n',sigma)\n",
    "print('Right singular matrix: \\n',Vt)"
   ]
  },
  {
   "cell_type": "code",
   "execution_count": 103,
   "metadata": {},
   "outputs": [
    {
     "name": "stdout",
     "output_type": "stream",
     "text": [
      "Diagonal matrix: \n",
      " [[ 854.98605127    0.            0.        ]\n",
      " [   0.          909.50515991    0.        ]\n",
      " [   0.            0.         1010.92754556]]\n"
     ]
    }
   ],
   "source": [
    "# Construct diagonal array in SVD\n",
    "sigma = np.diag(sigma)\n",
    "print('Diagonal matrix: \\n',sigma)"
   ]
  },
  {
   "cell_type": "code",
   "execution_count": 104,
   "metadata": {},
   "outputs": [
    {
     "data": {
      "text/html": [
       "<div>\n",
       "<style scoped>\n",
       "    .dataframe tbody tr th:only-of-type {\n",
       "        vertical-align: middle;\n",
       "    }\n",
       "\n",
       "    .dataframe tbody tr th {\n",
       "        vertical-align: top;\n",
       "    }\n",
       "\n",
       "    .dataframe thead th {\n",
       "        text-align: right;\n",
       "    }\n",
       "</style>\n",
       "<table border=\"1\" class=\"dataframe\">\n",
       "  <thead>\n",
       "    <tr style=\"text-align: right;\">\n",
       "      <th>category</th>\n",
       "      <th>Accessories &amp; Supplies</th>\n",
       "      <th>Camera &amp; Photo</th>\n",
       "      <th>Car Electronics &amp; GPS</th>\n",
       "      <th>Computers &amp; Accessories</th>\n",
       "      <th>Headphones</th>\n",
       "      <th>Home Audio</th>\n",
       "      <th>Portable Audio &amp; Video</th>\n",
       "      <th>Security &amp; Surveillance</th>\n",
       "      <th>Television &amp; Video</th>\n",
       "      <th>Wearable Technology</th>\n",
       "    </tr>\n",
       "  </thead>\n",
       "  <tbody>\n",
       "    <tr>\n",
       "      <th>0</th>\n",
       "      <td>0.004662</td>\n",
       "      <td>0.046274</td>\n",
       "      <td>0.000268</td>\n",
       "      <td>0.036482</td>\n",
       "      <td>0.046781</td>\n",
       "      <td>0.000212</td>\n",
       "      <td>0.001137</td>\n",
       "      <td>0.000061</td>\n",
       "      <td>0.000503</td>\n",
       "      <td>0.000023</td>\n",
       "    </tr>\n",
       "    <tr>\n",
       "      <th>1</th>\n",
       "      <td>0.004662</td>\n",
       "      <td>0.046274</td>\n",
       "      <td>0.000268</td>\n",
       "      <td>0.036482</td>\n",
       "      <td>0.046781</td>\n",
       "      <td>0.000212</td>\n",
       "      <td>0.001137</td>\n",
       "      <td>0.000061</td>\n",
       "      <td>0.000503</td>\n",
       "      <td>0.000023</td>\n",
       "    </tr>\n",
       "    <tr>\n",
       "      <th>2</th>\n",
       "      <td>0.002797</td>\n",
       "      <td>0.027764</td>\n",
       "      <td>0.000161</td>\n",
       "      <td>0.021889</td>\n",
       "      <td>0.028069</td>\n",
       "      <td>0.000127</td>\n",
       "      <td>0.000682</td>\n",
       "      <td>0.000037</td>\n",
       "      <td>0.000302</td>\n",
       "      <td>0.000014</td>\n",
       "    </tr>\n",
       "    <tr>\n",
       "      <th>3</th>\n",
       "      <td>0.000932</td>\n",
       "      <td>0.009255</td>\n",
       "      <td>0.000054</td>\n",
       "      <td>0.007296</td>\n",
       "      <td>0.009356</td>\n",
       "      <td>0.000042</td>\n",
       "      <td>0.000227</td>\n",
       "      <td>0.000012</td>\n",
       "      <td>0.000101</td>\n",
       "      <td>0.000005</td>\n",
       "    </tr>\n",
       "    <tr>\n",
       "      <th>4</th>\n",
       "      <td>0.001865</td>\n",
       "      <td>0.018510</td>\n",
       "      <td>0.000107</td>\n",
       "      <td>0.014593</td>\n",
       "      <td>0.018713</td>\n",
       "      <td>0.000085</td>\n",
       "      <td>0.000455</td>\n",
       "      <td>0.000024</td>\n",
       "      <td>0.000201</td>\n",
       "      <td>0.000009</td>\n",
       "    </tr>\n",
       "  </tbody>\n",
       "</table>\n",
       "</div>"
      ],
      "text/plain": [
       "category  Accessories & Supplies  Camera & Photo  Car Electronics & GPS  \\\n",
       "0                       0.004662        0.046274               0.000268   \n",
       "1                       0.004662        0.046274               0.000268   \n",
       "2                       0.002797        0.027764               0.000161   \n",
       "3                       0.000932        0.009255               0.000054   \n",
       "4                       0.001865        0.018510               0.000107   \n",
       "\n",
       "category  Computers & Accessories  Headphones  Home Audio  \\\n",
       "0                        0.036482    0.046781    0.000212   \n",
       "1                        0.036482    0.046781    0.000212   \n",
       "2                        0.021889    0.028069    0.000127   \n",
       "3                        0.007296    0.009356    0.000042   \n",
       "4                        0.014593    0.018713    0.000085   \n",
       "\n",
       "category  Portable Audio & Video  Security & Surveillance  Television & Video  \\\n",
       "0                       0.001137                 0.000061            0.000503   \n",
       "1                       0.001137                 0.000061            0.000503   \n",
       "2                       0.000682                 0.000037            0.000302   \n",
       "3                       0.000227                 0.000012            0.000101   \n",
       "4                       0.000455                 0.000024            0.000201   \n",
       "\n",
       "category  Wearable Technology  \n",
       "0                    0.000023  \n",
       "1                    0.000023  \n",
       "2                    0.000014  \n",
       "3                    0.000005  \n",
       "4                    0.000009  "
      ]
     },
     "execution_count": 104,
     "metadata": {},
     "output_type": "execute_result"
    }
   ],
   "source": [
    "#Predicted ratings\n",
    "all_user_predicted_ratings = np.dot(np.dot(U, sigma), Vt) \n",
    "\n",
    "# Convert predicted ratings to dataframe\n",
    "preds_cf = pd.DataFrame(all_user_predicted_ratings, columns = category_matrix.columns)\n",
    "preds_cf.head()"
   ]
  },
  {
   "cell_type": "code",
   "execution_count": 105,
   "metadata": {},
   "outputs": [
    {
     "data": {
      "text/plain": [
       "category\n",
       "Accessories & Supplies     0.620550\n",
       "Camera & Photo             0.823307\n",
       "Car Electronics & GPS      0.114323\n",
       "Computers & Accessories    1.134850\n",
       "Headphones                 0.933387\n",
       "dtype: float64"
      ]
     },
     "execution_count": 105,
     "metadata": {},
     "output_type": "execute_result"
    }
   ],
   "source": [
    "# Average ACTUAL rating for each category\n",
    "category_matrix.mean().head()"
   ]
  },
  {
   "cell_type": "code",
   "execution_count": 106,
   "metadata": {},
   "outputs": [
    {
     "data": {
      "text/plain": [
       "category\n",
       "Accessories & Supplies     0.101434\n",
       "Camera & Photo             0.849839\n",
       "Car Electronics & GPS      0.006103\n",
       "Computers & Accessories    1.151131\n",
       "Headphones                 0.955216\n",
       "dtype: float64"
      ]
     },
     "execution_count": 106,
     "metadata": {},
     "output_type": "execute_result"
    }
   ],
   "source": [
    "# Average PREDICTED rating for each item\n",
    "preds_cf.mean().head()"
   ]
  },
  {
   "cell_type": "code",
   "execution_count": 107,
   "metadata": {
    "scrolled": false
   },
   "outputs": [
    {
     "name": "stdout",
     "output_type": "stream",
     "text": [
      "(10, 2)\n"
     ]
    },
    {
     "data": {
      "text/html": [
       "<div>\n",
       "<style scoped>\n",
       "    .dataframe tbody tr th:only-of-type {\n",
       "        vertical-align: middle;\n",
       "    }\n",
       "\n",
       "    .dataframe tbody tr th {\n",
       "        vertical-align: top;\n",
       "    }\n",
       "\n",
       "    .dataframe thead th {\n",
       "        text-align: right;\n",
       "    }\n",
       "</style>\n",
       "<table border=\"1\" class=\"dataframe\">\n",
       "  <thead>\n",
       "    <tr style=\"text-align: right;\">\n",
       "      <th></th>\n",
       "      <th>Avg_actual_ratings</th>\n",
       "      <th>Avg_predicted_ratings</th>\n",
       "      <th>item_index</th>\n",
       "    </tr>\n",
       "    <tr>\n",
       "      <th>category</th>\n",
       "      <th></th>\n",
       "      <th></th>\n",
       "      <th></th>\n",
       "    </tr>\n",
       "  </thead>\n",
       "  <tbody>\n",
       "    <tr>\n",
       "      <th>Accessories &amp; Supplies</th>\n",
       "      <td>0.620550</td>\n",
       "      <td>0.101434</td>\n",
       "      <td>0</td>\n",
       "    </tr>\n",
       "    <tr>\n",
       "      <th>Camera &amp; Photo</th>\n",
       "      <td>0.823307</td>\n",
       "      <td>0.849839</td>\n",
       "      <td>1</td>\n",
       "    </tr>\n",
       "    <tr>\n",
       "      <th>Car Electronics &amp; GPS</th>\n",
       "      <td>0.114323</td>\n",
       "      <td>0.006103</td>\n",
       "      <td>2</td>\n",
       "    </tr>\n",
       "    <tr>\n",
       "      <th>Computers &amp; Accessories</th>\n",
       "      <td>1.134850</td>\n",
       "      <td>1.151131</td>\n",
       "      <td>3</td>\n",
       "    </tr>\n",
       "    <tr>\n",
       "      <th>Headphones</th>\n",
       "      <td>0.933387</td>\n",
       "      <td>0.955216</td>\n",
       "      <td>4</td>\n",
       "    </tr>\n",
       "  </tbody>\n",
       "</table>\n",
       "</div>"
      ],
      "text/plain": [
       "                         Avg_actual_ratings  Avg_predicted_ratings  item_index\n",
       "category                                                                      \n",
       "Accessories & Supplies             0.620550               0.101434           0\n",
       "Camera & Photo                     0.823307               0.849839           1\n",
       "Car Electronics & GPS              0.114323               0.006103           2\n",
       "Computers & Accessories            1.134850               1.151131           3\n",
       "Headphones                         0.933387               0.955216           4"
      ]
     },
     "execution_count": 107,
     "metadata": {},
     "output_type": "execute_result"
    }
   ],
   "source": [
    "# Evaluating through Root-mean-square deviation (RMSE)\n",
    "rmse_cf = pd.concat([category_matrix.mean(), preds_cf.mean()], axis=1)\n",
    "rmse_cf.columns = ['Avg_actual_ratings', 'Avg_predicted_ratings']\n",
    "print(rmse_cf.shape)\n",
    "\n",
    "rmse_cf['item_index'] = np.arange(0, rmse_cf.shape[0], 1)\n",
    "rmse_cf.head()"
   ]
  },
  {
   "cell_type": "code",
   "execution_count": 109,
   "metadata": {},
   "outputs": [
    {
     "name": "stdout",
     "output_type": "stream",
     "text": [
      "\n",
      "RMSE SVD Model = 1815.73609 \n",
      "\n"
     ]
    }
   ],
   "source": [
    "RMSE = round((((rmse.Avg_actual_ratings - rmse.Avg_predicted_ratings) ** 2).mean() ** 0.5), 5)\n",
    "print('\\nRMSE SVD Model = {} \\n'.format(RMSE))"
   ]
  },
  {
   "cell_type": "markdown",
   "metadata": {},
   "source": [
    "# Evaluation\n",
    "\n",
    "In our analysis, I used the following metric to evaluate the performance of our recommender models. \n",
    "\n",
    "- RMSE : Indicates the absolute fit of the model to the data–how close the observed data points are to the model's predicted values. Lower values of RMSE indicate better fit, such as our user-based collaborative model. \n",
    "\n",
    "- Precision and Recall: These are binary metrics used to evaluate models with binary output. Precision at k is the proportion of recommended items in the top-k set that are relevant whereas, recall is the proportion of relevant items found in the top-k recommendations. A system with high recall but low precision returns many results, but most of its predicted labels are incorrect when compared to the training labels. In our KNN model we have a weighted average F1 score of 0.43 which may mean that our model isn't performing well.\n",
    "\n",
    "- Correlation: I used Pearson Correlation matrix to check the correlation between two categories. Next, I recommended the category which is highly correlated to two other similar categories in the category-based model."
   ]
  },
  {
   "cell_type": "markdown",
   "metadata": {},
   "source": [
    "# Insights and Recommendation\n",
    "\n",
    "- The Popularity-based recommender system is a non-personalised recommender system and these are based on frequecy counts, which may be not suitable to the user. Even though this algorithm is easy to implement, it only takes into account the most popular items in the dataset. \n",
    "\n",
    "- The User-based collaborative model finds similar users and gives a recommendation based on what other people with similar patterns appreciated. Our findings indicate that given different product recommendations based on their past purchasing habits of Amazon's electronic products. Further more this model provides a lower RMSE meaning it is a better fit for our predicted recommendations.\n",
    "\n",
    "- KNN Recommender: This model filters the K nearest items for the user. \n",
    "\n",
    "- Category-based Collaborative Filtering is a personalised recommender system, the recommendations are based on the past behavior of the user and it is not dependent on any additional information. This algorithms takes a closer look into the items in the category and the recommends the relevant category based on two similar categories to the user. \n",
    "Moreover, I believe that this model is based as it takes into account an entire category instead of the individual item to recommend to the user. \n"
   ]
  },
  {
   "cell_type": "markdown",
   "metadata": {},
   "source": [
    "## Future Work\n",
    "\n",
    "- I plan on building more recommendation models and evaluating their performance against advanced metrics to derive better performance.\n",
    "- Certain recommender models can be biased, I would like to further implement a model to reduce the biases.\n",
    "- Learn more about the new recommender systems and apply it to my current project.\n",
    "- This is a big dataset and I would like to use Spark to efefctively run the algorithms."
   ]
  },
  {
   "cell_type": "markdown",
   "metadata": {},
   "source": [
    "# Resources:\n",
    "\n",
    "- [Amazon Recommendations](http://rejoiner.com/resources/amazon-recommendations-secret-selling-online/)\n",
    "- [Singular Value Decomposition](https://www.freecodecamp.org/news/singular-value-decomposition-vs-matrix-factorization-in-recommender-systems-b1e99bc73599/)\n",
    "- [Scikit-Learn Evaluation Metrics](https://scikit-learn.org/stable/modules/generated/sklearn.metrics.mean_squared_error.html)\n",
    "\n"
   ]
  }
 ],
 "metadata": {
  "kernelspec": {
   "display_name": "Python 3",
   "language": "python",
   "name": "python3"
  },
  "language_info": {
   "codemirror_mode": {
    "name": "ipython",
    "version": 3
   },
   "file_extension": ".py",
   "mimetype": "text/x-python",
   "name": "python",
   "nbconvert_exporter": "python",
   "pygments_lexer": "ipython3",
   "version": "3.7.3"
  }
 },
 "nbformat": 4,
 "nbformat_minor": 4
}
